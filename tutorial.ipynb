{
 "cells": [
  {
   "cell_type": "markdown",
   "metadata": {},
   "source": [
    "# Tutorial"
   ]
  },
  {
   "cell_type": "markdown",
   "metadata": {},
   "source": [
    "## Compare Visualizer"
   ]
  },
  {
   "cell_type": "code",
   "execution_count": 1,
   "metadata": {},
   "outputs": [],
   "source": [
    "import nnmoduletools\n",
    "import numpy as np"
   ]
  },
  {
   "cell_type": "code",
   "execution_count": 2,
   "metadata": {},
   "outputs": [],
   "source": [
    "# make fake reference data\n",
    "fn2 = np.arange(1*32*3*3).reshape((1, 32, 1, 3, 3)).astype(float) - 16*3*3\n",
    "fn1 = fn2 + np.random.random((1, 32, 1, 3, 3)) * 0.005 - 0.0025\n",
    "\n",
    "fn1[0][0][0][2] = np.nan\n",
    "fn1[0][1][0][1] = float(\"inf\")\n",
    "fn1[0][2][0][0] = -float(\"inf\")\n",
    "\n",
    "err_fn = \"err.npz\"\n",
    "np.savez(err_fn, darray_actual=fn1, darray_desired=fn2)\n",
    "tpu_fn = \"darray_tpu_out.npz\"\n",
    "model_fn = \"darray_model_out.npz\"\n",
    "np.savez(model_fn, darray=fn1)\n",
    "np.savez(tpu_fn, darray=fn2)"
   ]
  },
  {
   "cell_type": "code",
   "execution_count": 3,
   "metadata": {},
   "outputs": [
    {
     "name": "stderr",
     "output_type": "stream",
     "text": [
      "Loading NPZ: 100%|██████████| 1/1 [00:00<00:00, 21399.51it/s]"
     ]
    },
    {
     "name": "stdout",
     "output_type": "stream",
     "text": [
      "Target tensors: 1, Ref tensors: 1, Common tensors: 1, Unmatched tensors:0\n",
      "tensor='darray', #shape (1, 32, 1, 3, 3)\n"
     ]
    },
    {
     "name": "stderr",
     "output_type": "stream",
     "text": [
      "\n"
     ]
    }
   ],
   "source": [
    "a = nnmoduletools.NPZComparer(fn1, fn2) # npz file name, npz file, dict-like object or np.darray is OK\n",
    "# a = nnmoduletools.err_comparer(err_fn) # generate your files into one npz with ${tensor_name}_actual and ${tensor_name}_desired. Large files may be slow.\n",
    "# a = nnmoduletools.model_tpu_comparer(tpu_fn) # or\n",
    "# a = nnmoduletools.model_tpu_comparer(model_fn) # if you use tpu-mlir and want to compare model and tpu output npzs. Specify either of them.\n",
    "\n",
    "a.info() # prints the tensor names and shape of common data\n",
    "# a.ref.info() # prints the tensor names and shape of reference data\n",
    "# a.target.info() # prints the tensor names and shape of target data"
   ]
  },
  {
   "cell_type": "code",
   "execution_count": 4,
   "metadata": {},
   "outputs": [
    {
     "name": "stdout",
     "output_type": "stream",
     "text": [
      "Target tensors: 1, Ref tensors: 1, Common tensors: 1, Unmatched tensors:0\n"
     ]
    },
    {
     "name": "stderr",
     "output_type": "stream",
     "text": [
      "Comparing: 100%|██████████| 1/1 [00:00<00:00, 43.02it/s]"
     ]
    },
    {
     "name": "stdout",
     "output_type": "stream",
     "text": [
      "tensor='darray', #(1, 32, 1, 3, 3) similarity: (0.047844, -0.989060, 0.009554)\n",
      "min_similarity: (0.04784388248415048, -0.9890596727245922, 0.009553699775492553)\n"
     ]
    },
    {
     "name": "stderr",
     "output_type": "stream",
     "text": [
      "\n"
     ]
    },
    {
     "data": {
      "text/plain": [
       "True"
      ]
     },
     "execution_count": 4,
     "metadata": {},
     "output_type": "execute_result"
    }
   ],
   "source": [
    "a.compare() # do compare like npz_tool"
   ]
  },
  {
   "cell_type": "code",
   "execution_count": 5,
   "metadata": {},
   "outputs": [
    {
     "name": "stdout",
     "output_type": "stream",
     "text": [
      "Target tensors: 1, Ref tensors: 1, Common tensors: 1, Unmatched tensors:0\n"
     ]
    },
    {
     "name": "stderr",
     "output_type": "stream",
     "text": [
      "Comparing: 100%|██████████| 1/1 [00:00<00:00, 43.36it/s]"
     ]
    },
    {
     "name": "stdout",
     "output_type": "stream",
     "text": [
      "\u001b[31mtensor='darray', #(1, 32, 1, 3, 3) similarity: (0.047844, -0.989060, 0.009554) ×\u001b[0m\n",
      "\u001b[31mmin_similarity: (0.04784388248415048, -0.9890596727245922, 0.009553699775492553) ×\u001b[0m\n"
     ]
    },
    {
     "name": "stderr",
     "output_type": "stream",
     "text": [
      "\n"
     ]
    },
    {
     "data": {
      "text/plain": [
       "False"
      ]
     },
     "execution_count": 5,
     "metadata": {},
     "output_type": "execute_result"
    }
   ],
   "source": [
    "a.compare(tolerance=(0.999, 0.99)) # set tolerance to see whether all tensors have passed"
   ]
  },
  {
   "cell_type": "code",
   "execution_count": 6,
   "metadata": {},
   "outputs": [
    {
     "name": "stdout",
     "output_type": "stream",
     "text": [
      "Target tensors: 1, Ref tensors: 1, Common tensors: 1, Unmatched tensors:0\n"
     ]
    },
    {
     "name": "stderr",
     "output_type": "stream",
     "text": [
      "Comparing: 100%|██████████| 1/1 [00:00<00:00, 41.20it/s]"
     ]
    },
    {
     "name": "stdout",
     "output_type": "stream",
     "text": [
      "\u001b[31mtensor='darray', #(1, 32, 1, 3, 3) similarity: (0.047844, -0.989060, 0.009554) ×\u001b[0m\n",
      "tensor='darray', # original shape (1, 32, 1, 3, 3), shape (1, 32, 1, 3, 3), reshaped to (1, 32, 3, 3), shown in (1, 32, 3, 3)\n",
      "similarity: (0.047844, -0.989060, 0.009554), tolerance: abs 1e-08, rel 0.001\n",
      "top 10 errors:\n",
      "               index          target             ref        abs_diff        rel_diff\n",
      "        (0, 0, 2, 0)             nan      -138.00000 \u001b[31m            nan\u001b[0m \u001b[31m            nan\u001b[0m \u001b[31m!!!!!!!!!!!!!!!!!!!!!!!!!!!!!!!!!!!!!!!!!!!!!!!!!!!!!!!!!!!!!!!!!!!!!!!!!!!!!!!!!!!!!!!!!!!!!!!!!!!!\u001b[0m\n",
      "        (0, 0, 2, 1)             nan      -137.00000 \u001b[31m            nan\u001b[0m \u001b[31m            nan\u001b[0m \u001b[31m!!!!!!!!!!!!!!!!!!!!!!!!!!!!!!!!!!!!!!!!!!!!!!!!!!!!!!!!!!!!!!!!!!!!!!!!!!!!!!!!!!!!!!!!!!!!!!!!!!!!\u001b[0m\n",
      "        (0, 0, 2, 2)             nan      -136.00000 \u001b[31m            nan\u001b[0m \u001b[31m            nan\u001b[0m \u001b[31m!!!!!!!!!!!!!!!!!!!!!!!!!!!!!!!!!!!!!!!!!!!!!!!!!!!!!!!!!!!!!!!!!!!!!!!!!!!!!!!!!!!!!!!!!!!!!!!!!!!!\u001b[0m\n",
      "        (0, 1, 1, 0)             inf      -132.00000 \u001b[31m            inf\u001b[0m \u001b[31m            inf\u001b[0m \u001b[31m!!!!!!!!!!!!!!!!!!!!!!!!!!!!!!!!!!!!!!!!!!!!!!!!!!!!!!!!!!!!!!!!!!!!!!!!!!!!!!!!!!!!!!!!!!!!!!!!!!!!\u001b[0m\n",
      "        (0, 1, 1, 1)             inf      -131.00000 \u001b[31m            inf\u001b[0m \u001b[31m            inf\u001b[0m \u001b[31m!!!!!!!!!!!!!!!!!!!!!!!!!!!!!!!!!!!!!!!!!!!!!!!!!!!!!!!!!!!!!!!!!!!!!!!!!!!!!!!!!!!!!!!!!!!!!!!!!!!!\u001b[0m\n",
      "        (0, 1, 1, 2)             inf      -130.00000 \u001b[31m            inf\u001b[0m \u001b[31m            inf\u001b[0m \u001b[31m!!!!!!!!!!!!!!!!!!!!!!!!!!!!!!!!!!!!!!!!!!!!!!!!!!!!!!!!!!!!!!!!!!!!!!!!!!!!!!!!!!!!!!!!!!!!!!!!!!!!\u001b[0m\n",
      "        (0, 2, 0, 0)            -inf      -126.00000 \u001b[34m           -inf\u001b[0m \u001b[34m           -inf\u001b[0m \u001b[34m!!!!!!!!!!!!!!!!!!!!!!!!!!!!!!!!!!!!!!!!!!!!!!!!!!!!!!!!!!!!!!!!!!!!!!!!!!!!!!!!!!!!!!!!!!!!!!!!!!!!\u001b[0m\n",
      "        (0, 2, 0, 2)            -inf      -124.00000 \u001b[34m           -inf\u001b[0m \u001b[34m           -inf\u001b[0m \u001b[34m!!!!!!!!!!!!!!!!!!!!!!!!!!!!!!!!!!!!!!!!!!!!!!!!!!!!!!!!!!!!!!!!!!!!!!!!!!!!!!!!!!!!!!!!!!!!!!!!!!!!\u001b[0m\n",
      "        (0, 2, 0, 1)            -inf      -125.00000 \u001b[34m           -inf\u001b[0m \u001b[34m           -inf\u001b[0m \u001b[34m!!!!!!!!!!!!!!!!!!!!!!!!!!!!!!!!!!!!!!!!!!!!!!!!!!!!!!!!!!!!!!!!!!!!!!!!!!!!!!!!!!!!!!!!!!!!!!!!!!!!\u001b[0m\n",
      "       (0, 16, 0, 0)    0.0020715086       0.0000000 \u001b[31m   0.0020715086\u001b[0m \u001b[31m      207.15086\u001b[0m \u001b[31m!!!!!!!!!!!!!!!!!!!!!!!!!!!!!!!!!!!!!!!!!!!!!!!!!!!!!!!!!!!!!!!!!!!!!!!!!!!!!!!!!!!!!!!!!!!!!!!!!!!!\u001b[0m\n",
      "\n",
      "\u001b[31mmin_similarity: (0.04784388248415048, -0.9890596727245922, 0.009553699775492553) ×\u001b[0m\n"
     ]
    },
    {
     "name": "stderr",
     "output_type": "stream",
     "text": [
      "\n"
     ]
    },
    {
     "data": {
      "text/plain": [
       "False"
      ]
     },
     "execution_count": 6,
     "metadata": {},
     "output_type": "execute_result"
    }
   ],
   "source": [
    "a.compare(tolerance=(0.999, 0.99), verbose=2) # dump top-10 error data when failed. will reshape to 4D now."
   ]
  },
  {
   "cell_type": "code",
   "execution_count": 7,
   "metadata": {},
   "outputs": [
    {
     "name": "stderr",
     "output_type": "stream",
     "text": [
      "Comparing: 100%|██████████| 1/1 [00:00<00:00, 42.83it/s]"
     ]
    },
    {
     "name": "stdout",
     "output_type": "stream",
     "text": [
      "\u001b[31mtensor='darray', #(1, 32, 1, 3, 3) similarity: (0.047844, -0.989060, 0.009554) ×\u001b[0m\n",
      "\u001b[31mmin_similarity: (0.04784388248415048, -0.9890596727245922, 0.009553699775492553) ×\u001b[0m\n"
     ]
    },
    {
     "name": "stderr",
     "output_type": "stream",
     "text": [
      "\n"
     ]
    },
    {
     "data": {
      "text/plain": [
       "False"
      ]
     },
     "execution_count": 7,
     "metadata": {},
     "output_type": "execute_result"
    }
   ],
   "source": [
    "a.compare(tolerance=(0.9999, 0.9999), tensor='darray') # compare specific tensor(s)\n",
    "# a.compare(tolerance=(0.999, 0.999), tensor=['darray'])"
   ]
  },
  {
   "cell_type": "code",
   "execution_count": 8,
   "metadata": {},
   "outputs": [
    {
     "name": "stdout",
     "output_type": "stream",
     "text": [
      "tensor='darray',\n",
      "shape (1, 32, 1, 3, 3), reshaped to (1, 32, 3, 3), shown in (1, 32, 3, 3)\n",
      "data distribution: mean 3.7098764261350623, min -144.00008782426158, max 142.99937692746119\n",
      "vmin -144.00008782426158 zero point 0.0 vmax 144.00008782426158 \n"
     ]
    },
    {
     "data": {
      "image/png": "[encoded data removed]",
      "text/plain": [
       "<Figure size 1600x350 with 1 Axes>"
      ]
     },
     "metadata": {},
     "output_type": "display_data"
    },
    {
     "name": "stdout",
     "output_type": "stream",
     "text": [
      "tensor='darray',\n",
      "shape (1, 32, 1, 3, 3), reshaped to (1, 32, 3, 3), shown in (1, 32, 3, 3)\n",
      "data distribution: mean -0.5, min -144.0, max 143.0\n",
      "vmin -144.00008782426158 zero point 0.0 vmax 144.00008782426158 \n"
     ]
    },
    {
     "data": {
      "image/png": "[encoded data removed]",
      "text/plain": [
       "<Figure size 1600x350 with 1 Axes>"
      ]
     },
     "metadata": {},
     "output_type": "display_data"
    },
    {
     "name": "stdout",
     "output_type": "stream",
     "text": [
      "abs tol 1e-08, rel tol 0\n",
      "tensor='darray',\n",
      "Max of abs diff: neg -0.0024944982720285225, pos 0.0024806208937349083, mean 0.00019900678022626334\n",
      "Abs of abs diff: min 8.435148401986226e-07, max 0.0024944982720285225, mean 0.0012116886591528743\n",
      "similarity: (0.047843882484150474, -0.9890596727245924, 0.009553699775492553)\n",
      "diffmin -0.01 diffmax 0.01\n"
     ]
    },
    {
     "data": {
      "image/png": "[encoded data removed]",
      "text/plain": [
       "<Figure size 1600x350 with 1 Axes>"
      ]
     },
     "metadata": {},
     "output_type": "display_data"
    }
   ],
   "source": [
    "# a.plot_target( # plot the data distribution of target data\n",
    "# a.plot_ref( # plot the data distribution of reference data\n",
    "# a.plot_diff( # plot the difference of target and reference\n",
    "a.plot_vs( # plot the previous three things\n",
    "    abs_tol=1e-8, # default 1e-8; diff within tol will be treated as no difference. \n",
    "    rel_tol=0, # default 1e-3; either tolrence pass will be treated as pass; if assigned rel_tol, rel diff values are rescaled (= diff / (atol + rtol * abs(ref))), not original value.\n",
    "    diffmin=-0.01, diffmax=0.01, # min max value of diff plot color map. will be forced to symmetric.\n",
    "    figsize=16, # the vertical size of generated figure, change it to make the figure clear. Horizontal size will be calculated automatically.\n",
    "    c_columns=32, # channels on every row\n",
    "\n",
    "    # tensor=None, # default; plot ALL the tensors. May cause OOM for large files, use with care\n",
    "    tensor='darray', # tensor name, will be printed out before the figure. if np.darray, name is \"darray\". You can triple click the line printed out by .compare() or .info(), copy it and paste here for convinience.\n",
    "    # tensor=['darray'], # plot a list of tensors\n",
    "\n",
    "    # slices=(slice(0, 1), slice(2, 8)), # slice the ORIGINAL darray, passing slice object\n",
    "    # slices=((0, 1), (2, 8)), # passing list or tuple of (end, ) or (start, end[, step])\n",
    "    # slices=(0, 1), # just slice the given index, equal to slice(index, index+1)\n",
    "    # slices=(0, -1), # -1 is equal to slice(None)\n",
    "    # slices=(-1, None, -1, -1, -1), # use this trick to expand dim\n",
    "    # slices=(-1, None, 64, slice(0, 2), (1, 2)), # you can use mixture of them\n",
    "\n",
    "    # mix_axis=[1, 2], # for 5-or-more-dim data, merge the given dims so as to get a 4D (N, C, H, W) darray. if None, merge extra dims to C.\n",
    "\n",
    "    # resize_hw=\"rectangle\", # resize to nearest rectangle, no padding. If you encounter errors like \"fig size too big\", try this.\n",
    "    # resize_hw=\"auto\", # same to \"rectangle\"\n",
    "    resize_hw=\"square\", # resize to nearest square, with padding\n",
    "    # resize_hw=(-1, -1), # same to \"square\"\n",
    "    # resize_hw=(5, 2), # resize to specific shape, with padding\n",
    "    # resize_hw=(-1, 4), # resize to specific shape, self calculate h, with padding\n",
    "    # resize_hw=(4, -1), # resize to specific shape, self calculate w, with padding\n",
    "    # resize_hw=None, # or\n",
    "    # resize_hw=\"none\", # do not resize (default)\n",
    "\n",
    "    # index=(0, 0), # zoom in the index in the FIGURE, idx left(right) then top(bottom)\n",
    "    # transpose_hw=True # transpose the data before resize_hw. The output figure shape will also be transposed if resize_hw is none or rectangle.\n",
    "\n",
    "    # zero_point=0., # zero point of the data color map, default None, the mean of target and ref data\n",
    "    # vmin=-1, vmax=1, # min max value of data color map, default None, the min and max of target and ref data. will be forced to symmetric.\n",
    "    # dump=True, # whether do dump_vs after plot_vs (next cell)\n",
    "    # verbose=True, # no use, pass to dump_vs if dump=True\n",
    ")"
   ]
  },
  {
   "cell_type": "code",
   "execution_count": 9,
   "metadata": {},
   "outputs": [
    {
     "name": "stdout",
     "output_type": "stream",
     "text": [
      "tensor='darray', # original shape (1, 32, 1, 3, 3), shape (1, 32, 1, 3, 3), reshaped to (1, 32, 3, 3), shown in (1, 32, 3, 3)\n",
      "similarity: (0.047844, -0.989060, 0.009554), tolerance: abs 1e-08, rel 0.001\n",
      "               index          target             ref        abs_diff        rel_diff\n",
      "        (0, 0, 2, 0)             nan      -138.00000 \u001b[31m            nan\u001b[0m \u001b[31m            nan\u001b[0m \u001b[31m!!!!!!!!!!!!!!!!!!!!!!!!!!!!!!!!!!!!!!!!!!!!!!!!!!!!!!!!!!!!!!!!!!!!!!!!!!!!!!!!!!!!!!!!!!!!!!!!!!!!\u001b[0m\n",
      "        (0, 0, 2, 1)             nan      -137.00000 \u001b[31m            nan\u001b[0m \u001b[31m            nan\u001b[0m \u001b[31m!!!!!!!!!!!!!!!!!!!!!!!!!!!!!!!!!!!!!!!!!!!!!!!!!!!!!!!!!!!!!!!!!!!!!!!!!!!!!!!!!!!!!!!!!!!!!!!!!!!!\u001b[0m\n",
      "        (0, 0, 2, 2)             nan      -136.00000 \u001b[31m            nan\u001b[0m \u001b[31m            nan\u001b[0m \u001b[31m!!!!!!!!!!!!!!!!!!!!!!!!!!!!!!!!!!!!!!!!!!!!!!!!!!!!!!!!!!!!!!!!!!!!!!!!!!!!!!!!!!!!!!!!!!!!!!!!!!!!\u001b[0m\n",
      "        (0, 1, 1, 0)             inf      -132.00000 \u001b[31m            inf\u001b[0m \u001b[31m            inf\u001b[0m \u001b[31m!!!!!!!!!!!!!!!!!!!!!!!!!!!!!!!!!!!!!!!!!!!!!!!!!!!!!!!!!!!!!!!!!!!!!!!!!!!!!!!!!!!!!!!!!!!!!!!!!!!!\u001b[0m\n",
      "        (0, 1, 1, 1)             inf      -131.00000 \u001b[31m            inf\u001b[0m \u001b[31m            inf\u001b[0m \u001b[31m!!!!!!!!!!!!!!!!!!!!!!!!!!!!!!!!!!!!!!!!!!!!!!!!!!!!!!!!!!!!!!!!!!!!!!!!!!!!!!!!!!!!!!!!!!!!!!!!!!!!\u001b[0m\n",
      "        (0, 1, 1, 2)             inf      -130.00000 \u001b[31m            inf\u001b[0m \u001b[31m            inf\u001b[0m \u001b[31m!!!!!!!!!!!!!!!!!!!!!!!!!!!!!!!!!!!!!!!!!!!!!!!!!!!!!!!!!!!!!!!!!!!!!!!!!!!!!!!!!!!!!!!!!!!!!!!!!!!!\u001b[0m\n",
      "        (0, 2, 0, 0)            -inf      -126.00000 \u001b[34m           -inf\u001b[0m \u001b[34m           -inf\u001b[0m \u001b[34m!!!!!!!!!!!!!!!!!!!!!!!!!!!!!!!!!!!!!!!!!!!!!!!!!!!!!!!!!!!!!!!!!!!!!!!!!!!!!!!!!!!!!!!!!!!!!!!!!!!!\u001b[0m\n",
      "        (0, 2, 0, 1)            -inf      -125.00000 \u001b[34m           -inf\u001b[0m \u001b[34m           -inf\u001b[0m \u001b[34m!!!!!!!!!!!!!!!!!!!!!!!!!!!!!!!!!!!!!!!!!!!!!!!!!!!!!!!!!!!!!!!!!!!!!!!!!!!!!!!!!!!!!!!!!!!!!!!!!!!!\u001b[0m\n",
      "        (0, 2, 0, 2)            -inf      -124.00000 \u001b[34m           -inf\u001b[0m \u001b[34m           -inf\u001b[0m \u001b[34m!!!!!!!!!!!!!!!!!!!!!!!!!!!!!!!!!!!!!!!!!!!!!!!!!!!!!!!!!!!!!!!!!!!!!!!!!!!!!!!!!!!!!!!!!!!!!!!!!!!!\u001b[0m\n",
      "       (0, 15, 2, 2)      -1.0014512      -1.0000000 \u001b[34m  -0.0014512224\u001b[0m \u001b[34m  -0.0014512079\u001b[0m \u001b[34m!\u001b[0m\n",
      "       (0, 16, 0, 0)    0.0020715086       0.0000000 \u001b[31m   0.0020715086\u001b[0m \u001b[31m      207.15086\u001b[0m \u001b[31m!!!!!!!!!!!!!!!!!!!!!!!!!!!!!!!!!!!!!!!!!!!!!!!!!!!!!!!!!!!!!!!!!!!!!!!!!!!!!!!!!!!!!!!!!!!!!!!!!!!!\u001b[0m\n",
      "\n"
     ]
    }
   ],
   "source": [
    "# feature: dump_vs\n",
    "a.dump_vs( # same arguments as plot_vs, but print the data instead of plotting. Indexes are corresponding. Use as a reference when plot is not clear.\n",
    "    # abs_tol=0.001, # default 1e-8\n",
    "    # rel_tol=0.01, # default 1e-3; either tolrence pass will be treated as pass; print \"!\" if not pass, the number of \"!\" is abs(diff) // (atol + rtol * abs(ref)), max to 100.\n",
    "    c_columns=32, # channels on every row\n",
    "\n",
    "    # tensor=None, # default; print ALL the tensors. May crash for large arrays, use with care\n",
    "    tensor='darray', # tensor name, will be printed out before the print. if np.darray, name is \"darray\".\n",
    "    # tensor=['darray'], # print a list of tensors\n",
    "\n",
    "    # slices=(slice(0, 1), slice(2, 8)), # slice the ORIGINAL darray, passing slice object\n",
    "    # slices=((0, 1), (2, 8)), # passing list or tuple of (end, ) or (start, end[, step])\n",
    "    # slices=(0, 1), # just slice the given index, equal to slice(index, index+1)\n",
    "    # slices=(0, -1), # -1 is equal to slice(None)\n",
    "    # slices=(-1, None, -1, -1, -1), # use this trick to expand dim\n",
    "    # slices=(-1, None, 64, slice(0, 2), (1, 2)), # you can use mixture of them\n",
    "\n",
    "    # mix_axis=[1, 2], # for 5-or-more-d data, merge the given dims so as to get a 4D (N, C, H, W) darray. if None, merge extra dims to C.\n",
    "\n",
    "    # resize_hw=\"rectangle\", # resize to nearest rectangle, no padding.\n",
    "    # resize_hw=\"auto\", # same to \"rectangle\"\n",
    "    # resize_hw=\"square\", # resize to nearest square, with padding\n",
    "    # resize_hw=(-1, -1), # same to \"square\"\n",
    "    # resize_hw=(2, 3), # resize to specific shape, with padding\n",
    "    # resize_hw=(-1, 3), # resize to specific shape, self calculate h, with padding\n",
    "    # resize_hw=(3, -1), # resize to specific shape, self calculate w, with padding\n",
    "    # resize_hw=None, # or\n",
    "    # resize_hw=\"none\", # do not resize (default)\n",
    "\n",
    "    # index=(0, 0), # zoom in the index in the plot_vs figure, idx left(right) then top(bottom)\n",
    "    # transpose_hw=True # transpose the data before resize_hw. The output shape will also be transposed if resize_hw is none or rectangle.\n",
    "\n",
    "    # verbose=True, # print all the indexes. If False, only print the indexes that do not pass the tolerance.\n",
    "    # top_k = 20 # print the most K error indexes\n",
    ")"
   ]
  },
  {
   "cell_type": "code",
   "execution_count": 10,
   "metadata": {},
   "outputs": [
    {
     "name": "stdout",
     "output_type": "stream",
     "text": [
      "tensor='darray', # original shape (1, 32, 1, 3, 3), shape (1, 32, 1, 3, 3), reshaped to (1, 32, 3, 3), shown in (1, 32, 3, 3)\n",
      "similarity: (0.047844, -0.989060, 0.009554), tolerance: abs 1e-08, rel 0\n",
      "top 20 errors:\n",
      "               index          target             ref        abs_diff        rel_diff\n",
      "        (0, 0, 2, 2)             nan      -136.00000 \u001b[31m            nan\u001b[0m \u001b[31m            nan\u001b[0m \u001b[31m!!!!!!!!!!!!!!!!!!!!!!!!!!!!!!!!!!!!!!!!!!!!!!!!!!!!!!!!!!!!!!!!!!!!!!!!!!!!!!!!!!!!!!!!!!!!!!!!!!!!\u001b[0m\n",
      "        (0, 0, 2, 0)             nan      -138.00000 \u001b[31m            nan\u001b[0m \u001b[31m            nan\u001b[0m \u001b[31m!!!!!!!!!!!!!!!!!!!!!!!!!!!!!!!!!!!!!!!!!!!!!!!!!!!!!!!!!!!!!!!!!!!!!!!!!!!!!!!!!!!!!!!!!!!!!!!!!!!!\u001b[0m\n",
      "        (0, 0, 2, 1)             nan      -137.00000 \u001b[31m            nan\u001b[0m \u001b[31m            nan\u001b[0m \u001b[31m!!!!!!!!!!!!!!!!!!!!!!!!!!!!!!!!!!!!!!!!!!!!!!!!!!!!!!!!!!!!!!!!!!!!!!!!!!!!!!!!!!!!!!!!!!!!!!!!!!!!\u001b[0m\n",
      "        (0, 2, 0, 0)            -inf      -126.00000 \u001b[34m           -inf\u001b[0m \u001b[34m           -inf\u001b[0m \u001b[34m!!!!!!!!!!!!!!!!!!!!!!!!!!!!!!!!!!!!!!!!!!!!!!!!!!!!!!!!!!!!!!!!!!!!!!!!!!!!!!!!!!!!!!!!!!!!!!!!!!!!\u001b[0m\n",
      "        (0, 1, 1, 1)             inf      -131.00000 \u001b[31m            inf\u001b[0m \u001b[31m            inf\u001b[0m \u001b[31m!!!!!!!!!!!!!!!!!!!!!!!!!!!!!!!!!!!!!!!!!!!!!!!!!!!!!!!!!!!!!!!!!!!!!!!!!!!!!!!!!!!!!!!!!!!!!!!!!!!!\u001b[0m\n",
      "        (0, 2, 0, 1)            -inf      -125.00000 \u001b[34m           -inf\u001b[0m \u001b[34m           -inf\u001b[0m \u001b[34m!!!!!!!!!!!!!!!!!!!!!!!!!!!!!!!!!!!!!!!!!!!!!!!!!!!!!!!!!!!!!!!!!!!!!!!!!!!!!!!!!!!!!!!!!!!!!!!!!!!!\u001b[0m\n",
      "        (0, 2, 0, 2)            -inf      -124.00000 \u001b[34m           -inf\u001b[0m \u001b[34m           -inf\u001b[0m \u001b[34m!!!!!!!!!!!!!!!!!!!!!!!!!!!!!!!!!!!!!!!!!!!!!!!!!!!!!!!!!!!!!!!!!!!!!!!!!!!!!!!!!!!!!!!!!!!!!!!!!!!!\u001b[0m\n",
      "        (0, 1, 1, 0)             inf      -132.00000 \u001b[31m            inf\u001b[0m \u001b[31m            inf\u001b[0m \u001b[31m!!!!!!!!!!!!!!!!!!!!!!!!!!!!!!!!!!!!!!!!!!!!!!!!!!!!!!!!!!!!!!!!!!!!!!!!!!!!!!!!!!!!!!!!!!!!!!!!!!!!\u001b[0m\n",
      "        (0, 1, 1, 2)             inf      -130.00000 \u001b[31m            inf\u001b[0m \u001b[31m            inf\u001b[0m \u001b[31m!!!!!!!!!!!!!!!!!!!!!!!!!!!!!!!!!!!!!!!!!!!!!!!!!!!!!!!!!!!!!!!!!!!!!!!!!!!!!!!!!!!!!!!!!!!!!!!!!!!!\u001b[0m\n",
      "        (0, 4, 2, 0)      -102.00249      -102.00000 \u001b[34m  -0.0024944983\u001b[0m \u001b[34m -2.4455865e-05\u001b[0m \u001b[34m!!!!!!!!!!!!!!!!!!!!!!!!!!!!!!!!!!!!!!!!!!!!!!!!!!!!!!!!!!!!!!!!!!!!!!!!!!!!!!!!!!!!!!!!!!!!!!!!!!!!\u001b[0m\n",
      "       (0, 14, 1, 2)      -13.002481      -13.000000 \u001b[34m  -0.0024814910\u001b[0m \u001b[34m -0.00019088392\u001b[0m \u001b[34m!!!!!!!!!!!!!!!!!!!!!!!!!!!!!!!!!!!!!!!!!!!!!!!!!!!!!!!!!!!!!!!!!!!!!!!!!!!!!!!!!!!!!!!!!!!!!!!!!!!!\u001b[0m\n",
      "        (0, 8, 0, 1)      -70.997519      -71.000000 \u001b[31m   0.0024806209\u001b[0m \u001b[31m  3.4938322e-05\u001b[0m \u001b[31m!!!!!!!!!!!!!!!!!!!!!!!!!!!!!!!!!!!!!!!!!!!!!!!!!!!!!!!!!!!!!!!!!!!!!!!!!!!!!!!!!!!!!!!!!!!!!!!!!!!!\u001b[0m\n",
      "       (0, 29, 2, 0)       123.00248       123.00000 \u001b[31m   0.0024785204\u001b[0m \u001b[31m  2.0150573e-05\u001b[0m \u001b[31m!!!!!!!!!!!!!!!!!!!!!!!!!!!!!!!!!!!!!!!!!!!!!!!!!!!!!!!!!!!!!!!!!!!!!!!!!!!!!!!!!!!!!!!!!!!!!!!!!!!!\u001b[0m\n",
      "        (0, 5, 2, 0)      -93.002471      -93.000000 \u001b[34m  -0.0024707229\u001b[0m \u001b[34m -2.6566913e-05\u001b[0m \u001b[34m!!!!!!!!!!!!!!!!!!!!!!!!!!!!!!!!!!!!!!!!!!!!!!!!!!!!!!!!!!!!!!!!!!!!!!!!!!!!!!!!!!!!!!!!!!!!!!!!!!!!\u001b[0m\n",
      "       (0, 22, 1, 1)       58.002455       58.000000 \u001b[31m   0.0024546439\u001b[0m \u001b[31m  4.2321446e-05\u001b[0m \u001b[31m!!!!!!!!!!!!!!!!!!!!!!!!!!!!!!!!!!!!!!!!!!!!!!!!!!!!!!!!!!!!!!!!!!!!!!!!!!!!!!!!!!!!!!!!!!!!!!!!!!!!\u001b[0m\n",
      "       (0, 11, 0, 1)      -44.002454      -44.000000 \u001b[34m  -0.0024541393\u001b[0m \u001b[34m -5.5775892e-05\u001b[0m \u001b[34m!!!!!!!!!!!!!!!!!!!!!!!!!!!!!!!!!!!!!!!!!!!!!!!!!!!!!!!!!!!!!!!!!!!!!!!!!!!!!!!!!!!!!!!!!!!!!!!!!!!!\u001b[0m\n",
      "       (0, 24, 0, 1)       73.002443       73.000000 \u001b[31m   0.0024433102\u001b[0m \u001b[31m  3.3470002e-05\u001b[0m \u001b[31m!!!!!!!!!!!!!!!!!!!!!!!!!!!!!!!!!!!!!!!!!!!!!!!!!!!!!!!!!!!!!!!!!!!!!!!!!!!!!!!!!!!!!!!!!!!!!!!!!!!!\u001b[0m\n",
      "       (0, 11, 1, 2)      -39.997557      -40.000000 \u001b[31m   0.0024425957\u001b[0m \u001b[31m  6.1064891e-05\u001b[0m \u001b[31m!!!!!!!!!!!!!!!!!!!!!!!!!!!!!!!!!!!!!!!!!!!!!!!!!!!!!!!!!!!!!!!!!!!!!!!!!!!!!!!!!!!!!!!!!!!!!!!!!!!!\u001b[0m\n",
      "        (0, 5, 1, 2)      -93.997559      -94.000000 \u001b[31m   0.0024414401\u001b[0m \u001b[31m  2.5972767e-05\u001b[0m \u001b[31m!!!!!!!!!!!!!!!!!!!!!!!!!!!!!!!!!!!!!!!!!!!!!!!!!!!!!!!!!!!!!!!!!!!!!!!!!!!!!!!!!!!!!!!!!!!!!!!!!!!!\u001b[0m\n",
      "       (0, 18, 0, 1)       18.997564       19.000000 \u001b[34m  -0.0024356682\u001b[0m \u001b[34m -0.00012819306\u001b[0m \u001b[34m!!!!!!!!!!!!!!!!!!!!!!!!!!!!!!!!!!!!!!!!!!!!!!!!!!!!!!!!!!!!!!!!!!!!!!!!!!!!!!!!!!!!!!!!!!!!!!!!!!!!\u001b[0m\n",
      "\n"
     ]
    },
    {
     "name": "stderr",
     "output_type": "stream",
     "text": [
      "/home/chen/workspace/nnmoduletools/nnmoduletools/comparer/compare_visualizer.py:721: RuntimeWarning: divide by zero encountered in divide\n",
      "  rel_diff = diff / (abs_ref + zero_mask)\n"
     ]
    }
   ],
   "source": [
    "# feature: dump_vs_plot\n",
    "# when plot_vs is called, the arguments are cached and will be used by dump_vs_plot.\n",
    "# you can override the arguments by passing them to dump_vs_plot.\n",
    "a.dump_vs_plot(top_k=20)"
   ]
  },
  {
   "cell_type": "markdown",
   "metadata": {},
   "source": [
    "## Float Utils"
   ]
  },
  {
   "cell_type": "code",
   "execution_count": 11,
   "metadata": {},
   "outputs": [],
   "source": [
    "from nnmoduletools import f32, f16, bf16\n",
    "import numpy as np"
   ]
  },
  {
   "cell_type": "code",
   "execution_count": 12,
   "metadata": {},
   "outputs": [
    {
     "data": {
      "text/plain": [
       "(floating[3.141592741(0x40490fdb)],\n",
       " float16[3.140625000(0x4248)],\n",
       " bfloat16[3.140625000(0x4049)])"
      ]
     },
     "execution_count": 12,
     "metadata": {},
     "output_type": "execute_result"
    }
   ],
   "source": [
    "f32(np.pi), f16(np.pi), bf16(np.pi)"
   ]
  },
  {
   "cell_type": "code",
   "execution_count": 13,
   "metadata": {},
   "outputs": [
    {
     "data": {
      "text/plain": [
       "(floating[3.141592741(0x40490fdb)],\n",
       " float16[3.140625000(0x4248)],\n",
       " bfloat16[3.140625000(0x4049)])"
      ]
     },
     "execution_count": 13,
     "metadata": {},
     "output_type": "execute_result"
    }
   ],
   "source": [
    "f32(memory=0x40490fdb), f16(memory=0x4248), bf16(memory=0x4049)"
   ]
  },
  {
   "cell_type": "code",
   "execution_count": 14,
   "metadata": {},
   "outputs": [
    {
     "data": {
      "text/plain": [
       "float16[10000.00000(0x70e2)]"
      ]
     },
     "execution_count": 14,
     "metadata": {},
     "output_type": "execute_result"
    }
   ],
   "source": [
    "f16(10000) + f16(4)"
   ]
  },
  {
   "cell_type": "code",
   "execution_count": 15,
   "metadata": {},
   "outputs": [
    {
     "data": {
      "text/plain": [
       "float16[0.5000000000(0x3800), 0.7001953125(0x399a), 0.9003906250(0x3b34)]"
      ]
     },
     "execution_count": 15,
     "metadata": {},
     "output_type": "execute_result"
    }
   ],
   "source": [
    "f16([0.1, 0.2, 0.3]) + f16([0.4, 0.5, 0.6])"
   ]
  },
  {
   "cell_type": "code",
   "execution_count": 16,
   "metadata": {},
   "outputs": [
    {
     "data": {
      "text/plain": [
       "float16[3.140625000(0x4248)]"
      ]
     },
     "execution_count": 16,
     "metadata": {},
     "output_type": "execute_result"
    }
   ],
   "source": [
    "f32(3.1415926).to(f16)"
   ]
  }
 ],
 "metadata": {
  "kernelspec": {
   "display_name": "base",
   "language": "python",
   "name": "python3"
  },
  "language_info": {
   "codemirror_mode": {
    "name": "ipython",
    "version": 3
   },
   "file_extension": ".py",
   "mimetype": "text/x-python",
   "name": "python",
   "nbconvert_exporter": "python",
   "pygments_lexer": "ipython3",
   "version": "3.1.undefined"
  }
 },
 "nbformat": 4,
 "nbformat_minor": 2
}
