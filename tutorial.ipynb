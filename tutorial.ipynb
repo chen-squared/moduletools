{
 "cells": [
  {
   "cell_type": "markdown",
   "metadata": {},
   "source": [
    "# Tutorial"
   ]
  },
  {
   "cell_type": "markdown",
   "metadata": {},
   "source": [
    "## Compare Visualizer"
   ]
  },
  {
   "cell_type": "code",
   "execution_count": 1,
   "metadata": {},
   "outputs": [],
   "source": [
    "import nnmoduletools\n",
    "import numpy as np"
   ]
  },
  {
   "cell_type": "code",
   "execution_count": 2,
   "metadata": {},
   "outputs": [],
   "source": [
    "# make fake reference data\n",
    "fn2 = np.arange(1*32*3*3).reshape((1, 32, 1, 3, 3)).astype(float) - 16*3*3\n",
    "fn1 = fn2 + np.random.random((1, 32, 1, 3, 3)) * 0.005 - 0.0025\n",
    "fn1[0][0][0] = np.nan\n",
    "\n",
    "err_fn = \"err.npz\"\n",
    "np.savez(err_fn, darray_actual=fn1, darray_desired=fn2)\n",
    "tpu_fn = \"darray_tpu_out.npz\"\n",
    "model_fn = \"darray_model_out.npz\"\n",
    "np.savez(model_fn, darray=fn1)\n",
    "np.savez(tpu_fn, darray=fn2)"
   ]
  },
  {
   "cell_type": "code",
   "execution_count": 3,
   "metadata": {},
   "outputs": [
    {
     "name": "stdout",
     "output_type": "stream",
     "text": [
      "Target tensors: 1, Ref tensors: 1, Common tensors: 1, Unmatched tensors:0\n",
      "tensor='darray', #shape (1, 32, 1, 3, 3)\n"
     ]
    }
   ],
   "source": [
    "a = nnmoduletools.NPZComparer(fn1, fn2) # npz file name, npz file, dict-like object or np.darray is OK\n",
    "# a = nnmoduletools.err_comparer(err_fn) # generate your files into one npz with ${tensor_name}_actual and ${tensor_name}_desired. Large files may be slow.\n",
    "# a = nnmoduletools.model_tpu_comparer(tpu_fn) # or\n",
    "# a = nnmoduletools.model_tpu_comparer(model_fn) # if you use tpu-mlir and want to compare model and tpu output npzs. Specify either of them.\n",
    "\n",
    "a.info() # prints the tensor names and shape of common data\n",
    "# a.ref.info() # prints the tensor names and shape of reference data\n",
    "# a.target.info() # prints the tensor names and shape of target data"
   ]
  },
  {
   "cell_type": "code",
   "execution_count": 4,
   "metadata": {},
   "outputs": [
    {
     "name": "stdout",
     "output_type": "stream",
     "text": [
      "Target tensors: 1, Ref tensors: 1, Common tensors: 1, Unmatched tensors:0\n"
     ]
    },
    {
     "name": "stderr",
     "output_type": "stream",
     "text": [
      "100%|██████████| 1/1 [00:00<00:00, 4675.92it/s]\n"
     ]
    },
    {
     "name": "stdout",
     "output_type": "stream",
     "text": [
      "tensor='darray', #(1, 32, 1, 3, 3) similarity: (0.954651, 0.691853, 10.247963)\n",
      "min_similarity: (0.9546507170932557, 0.6918527793265765, 10.247962982847177)\n"
     ]
    },
    {
     "data": {
      "text/plain": [
       "True"
      ]
     },
     "execution_count": 4,
     "metadata": {},
     "output_type": "execute_result"
    }
   ],
   "source": [
    "a.compare() # do compare like npz_tool"
   ]
  },
  {
   "cell_type": "code",
   "execution_count": 5,
   "metadata": {},
   "outputs": [
    {
     "name": "stdout",
     "output_type": "stream",
     "text": [
      "Target tensors: 1, Ref tensors: 1, Common tensors: 1, Unmatched tensors:0\n"
     ]
    },
    {
     "name": "stderr",
     "output_type": "stream",
     "text": [
      "100%|██████████| 1/1 [00:00<00:00, 38.77it/s]\n"
     ]
    },
    {
     "name": "stdout",
     "output_type": "stream",
     "text": [
      "\u001b[31mtensor='darray', #(1, 32, 1, 3, 3) similarity: (0.954651, 0.691853, 10.247963) ×\u001b[0m\n",
      "\u001b[31mmin_similarity: (0.9546507170932557, 0.6918527793265765, 10.247962982847177) ×\u001b[0m\n"
     ]
    },
    {
     "data": {
      "text/plain": [
       "False"
      ]
     },
     "execution_count": 5,
     "metadata": {},
     "output_type": "execute_result"
    }
   ],
   "source": [
    "a.compare(tolerance=(0.999, 0.99)) # set tolerance to see whether all tensors have passed"
   ]
  },
  {
   "cell_type": "code",
   "execution_count": 6,
   "metadata": {},
   "outputs": [
    {
     "name": "stdout",
     "output_type": "stream",
     "text": [
      "Target tensors: 1, Ref tensors: 1, Common tensors: 1, Unmatched tensors:0\n"
     ]
    },
    {
     "name": "stderr",
     "output_type": "stream",
     "text": [
      "100%|██████████| 1/1 [00:00<00:00, 11397.57it/s]"
     ]
    },
    {
     "name": "stdout",
     "output_type": "stream",
     "text": [
      "\u001b[31mtensor='darray', #(1, 32, 1, 3, 3) similarity: (0.954651, 0.691853, 10.247963) ×\u001b[0m\n",
      "tensor='darray', # original shape (1, 32, 1, 3, 3), shape (1, 32, 1, 3, 3), reshaped to (1, 32, 3, 3), shown in (1, 32, 3, 3)\n",
      "similarity: (0.954651, 0.691853, 10.247963), tolerance: abs 1e-08, rel 0.001\n",
      "top 10 errors:\n",
      "               index          target             ref        abs_diff        rel_diff\n",
      "        (0, 0, 0, 0)             nan      -144.00000 \u001b[31m            nan\u001b[0m \u001b[31m            nan\u001b[0m \u001b[31m!!!!!!!!!!!!!!!!!!!!!!!!!!!!!!!!!!!!!!!!!!!!!!!!!!!!!!!!!!!!!!!!!!!!!!!!!!!!!!!!!!!!!!!!!!!!!!!!!!!!\u001b[0m\n",
      "        (0, 0, 0, 1)             nan      -143.00000 \u001b[31m            nan\u001b[0m \u001b[31m            nan\u001b[0m \u001b[31m!!!!!!!!!!!!!!!!!!!!!!!!!!!!!!!!!!!!!!!!!!!!!!!!!!!!!!!!!!!!!!!!!!!!!!!!!!!!!!!!!!!!!!!!!!!!!!!!!!!!\u001b[0m\n",
      "        (0, 0, 0, 2)             nan      -142.00000 \u001b[31m            nan\u001b[0m \u001b[31m            nan\u001b[0m \u001b[31m!!!!!!!!!!!!!!!!!!!!!!!!!!!!!!!!!!!!!!!!!!!!!!!!!!!!!!!!!!!!!!!!!!!!!!!!!!!!!!!!!!!!!!!!!!!!!!!!!!!!\u001b[0m\n",
      "        (0, 0, 1, 0)             nan      -141.00000 \u001b[31m            nan\u001b[0m \u001b[31m            nan\u001b[0m \u001b[31m!!!!!!!!!!!!!!!!!!!!!!!!!!!!!!!!!!!!!!!!!!!!!!!!!!!!!!!!!!!!!!!!!!!!!!!!!!!!!!!!!!!!!!!!!!!!!!!!!!!!\u001b[0m\n",
      "        (0, 0, 1, 1)             nan      -140.00000 \u001b[31m            nan\u001b[0m \u001b[31m            nan\u001b[0m \u001b[31m!!!!!!!!!!!!!!!!!!!!!!!!!!!!!!!!!!!!!!!!!!!!!!!!!!!!!!!!!!!!!!!!!!!!!!!!!!!!!!!!!!!!!!!!!!!!!!!!!!!!\u001b[0m\n",
      "        (0, 0, 1, 2)             nan      -139.00000 \u001b[31m            nan\u001b[0m \u001b[31m            nan\u001b[0m \u001b[31m!!!!!!!!!!!!!!!!!!!!!!!!!!!!!!!!!!!!!!!!!!!!!!!!!!!!!!!!!!!!!!!!!!!!!!!!!!!!!!!!!!!!!!!!!!!!!!!!!!!!\u001b[0m\n",
      "        (0, 0, 2, 0)             nan      -138.00000 \u001b[31m            nan\u001b[0m \u001b[31m            nan\u001b[0m \u001b[31m!!!!!!!!!!!!!!!!!!!!!!!!!!!!!!!!!!!!!!!!!!!!!!!!!!!!!!!!!!!!!!!!!!!!!!!!!!!!!!!!!!!!!!!!!!!!!!!!!!!!\u001b[0m\n",
      "        (0, 0, 2, 1)             nan      -137.00000 \u001b[31m            nan\u001b[0m \u001b[31m            nan\u001b[0m \u001b[31m!!!!!!!!!!!!!!!!!!!!!!!!!!!!!!!!!!!!!!!!!!!!!!!!!!!!!!!!!!!!!!!!!!!!!!!!!!!!!!!!!!!!!!!!!!!!!!!!!!!!\u001b[0m\n",
      "        (0, 0, 2, 2)             nan      -136.00000 \u001b[31m            nan\u001b[0m \u001b[31m            nan\u001b[0m \u001b[31m!!!!!!!!!!!!!!!!!!!!!!!!!!!!!!!!!!!!!!!!!!!!!!!!!!!!!!!!!!!!!!!!!!!!!!!!!!!!!!!!!!!!!!!!!!!!!!!!!!!!\u001b[0m\n",
      "       (0, 16, 0, 0)   -0.0011419500       0.0000000 \u001b[34m  -0.0011419500\u001b[0m \u001b[34m     -114.19500\u001b[0m \u001b[34m!!!!!!!!!!!!!!!!!!!!!!!!!!!!!!!!!!!!!!!!!!!!!!!!!!!!!!!!!!!!!!!!!!!!!!!!!!!!!!!!!!!!!!!!!!!!!!!!!!!!\u001b[0m\n",
      "\n",
      "\u001b[31mmin_similarity: (0.9546507170932557, 0.6918527793265765, 10.247962982847177) ×\u001b[0m\n"
     ]
    },
    {
     "name": "stderr",
     "output_type": "stream",
     "text": [
      "\n"
     ]
    },
    {
     "data": {
      "text/plain": [
       "False"
      ]
     },
     "execution_count": 6,
     "metadata": {},
     "output_type": "execute_result"
    }
   ],
   "source": [
    "a.compare(tolerance=(0.999, 0.99), verbose=2) # dump top-10 error data when failed. will reshape to 4D now."
   ]
  },
  {
   "cell_type": "code",
   "execution_count": 7,
   "metadata": {},
   "outputs": [
    {
     "name": "stderr",
     "output_type": "stream",
     "text": [
      "100%|██████████| 1/1 [00:00<00:00, 13189.64it/s]"
     ]
    },
    {
     "name": "stdout",
     "output_type": "stream",
     "text": [
      "\u001b[31mtensor='darray', #(1, 32, 1, 3, 3) similarity: (0.954651, 0.691853, 10.247963) ×\u001b[0m\n",
      "\u001b[31mmin_similarity: (0.9546507170932557, 0.6918527793265765, 10.247962982847177) ×\u001b[0m\n"
     ]
    },
    {
     "name": "stderr",
     "output_type": "stream",
     "text": [
      "\n"
     ]
    },
    {
     "data": {
      "text/plain": [
       "False"
      ]
     },
     "execution_count": 7,
     "metadata": {},
     "output_type": "execute_result"
    }
   ],
   "source": [
    "a.compare(tolerance=(0.9999, 0.9999), tensor='darray') # compare specific tensor(s)\n",
    "# a.compare(tolerance=(0.999, 0.999), tensor=['darray'])"
   ]
  },
  {
   "cell_type": "code",
   "execution_count": 8,
   "metadata": {},
   "outputs": [
    {
     "name": "stdout",
     "output_type": "stream",
     "text": [
      "tensor='darray',\n",
      "shape (1, 32, 1, 3, 3), reshaped to (1, 32, 3, 3), shown in (1, 32, 3, 3)\n",
      "data distribution: mean 3.9999092556811244, min -135.000883044507, max 142.99832737824386\n",
      "vmin -144.0 zero point 0.0 vmax 144.0 \n"
     ]
    },
    {
     "data": {
      "image/png": "[encoded data removed]",
      "text/plain": [
       "<Figure size 1600x350 with 1 Axes>"
      ]
     },
     "metadata": {},
     "output_type": "display_data"
    },
    {
     "name": "stdout",
     "output_type": "stream",
     "text": [
      "tensor='darray',\n",
      "shape (1, 32, 1, 3, 3), reshaped to (1, 32, 3, 3), shown in (1, 32, 3, 3)\n",
      "data distribution: mean -0.5, min -144.0, max 143.0\n",
      "vmin -144.0 zero point 0.0 vmax 144.0 \n"
     ]
    },
    {
     "data": {
      "image/png": "[encoded data removed]",
      "text/plain": [
       "<Figure size 1600x350 with 1 Axes>"
      ]
     },
     "metadata": {},
     "output_type": "display_data"
    },
    {
     "name": "stdout",
     "output_type": "stream",
     "text": [
      "abs tol 1e-08, rel tol 0\n",
      "tensor='darray',\n",
      "Max of abs diff: neg -0.00249753316475676, pos 0.0024834320920490427, mean -9.07443188762049e-05\n",
      "Abs of abs diff: min 4.124300758689969e-06, max 0.00249753316475676, mean 0.0012646017193839805\n",
      "similarity: (0.9546507170932556, 0.6918527793265761, 10.247962982847165)\n",
      "diffmin -0.01 diffmax 0.01\n"
     ]
    },
    {
     "data": {
      "image/png": "[encoded data removed]",
      "text/plain": [
       "<Figure size 1600x350 with 1 Axes>"
      ]
     },
     "metadata": {},
     "output_type": "display_data"
    }
   ],
   "source": [
    "# a.plot_target( # plot the data distribution of target data\n",
    "# a.plot_ref( # plot the data distribution of reference data\n",
    "# a.plot_diff( # plot the difference of target and reference\n",
    "a.plot_vs( # plot the previous three things\n",
    "    abs_tol=1e-8, # default 1e-8; diff within tol will be treated as no difference. \n",
    "    rel_tol=0, # default 1e-3; either tolrence pass will be treated as pass; if assigned rel_tol, rel diff values are rescaled (= diff / (atol + rtol * abs(ref))), not original value.\n",
    "    diffmin=-0.01, diffmax=0.01, # min max value of diff plot color map. will be forced to symmetric.\n",
    "    figsize=16, # the vertical size of generated figure, change it to make the figure clear. Horizontal size will be calculated automatically.\n",
    "    c_columns=32, # channels on every row\n",
    "\n",
    "    # tensor=None, # default; plot ALL the tensors. May cause OOM for large files, use with care\n",
    "    tensor='darray', # tensor name, will be printed out before the figure. if np.darray, name is \"darray\". You can triple click the line printed out by .compare() or .info(), copy it and paste here for convinience.\n",
    "    # tensor=['darray'], # plot a list of tensors\n",
    "\n",
    "    # slices=(slice(0, 1), slice(2, 8)), # slice the ORIGINAL darray, passing slice object\n",
    "    # slices=((0, 1), (2, 8)), # passing list or tuple of (end, ) or (start, end[, step])\n",
    "    # slices=(0, 1), # just slice the given index, equal to slice(index, index+1)\n",
    "    # slices=(0, -1), # -1 is equal to slice(None)\n",
    "    # slices=(-1, None, -1, -1, -1), # use this trick to expand dim\n",
    "    # slices=(-1, None, 64, slice(0, 2), (1, 2)), # you can use mixture of them\n",
    "\n",
    "    # mix_axis=[1, 2], # for 5-or-more-dim data, merge the given dims so as to get a 4D (N, C, H, W) darray. if None, merge extra dims to C.\n",
    "\n",
    "    # resize_hw=\"rectangle\", # resize to nearest rectangle, no padding. If you encounter errors like \"fig size too big\", try this.\n",
    "    # resize_hw=\"auto\", # same to \"rectangle\"\n",
    "    resize_hw=\"square\", # resize to nearest square, with padding\n",
    "    # resize_hw=(-1, -1), # same to \"square\"\n",
    "    # resize_hw=(5, 2), # resize to specific shape, with padding\n",
    "    # resize_hw=(-1, 4), # resize to specific shape, self calculate h, with padding\n",
    "    # resize_hw=(4, -1), # resize to specific shape, self calculate w, with padding\n",
    "    # resize_hw=None, # or\n",
    "    # resize_hw=\"none\", # do not resize (default)\n",
    "\n",
    "    # index=(2, 0), # zoom in the index in the FIGURE, idx left(right) then top(bottom)\n",
    "    # transpose_hw=True # transpose the data before resize_hw. The output figure shape will also be transposed if resize_hw is none or rectangle.\n",
    "\n",
    "    # zero_point=0., # zero point of the data color map, default None, the mean of target and ref data\n",
    "    # vmin=-1, vmax=1, # min max value of data color map, default None, the min and max of target and ref data. will be forced to symmetric.\n",
    "    # dump=True, # whether do dump_vs after plot_vs (next cell)\n",
    "    # verbose=True, # no use, pass to dump_vs if dump=True\n",
    ")"
   ]
  },
  {
   "cell_type": "code",
   "execution_count": 9,
   "metadata": {},
   "outputs": [
    {
     "name": "stdout",
     "output_type": "stream",
     "text": [
      "tensor='darray', # original shape (1, 32, 1, 3, 3), shape (1, 32, 1, 3, 3), reshaped to (1, 32, 3, 3), shown in (1, 32, 3, 3)\n",
      "similarity: (0.954651, 0.691853, 10.247967), tolerance: abs 1e-08, rel 0.001\n",
      "               index          target             ref        abs_diff        rel_diff\n",
      "        (0, 0, 0, 0)             nan      -144.00000 \u001b[31m            nan\u001b[0m \u001b[31m            nan\u001b[0m \u001b[31m!!!!!!!!!!!!!!!!!!!!!!!!!!!!!!!!!!!!!!!!!!!!!!!!!!!!!!!!!!!!!!!!!!!!!!!!!!!!!!!!!!!!!!!!!!!!!!!!!!!!\u001b[0m\n",
      "        (0, 0, 0, 1)             nan      -143.00000 \u001b[31m            nan\u001b[0m \u001b[31m            nan\u001b[0m \u001b[31m!!!!!!!!!!!!!!!!!!!!!!!!!!!!!!!!!!!!!!!!!!!!!!!!!!!!!!!!!!!!!!!!!!!!!!!!!!!!!!!!!!!!!!!!!!!!!!!!!!!!\u001b[0m\n",
      "        (0, 0, 0, 2)             nan      -142.00000 \u001b[31m            nan\u001b[0m \u001b[31m            nan\u001b[0m \u001b[31m!!!!!!!!!!!!!!!!!!!!!!!!!!!!!!!!!!!!!!!!!!!!!!!!!!!!!!!!!!!!!!!!!!!!!!!!!!!!!!!!!!!!!!!!!!!!!!!!!!!!\u001b[0m\n",
      "        (0, 0, 1, 0)             nan      -141.00000 \u001b[31m            nan\u001b[0m \u001b[31m            nan\u001b[0m \u001b[31m!!!!!!!!!!!!!!!!!!!!!!!!!!!!!!!!!!!!!!!!!!!!!!!!!!!!!!!!!!!!!!!!!!!!!!!!!!!!!!!!!!!!!!!!!!!!!!!!!!!!\u001b[0m\n",
      "        (0, 0, 1, 1)             nan      -140.00000 \u001b[31m            nan\u001b[0m \u001b[31m            nan\u001b[0m \u001b[31m!!!!!!!!!!!!!!!!!!!!!!!!!!!!!!!!!!!!!!!!!!!!!!!!!!!!!!!!!!!!!!!!!!!!!!!!!!!!!!!!!!!!!!!!!!!!!!!!!!!!\u001b[0m\n",
      "        (0, 0, 1, 2)             nan      -139.00000 \u001b[31m            nan\u001b[0m \u001b[31m            nan\u001b[0m \u001b[31m!!!!!!!!!!!!!!!!!!!!!!!!!!!!!!!!!!!!!!!!!!!!!!!!!!!!!!!!!!!!!!!!!!!!!!!!!!!!!!!!!!!!!!!!!!!!!!!!!!!!\u001b[0m\n",
      "        (0, 0, 2, 0)             nan      -138.00000 \u001b[31m            nan\u001b[0m \u001b[31m            nan\u001b[0m \u001b[31m!!!!!!!!!!!!!!!!!!!!!!!!!!!!!!!!!!!!!!!!!!!!!!!!!!!!!!!!!!!!!!!!!!!!!!!!!!!!!!!!!!!!!!!!!!!!!!!!!!!!\u001b[0m\n",
      "        (0, 0, 2, 1)             nan      -137.00000 \u001b[31m            nan\u001b[0m \u001b[31m            nan\u001b[0m \u001b[31m!!!!!!!!!!!!!!!!!!!!!!!!!!!!!!!!!!!!!!!!!!!!!!!!!!!!!!!!!!!!!!!!!!!!!!!!!!!!!!!!!!!!!!!!!!!!!!!!!!!!\u001b[0m\n",
      "        (0, 0, 2, 2)             nan      -136.00000 \u001b[31m            nan\u001b[0m \u001b[31m            nan\u001b[0m \u001b[31m!!!!!!!!!!!!!!!!!!!!!!!!!!!!!!!!!!!!!!!!!!!!!!!!!!!!!!!!!!!!!!!!!!!!!!!!!!!!!!!!!!!!!!!!!!!!!!!!!!!!\u001b[0m\n",
      "        (0, 1, 0, 0)      -135.00188      -135.00000 \u001b[34m  -0.0018849624\u001b[0m \u001b[32m -1.3962683e-05\u001b[0m \u001b[34m\u001b[0m\n",
      "        (0, 1, 0, 1)      -134.00042      -134.00000 \u001b[34m -0.00041757830\u001b[0m \u001b[32m -3.1162557e-06\u001b[0m \u001b[34m\u001b[0m\n",
      "        (0, 1, 0, 2)      -132.99904      -133.00000 \u001b[31m  0.00096333904\u001b[0m \u001b[32m  7.2431502e-06\u001b[0m \u001b[31m\u001b[0m\n",
      "        (0, 1, 1, 0)      -132.00168      -132.00000 \u001b[34m  -0.0016809421\u001b[0m \u001b[32m -1.2734409e-05\u001b[0m \u001b[34m\u001b[0m\n",
      "        (0, 1, 1, 1)      -131.00142      -131.00000 \u001b[34m  -0.0014241327\u001b[0m \u001b[32m -1.0871241e-05\u001b[0m \u001b[34m\u001b[0m\n",
      "        (0, 1, 1, 2)      -129.99816      -130.00000 \u001b[31m   0.0018396920\u001b[0m \u001b[32m  1.4151476e-05\u001b[0m \u001b[31m\u001b[0m\n",
      "        (0, 1, 2, 0)      -128.99870      -129.00000 \u001b[31m   0.0012956266\u001b[0m \u001b[32m  1.0043616e-05\u001b[0m \u001b[31m\u001b[0m\n",
      "        (0, 1, 2, 1)      -128.00013      -128.00000 \u001b[34m -0.00013199339\u001b[0m \u001b[32m -1.0311982e-06\u001b[0m \u001b[34m\u001b[0m\n",
      "        (0, 1, 2, 2)      -127.00125      -127.00000 \u001b[34m  -0.0012494963\u001b[0m \u001b[32m -9.8385529e-06\u001b[0m \u001b[34m\u001b[0m\n",
      "        (0, 2, 0, 0)      -126.00159      -126.00000 \u001b[34m  -0.0015930410\u001b[0m \u001b[32m -1.2643181e-05\u001b[0m \u001b[34m\u001b[0m\n",
      "        (0, 2, 0, 1)      -124.99956      -125.00000 \u001b[31m  0.00044283742\u001b[0m \u001b[32m  3.5426991e-06\u001b[0m \u001b[31m\u001b[0m\n",
      "        (0, 2, 0, 2)      -124.00045      -124.00000 \u001b[34m -0.00044793669\u001b[0m \u001b[32m -3.6123923e-06\u001b[0m \u001b[34m\u001b[0m\n",
      "        (0, 2, 1, 0)      -122.99760      -123.00000 \u001b[31m   0.0024046920\u001b[0m \u001b[32m  1.9550340e-05\u001b[0m \u001b[31m\u001b[0m\n",
      "        (0, 2, 1, 1)      -121.99925      -122.00000 \u001b[31m  0.00075373934\u001b[0m \u001b[32m  6.1781908e-06\u001b[0m \u001b[31m\u001b[0m\n",
      "        (0, 2, 1, 2)      -121.00161      -121.00000 \u001b[34m  -0.0016098644\u001b[0m \u001b[32m -1.3304664e-05\u001b[0m \u001b[34m\u001b[0m\n",
      "        (0, 2, 2, 0)      -119.99929      -120.00000 \u001b[31m  0.00070773571\u001b[0m \u001b[32m  5.8977971e-06\u001b[0m \u001b[31m\u001b[0m\n",
      "        (0, 2, 2, 1)      -119.00096      -119.00000 \u001b[34m -0.00096485206\u001b[0m \u001b[32m -8.1079998e-06\u001b[0m \u001b[34m\u001b[0m\n",
      "        (0, 2, 2, 2)      -118.00018      -118.00000 \u001b[34m -0.00018391323\u001b[0m \u001b[32m -1.5585866e-06\u001b[0m \u001b[34m\u001b[0m\n",
      "        (0, 3, 0, 0)      -117.00014      -117.00000 \u001b[34m -0.00014271867\u001b[0m \u001b[32m -1.2198176e-06\u001b[0m \u001b[34m\u001b[0m\n",
      "        (0, 3, 0, 1)      -116.00155      -116.00000 \u001b[34m  -0.0015486498\u001b[0m \u001b[32m -1.3350428e-05\u001b[0m \u001b[34m\u001b[0m\n",
      "        (0, 3, 0, 2)      -115.00233      -115.00000 \u001b[34m  -0.0023329823\u001b[0m \u001b[32m -2.0286801e-05\u001b[0m \u001b[34m\u001b[0m\n",
      "        (0, 3, 1, 0)      -114.00032      -114.00000 \u001b[34m -0.00031673245\u001b[0m \u001b[32m -2.7783546e-06\u001b[0m \u001b[34m\u001b[0m\n",
      "        (0, 3, 1, 1)      -113.00200      -113.00000 \u001b[34m  -0.0020045279\u001b[0m \u001b[32m -1.7739183e-05\u001b[0m \u001b[34m\u001b[0m\n",
      "        (0, 3, 1, 2)      -112.00054      -112.00000 \u001b[34m -0.00054307013\u001b[0m \u001b[32m -4.8488400e-06\u001b[0m \u001b[34m\u001b[0m\n",
      "        (0, 3, 2, 0)      -110.99918      -111.00000 \u001b[31m  0.00081837900\u001b[0m \u001b[32m  7.3727831e-06\u001b[0m \u001b[31m\u001b[0m\n",
      "        (0, 3, 2, 1)      -110.00013      -110.00000 \u001b[34m -0.00012596047\u001b[0m \u001b[32m -1.1450951e-06\u001b[0m \u001b[34m\u001b[0m\n",
      "        (0, 3, 2, 2)      -108.99754      -109.00000 \u001b[31m   0.0024555080\u001b[0m \u001b[32m  2.2527594e-05\u001b[0m \u001b[31m\u001b[0m\n",
      "        (0, 4, 0, 0)      -107.99874      -108.00000 \u001b[31m   0.0012640588\u001b[0m \u001b[32m  1.1704247e-05\u001b[0m \u001b[31m\u001b[0m\n",
      "        (0, 4, 0, 1)      -107.00121      -107.00000 \u001b[34m  -0.0012068927\u001b[0m \u001b[32m -1.1279370e-05\u001b[0m \u001b[34m\u001b[0m\n",
      "        (0, 4, 0, 2)      -106.00147      -106.00000 \u001b[34m  -0.0014691020\u001b[0m \u001b[32m -1.3859452e-05\u001b[0m \u001b[34m\u001b[0m\n",
      "        (0, 4, 1, 0)      -105.00175      -105.00000 \u001b[34m  -0.0017506080\u001b[0m \u001b[32m -1.6672456e-05\u001b[0m \u001b[34m\u001b[0m\n",
      "        (0, 4, 1, 1)      -103.99783      -104.00000 \u001b[31m   0.0021664346\u001b[0m \u001b[32m  2.0831100e-05\u001b[0m \u001b[31m\u001b[0m\n",
      "        (0, 4, 1, 2)      -102.99934      -103.00000 \u001b[31m  0.00065919736\u001b[0m \u001b[32m  6.3999738e-06\u001b[0m \u001b[31m\u001b[0m\n",
      "        (0, 4, 2, 0)      -101.99754      -102.00000 \u001b[31m   0.0024550733\u001b[0m \u001b[32m  2.4069343e-05\u001b[0m \u001b[31m\u001b[0m\n",
      "        (0, 4, 2, 1)      -101.00037      -101.00000 \u001b[34m -0.00036941038\u001b[0m \u001b[32m -3.6575282e-06\u001b[0m \u001b[34m\u001b[0m\n",
      "        (0, 4, 2, 2)      -100.00044      -100.00000 \u001b[34m -0.00043967248\u001b[0m \u001b[32m -4.3967244e-06\u001b[0m \u001b[34m\u001b[0m\n",
      "        (0, 5, 0, 0)      -99.002345      -99.000000 \u001b[34m  -0.0023453181\u001b[0m \u001b[32m -2.3690080e-05\u001b[0m \u001b[34m\u001b[0m\n",
      "        (0, 5, 0, 1)      -98.001154      -98.000000 \u001b[34m  -0.0011544415\u001b[0m \u001b[32m -1.1780014e-05\u001b[0m \u001b[34m\u001b[0m\n",
      "        (0, 5, 0, 2)      -97.000186      -97.000000 \u001b[34m -0.00018566040\u001b[0m \u001b[32m -1.9140245e-06\u001b[0m \u001b[34m\u001b[0m\n",
      "        (0, 5, 1, 0)      -96.002169      -96.000000 \u001b[34m  -0.0021693480\u001b[0m \u001b[32m -2.2597373e-05\u001b[0m \u001b[34m\u001b[0m\n",
      "        (0, 5, 1, 1)      -94.998565      -95.000000 \u001b[31m   0.0014352692\u001b[0m \u001b[32m  1.5108096e-05\u001b[0m \u001b[31m\u001b[0m\n",
      "        (0, 5, 1, 2)      -94.002480      -94.000000 \u001b[34m  -0.0024799054\u001b[0m \u001b[32m -2.6381970e-05\u001b[0m \u001b[34m\u001b[0m\n",
      "        (0, 5, 2, 0)      -92.999090      -93.000000 \u001b[31m  0.00091039910\u001b[0m \u001b[32m  9.7892366e-06\u001b[0m \u001b[31m\u001b[0m\n",
      "        (0, 5, 2, 1)      -91.999869      -92.000000 \u001b[31m  0.00013063752\u001b[0m \u001b[32m  1.4199729e-06\u001b[0m \u001b[31m\u001b[0m\n",
      "        (0, 5, 2, 2)      -90.999025      -91.000000 \u001b[31m  0.00097487811\u001b[0m \u001b[32m  1.0712945e-05\u001b[0m \u001b[31m\u001b[0m\n",
      "        (0, 6, 0, 0)      -90.002278      -90.000000 \u001b[34m  -0.0022782475\u001b[0m \u001b[32m -2.5313858e-05\u001b[0m \u001b[34m\u001b[0m\n",
      "        (0, 6, 0, 1)      -89.001467      -89.000000 \u001b[34m  -0.0014674850\u001b[0m \u001b[32m -1.6488593e-05\u001b[0m \u001b[34m\u001b[0m\n",
      "        (0, 6, 0, 2)      -88.002000      -88.000000 \u001b[34m  -0.0019996296\u001b[0m \u001b[32m -2.2723061e-05\u001b[0m \u001b[34m\u001b[0m\n",
      "        (0, 6, 1, 0)      -87.001229      -87.000000 \u001b[34m  -0.0012285755\u001b[0m \u001b[32m -1.4121555e-05\u001b[0m \u001b[34m\u001b[0m\n",
      "        (0, 6, 1, 1)      -85.997594      -86.000000 \u001b[31m   0.0024056821\u001b[0m \u001b[32m  2.7973045e-05\u001b[0m \u001b[31m\u001b[0m\n",
      "        (0, 6, 1, 2)      -85.002298      -85.000000 \u001b[34m  -0.0022976941\u001b[0m \u001b[32m -2.7031692e-05\u001b[0m \u001b[34m\u001b[0m\n",
      "        (0, 6, 2, 0)      -84.001239      -84.000000 \u001b[34m  -0.0012393308\u001b[0m \u001b[32m -1.4753936e-05\u001b[0m \u001b[34m\u001b[0m\n",
      "        (0, 6, 2, 1)      -83.001651      -83.000000 \u001b[34m  -0.0016505225\u001b[0m \u001b[32m -1.9885811e-05\u001b[0m \u001b[34m\u001b[0m\n",
      "        (0, 6, 2, 2)      -82.002319      -82.000000 \u001b[34m  -0.0023186168\u001b[0m \u001b[32m -2.8275812e-05\u001b[0m \u001b[34m\u001b[0m\n",
      "        (0, 7, 0, 0)      -81.001053      -81.000000 \u001b[34m  -0.0010526561\u001b[0m \u001b[32m -1.2995753e-05\u001b[0m \u001b[34m\u001b[0m\n",
      "        (0, 7, 0, 1)      -79.998337      -80.000000 \u001b[31m   0.0016628233\u001b[0m \u001b[32m  2.0785289e-05\u001b[0m \u001b[31m\u001b[0m\n",
      "        (0, 7, 0, 2)      -78.999686      -79.000000 \u001b[31m  0.00031383085\u001b[0m \u001b[32m  3.9725419e-06\u001b[0m \u001b[31m\u001b[0m\n",
      "        (0, 7, 1, 0)      -78.001776      -78.000000 \u001b[34m  -0.0017757313\u001b[0m \u001b[32m -2.2765783e-05\u001b[0m \u001b[34m\u001b[0m\n",
      "        (0, 7, 1, 1)      -76.997804      -77.000000 \u001b[31m   0.0021956307\u001b[0m \u001b[32m  2.8514680e-05\u001b[0m \u001b[31m\u001b[0m\n",
      "        (0, 7, 1, 2)      -76.002386      -76.000000 \u001b[34m  -0.0023857493\u001b[0m \u001b[32m -3.1391434e-05\u001b[0m \u001b[34m\u001b[0m\n",
      "        (0, 7, 2, 0)      -74.997557      -75.000000 \u001b[31m   0.0024431322\u001b[0m \u001b[32m  3.2575091e-05\u001b[0m \u001b[31m\u001b[0m\n",
      "        (0, 7, 2, 1)      -73.998656      -74.000000 \u001b[31m   0.0013442901\u001b[0m \u001b[32m  1.8166080e-05\u001b[0m \u001b[31m\u001b[0m\n",
      "        (0, 7, 2, 2)      -73.001559      -73.000000 \u001b[34m  -0.0015590356\u001b[0m \u001b[32m -2.1356650e-05\u001b[0m \u001b[34m\u001b[0m\n",
      "        (0, 8, 0, 0)      -72.000237      -72.000000 \u001b[34m -0.00023663396\u001b[0m \u001b[32m -3.2865823e-06\u001b[0m \u001b[34m\u001b[0m\n",
      "        (0, 8, 0, 1)      -71.001713      -71.000000 \u001b[34m  -0.0017133953\u001b[0m \u001b[32m -2.4132325e-05\u001b[0m \u001b[34m\u001b[0m\n",
      "        (0, 8, 0, 2)      -69.999478      -70.000000 \u001b[31m  0.00052216645\u001b[0m \u001b[32m  7.4595196e-06\u001b[0m \u001b[31m\u001b[0m\n",
      "        (0, 8, 1, 0)      -68.998977      -69.000000 \u001b[31m   0.0010230527\u001b[0m \u001b[32m  1.4826849e-05\u001b[0m \u001b[31m\u001b[0m\n",
      "        (0, 8, 1, 1)      -68.002302      -68.000000 \u001b[34m  -0.0023022602\u001b[0m \u001b[32m -3.3856762e-05\u001b[0m \u001b[34m\u001b[0m\n",
      "        (0, 8, 1, 2)      -66.998691      -67.000000 \u001b[31m   0.0013091414\u001b[0m \u001b[32m  1.9539421e-05\u001b[0m \u001b[31m\u001b[0m\n",
      "        (0, 8, 2, 0)      -66.001448      -66.000000 \u001b[34m  -0.0014484540\u001b[0m \u001b[32m -2.1946270e-05\u001b[0m \u001b[34m\u001b[0m\n",
      "        (0, 8, 2, 1)      -64.998082      -65.000000 \u001b[31m   0.0019176832\u001b[0m \u001b[32m  2.9502814e-05\u001b[0m \u001b[31m\u001b[0m\n",
      "        (0, 8, 2, 2)      -63.999765      -64.000000 \u001b[31m  0.00023459901\u001b[0m \u001b[32m  3.6656090e-06\u001b[0m \u001b[31m\u001b[0m\n",
      "        (0, 9, 0, 0)      -63.000211      -63.000000 \u001b[34m -0.00021102633\u001b[0m \u001b[32m -3.3496238e-06\u001b[0m \u001b[34m\u001b[0m\n",
      "        (0, 9, 0, 1)      -62.000960      -62.000000 \u001b[34m -0.00095999421\u001b[0m \u001b[32m -1.5483775e-05\u001b[0m \u001b[34m\u001b[0m\n",
      "        (0, 9, 0, 2)      -61.000106      -61.000000 \u001b[34m -0.00010590603\u001b[0m \u001b[32m -1.7361641e-06\u001b[0m \u001b[34m\u001b[0m\n",
      "        (0, 9, 1, 0)      -59.999562      -60.000000 \u001b[31m  0.00043781008\u001b[0m \u001b[32m  7.2968335e-06\u001b[0m \u001b[31m\u001b[0m\n",
      "        (0, 9, 1, 1)      -58.999281      -59.000000 \u001b[31m  0.00071870736\u001b[0m \u001b[32m  1.2181479e-05\u001b[0m \u001b[31m\u001b[0m\n",
      "        (0, 9, 1, 2)      -57.997609      -58.000000 \u001b[31m   0.0023913970\u001b[0m \u001b[32m  4.1230976e-05\u001b[0m \u001b[31m\u001b[0m\n",
      "        (0, 9, 2, 0)      -56.997908      -57.000000 \u001b[31m   0.0020916774\u001b[0m \u001b[32m  3.6696089e-05\u001b[0m \u001b[31m\u001b[0m\n",
      "        (0, 9, 2, 1)      -56.001558      -56.000000 \u001b[34m  -0.0015575690\u001b[0m \u001b[32m -2.7813727e-05\u001b[0m \u001b[34m\u001b[0m\n",
      "        (0, 9, 2, 2)      -54.997933      -55.000000 \u001b[31m   0.0020670693\u001b[0m \u001b[32m  3.7583071e-05\u001b[0m \u001b[31m\u001b[0m\n",
      "       (0, 10, 0, 0)      -53.999469      -54.000000 \u001b[31m  0.00053066353\u001b[0m \u001b[32m  9.8271005e-06\u001b[0m \u001b[31m\u001b[0m\n",
      "       (0, 10, 0, 1)      -53.000170      -53.000000 \u001b[34m -0.00016967266\u001b[0m \u001b[32m -3.2013703e-06\u001b[0m \u001b[34m\u001b[0m\n",
      "       (0, 10, 0, 2)      -51.997802      -52.000000 \u001b[31m   0.0021976572\u001b[0m \u001b[32m  4.2262631e-05\u001b[0m \u001b[31m\u001b[0m\n",
      "       (0, 10, 1, 0)      -51.000435      -51.000000 \u001b[34m -0.00043451632\u001b[0m \u001b[32m -8.5199262e-06\u001b[0m \u001b[34m\u001b[0m\n",
      "       (0, 10, 1, 1)      -49.997901      -50.000000 \u001b[31m   0.0020992469\u001b[0m \u001b[32m  4.1984929e-05\u001b[0m \u001b[31m\u001b[0m\n",
      "       (0, 10, 1, 2)      -48.999479      -49.000000 \u001b[31m  0.00052145295\u001b[0m \u001b[32m  1.0641895e-05\u001b[0m \u001b[31m\u001b[0m\n",
      "       (0, 10, 2, 0)      -48.001806      -48.000000 \u001b[34m  -0.0018063219\u001b[0m \u001b[32m -3.7631699e-05\u001b[0m \u001b[34m\u001b[0m\n",
      "       (0, 10, 2, 1)      -47.001805      -47.000000 \u001b[34m  -0.0018053239\u001b[0m \u001b[32m -3.8411138e-05\u001b[0m \u001b[34m\u001b[0m\n",
      "       (0, 10, 2, 2)      -46.001245      -46.000000 \u001b[34m  -0.0012446517\u001b[0m \u001b[32m -2.7057639e-05\u001b[0m \u001b[34m\u001b[0m\n",
      "       (0, 11, 0, 0)      -45.001043      -45.000000 \u001b[34m  -0.0010429172\u001b[0m \u001b[32m -2.3175934e-05\u001b[0m \u001b[34m\u001b[0m\n",
      "       (0, 11, 0, 1)      -44.001537      -44.000000 \u001b[34m  -0.0015368386\u001b[0m \u001b[32m -3.4928143e-05\u001b[0m \u001b[34m\u001b[0m\n",
      "       (0, 11, 0, 2)      -42.998189      -43.000000 \u001b[31m   0.0018110452\u001b[0m \u001b[32m  4.2117321e-05\u001b[0m \u001b[31m\u001b[0m\n",
      "       (0, 11, 1, 0)      -42.001049      -42.000000 \u001b[34m  -0.0010492454\u001b[0m \u001b[32m -2.4982028e-05\u001b[0m \u001b[34m\u001b[0m\n",
      "       (0, 11, 1, 1)      -40.998589      -41.000000 \u001b[31m   0.0014114218\u001b[0m \u001b[32m  3.4424914e-05\u001b[0m \u001b[31m\u001b[0m\n",
      "       (0, 11, 1, 2)      -40.001316      -40.000000 \u001b[34m  -0.0013155741\u001b[0m \u001b[32m -3.2889344e-05\u001b[0m \u001b[34m\u001b[0m\n",
      "       (0, 11, 2, 0)      -39.001932      -39.000000 \u001b[34m  -0.0019324162\u001b[0m \u001b[32m -4.9549122e-05\u001b[0m \u001b[34m\u001b[0m\n",
      "       (0, 11, 2, 1)      -38.002120      -38.000000 \u001b[34m  -0.0021199836\u001b[0m \u001b[32m -5.5789028e-05\u001b[0m \u001b[34m\u001b[0m\n",
      "       (0, 11, 2, 2)      -37.001755      -37.000000 \u001b[34m  -0.0017553797\u001b[0m \u001b[32m -4.7442681e-05\u001b[0m \u001b[34m\u001b[0m\n",
      "       (0, 12, 0, 0)      -36.000656      -36.000000 \u001b[34m -0.00065639656\u001b[0m \u001b[32m -1.8233233e-05\u001b[0m \u001b[34m\u001b[0m\n",
      "       (0, 12, 0, 1)      -35.002158      -35.000000 \u001b[34m  -0.0021577066\u001b[0m \u001b[32m -6.1648742e-05\u001b[0m \u001b[34m\u001b[0m\n",
      "       (0, 12, 0, 2)      -34.000674      -34.000000 \u001b[34m -0.00067437723\u001b[0m \u001b[32m -1.9834619e-05\u001b[0m \u001b[34m\u001b[0m\n",
      "       (0, 12, 1, 0)      -32.999956      -33.000000 \u001b[31m  4.4250044e-05\u001b[0m \u001b[32m  1.3409100e-06\u001b[0m \u001b[31m\u001b[0m\n",
      "       (0, 12, 1, 1)      -31.998146      -32.000000 \u001b[31m   0.0018541598\u001b[0m \u001b[32m  5.7942476e-05\u001b[0m \u001b[31m\u001b[0m\n",
      "       (0, 12, 1, 2)      -31.000442      -31.000000 \u001b[34m -0.00044245986\u001b[0m \u001b[32m -1.4272894e-05\u001b[0m \u001b[34m\u001b[0m\n",
      "       (0, 12, 2, 0)      -29.999022      -30.000000 \u001b[31m  0.00097831198\u001b[0m \u001b[32m  3.2610388e-05\u001b[0m \u001b[31m\u001b[0m\n",
      "       (0, 12, 2, 1)      -28.999850      -29.000000 \u001b[31m  0.00014989579\u001b[0m \u001b[32m  5.1688186e-06\u001b[0m \u001b[31m\u001b[0m\n",
      "       (0, 12, 2, 2)      -27.998934      -28.000000 \u001b[31m   0.0010663988\u001b[0m \u001b[32m  3.8085660e-05\u001b[0m \u001b[31m\u001b[0m\n",
      "       (0, 13, 0, 0)      -27.002022      -27.000000 \u001b[34m  -0.0020218522\u001b[0m \u001b[32m -7.4883386e-05\u001b[0m \u001b[34m\u001b[0m\n",
      "       (0, 13, 0, 1)      -25.997817      -26.000000 \u001b[31m   0.0021825608\u001b[0m \u001b[32m  8.3944612e-05\u001b[0m \u001b[31m\u001b[0m\n",
      "       (0, 13, 0, 2)      -24.999926      -25.000000 \u001b[31m  7.3646189e-05\u001b[0m \u001b[32m  2.9458464e-06\u001b[0m \u001b[31m\u001b[0m\n",
      "       (0, 13, 1, 0)      -24.000822      -24.000000 \u001b[34m -0.00082183954\u001b[0m \u001b[32m -3.4243300e-05\u001b[0m \u001b[34m\u001b[0m\n",
      "       (0, 13, 1, 1)      -22.998686      -23.000000 \u001b[31m   0.0013136768\u001b[0m \u001b[32m  5.7116358e-05\u001b[0m \u001b[31m\u001b[0m\n",
      "       (0, 13, 1, 2)      -21.997524      -22.000000 \u001b[31m   0.0024755921\u001b[0m \u001b[32m  0.00011252686\u001b[0m \u001b[31m\u001b[0m\n",
      "       (0, 13, 2, 0)      -20.999372      -21.000000 \u001b[31m  0.00062812894\u001b[0m \u001b[32m  2.9910888e-05\u001b[0m \u001b[31m\u001b[0m\n",
      "       (0, 13, 2, 1)      -20.000958      -20.000000 \u001b[34m -0.00095842169\u001b[0m \u001b[32m -4.7921061e-05\u001b[0m \u001b[34m\u001b[0m\n",
      "       (0, 13, 2, 2)      -18.999536      -19.000000 \u001b[31m  0.00046375692\u001b[0m \u001b[32m  2.4408246e-05\u001b[0m \u001b[31m\u001b[0m\n",
      "       (0, 14, 0, 0)      -18.002162      -18.000000 \u001b[34m  -0.0021615066\u001b[0m \u001b[32m -0.00012008363\u001b[0m \u001b[34m\u001b[0m\n",
      "       (0, 14, 0, 1)      -16.998714      -17.000000 \u001b[31m   0.0012856756\u001b[0m \u001b[32m  7.5627933e-05\u001b[0m \u001b[31m\u001b[0m\n",
      "       (0, 14, 0, 2)      -16.000868      -16.000000 \u001b[34m -0.00086781288\u001b[0m \u001b[32m -5.4238271e-05\u001b[0m \u001b[34m\u001b[0m\n",
      "       (0, 14, 1, 0)      -15.001444      -15.000000 \u001b[34m  -0.0014435999\u001b[0m \u001b[32m -9.6239929e-05\u001b[0m \u001b[34m\u001b[0m\n",
      "       (0, 14, 1, 1)      -14.001549      -14.000000 \u001b[34m  -0.0015486325\u001b[0m \u001b[32m -0.00011061653\u001b[0m \u001b[34m\u001b[0m\n",
      "       (0, 14, 1, 2)      -12.998498      -13.000000 \u001b[31m   0.0015018064\u001b[0m \u001b[32m  0.00011552348\u001b[0m \u001b[31m\u001b[0m\n",
      "       (0, 14, 2, 0)      -11.997672      -12.000000 \u001b[31m   0.0023276467\u001b[0m \u001b[32m  0.00019397040\u001b[0m \u001b[31m\u001b[0m\n",
      "       (0, 14, 2, 1)      -11.001746      -11.000000 \u001b[34m  -0.0017461358\u001b[0m \u001b[32m -0.00015873948\u001b[0m \u001b[34m\u001b[0m\n",
      "       (0, 14, 2, 2)      -10.002042      -10.000000 \u001b[34m  -0.0020418420\u001b[0m \u001b[32m -0.00020418399\u001b[0m \u001b[34m\u001b[0m\n",
      "       (0, 15, 0, 0)      -9.0007901      -9.0000000 \u001b[34m -0.00079010766\u001b[0m \u001b[32m -8.7789643e-05\u001b[0m \u001b[34m\u001b[0m\n",
      "       (0, 15, 0, 1)      -7.9998735      -8.0000000 \u001b[31m  0.00012647051\u001b[0m \u001b[32m  1.5808793e-05\u001b[0m \u001b[31m\u001b[0m\n",
      "       (0, 15, 0, 2)      -7.0011610      -7.0000000 \u001b[34m  -0.0011610259\u001b[0m \u001b[32m -0.00016586060\u001b[0m \u001b[34m\u001b[0m\n",
      "       (0, 15, 1, 0)      -6.0021791      -6.0000000 \u001b[34m  -0.0021791285\u001b[0m \u001b[32m -0.00036318747\u001b[0m \u001b[34m\u001b[0m\n",
      "       (0, 15, 1, 1)      -5.0009819      -5.0000000 \u001b[34m -0.00098194670\u001b[0m \u001b[32m -0.00019638895\u001b[0m \u001b[34m\u001b[0m\n",
      "       (0, 15, 1, 2)      -4.0000430      -4.0000000 \u001b[34m -4.2996384e-05\u001b[0m \u001b[32m -1.0749069e-05\u001b[0m \u001b[34m\u001b[0m\n",
      "       (0, 15, 2, 0)      -3.0001828      -3.0000000 \u001b[34m -0.00018283312\u001b[0m \u001b[32m -6.0944170e-05\u001b[0m \u001b[34m\u001b[0m\n",
      "       (0, 15, 2, 1)      -1.9994456      -2.0000000 \u001b[31m  0.00055439251\u001b[0m \u001b[32m  0.00027719487\u001b[0m \u001b[31m\u001b[0m\n",
      "       (0, 15, 2, 2)      -1.0007219      -1.0000000 \u001b[34m -0.00072190402\u001b[0m \u001b[32m -0.00072189680\u001b[0m \u001b[34m\u001b[0m\n",
      "       (0, 16, 0, 0)    0.0010415470       0.0000000 \u001b[31m   0.0010415470\u001b[0m \u001b[31m      104.15470\u001b[0m \u001b[31m!!!!!!!!!!!!!!!!!!!!!!!!!!!!!!!!!!!!!!!!!!!!!!!!!!!!!!!!!!!!!!!!!!!!!!!!!!!!!!!!!!!!!!!!!!!!!!!!!!!!\u001b[0m\n",
      "       (0, 16, 0, 1)       1.0013361       1.0000000 \u001b[31m   0.0013360735\u001b[0m \u001b[31m   0.0013360601\u001b[0m \u001b[31m!\u001b[0m\n",
      "       (0, 16, 0, 2)       2.0016949       2.0000000 \u001b[31m   0.0016949112\u001b[0m \u001b[32m  0.00084745136\u001b[0m \u001b[31m\u001b[0m\n",
      "       (0, 16, 1, 0)       2.9987635       3.0000000 \u001b[34m  -0.0012365052\u001b[0m \u001b[32m -0.00041216701\u001b[0m \u001b[34m\u001b[0m\n",
      "       (0, 16, 1, 1)       4.0017191       4.0000000 \u001b[31m   0.0017191328\u001b[0m \u001b[32m  0.00042978213\u001b[0m \u001b[31m\u001b[0m\n",
      "       (0, 16, 1, 2)       5.0004843       5.0000000 \u001b[31m  0.00048427005\u001b[0m \u001b[32m  9.6853815e-05\u001b[0m \u001b[31m\u001b[0m\n",
      "       (0, 16, 2, 0)       6.0004706       6.0000000 \u001b[31m  0.00047057452\u001b[0m \u001b[32m  7.8428956e-05\u001b[0m \u001b[31m\u001b[0m\n",
      "       (0, 16, 2, 1)       7.0023509       7.0000000 \u001b[31m   0.0023509016\u001b[0m \u001b[32m  0.00033584261\u001b[0m \u001b[31m\u001b[0m\n",
      "       (0, 16, 2, 2)       7.9999374       8.0000000 \u001b[34m -6.2641156e-05\u001b[0m \u001b[32m -7.8301347e-06\u001b[0m \u001b[34m\u001b[0m\n",
      "       (0, 17, 0, 0)       8.9985154       9.0000000 \u001b[34m  -0.0014846104\u001b[0m \u001b[32m -0.00016495653\u001b[0m \u001b[34m\u001b[0m\n",
      "       (0, 17, 0, 1)       9.9991693       10.000000 \u001b[34m -0.00083069255\u001b[0m \u001b[32m -8.3069172e-05\u001b[0m \u001b[34m\u001b[0m\n",
      "       (0, 17, 0, 2)       10.997976       11.000000 \u001b[34m  -0.0020241430\u001b[0m \u001b[32m -0.00018401284\u001b[0m \u001b[34m\u001b[0m\n",
      "       (0, 17, 1, 0)       11.998920       12.000000 \u001b[34m  -0.0010802537\u001b[0m \u001b[32m -9.0021070e-05\u001b[0m \u001b[34m\u001b[0m\n",
      "       (0, 17, 1, 1)       12.998870       13.000000 \u001b[34m  -0.0011304403\u001b[0m \u001b[32m -8.6956876e-05\u001b[0m \u001b[34m\u001b[0m\n",
      "       (0, 17, 1, 2)       13.998729       14.000000 \u001b[34m  -0.0012707875\u001b[0m \u001b[32m -9.0770472e-05\u001b[0m \u001b[34m\u001b[0m\n",
      "       (0, 17, 2, 0)       15.000482       15.000000 \u001b[31m  0.00048173683\u001b[0m \u001b[32m  3.2115767e-05\u001b[0m \u001b[31m\u001b[0m\n",
      "       (0, 17, 2, 1)       15.998978       16.000000 \u001b[34m  -0.0010221709\u001b[0m \u001b[32m -6.3885639e-05\u001b[0m \u001b[34m\u001b[0m\n",
      "       (0, 17, 2, 2)       17.000647       17.000000 \u001b[31m  0.00064697610\u001b[0m \u001b[32m  3.8057395e-05\u001b[0m \u001b[31m\u001b[0m\n",
      "       (0, 18, 0, 0)       18.000164       18.000000 \u001b[31m  0.00016442279\u001b[0m \u001b[32m  9.1345945e-06\u001b[0m \u001b[31m\u001b[0m\n",
      "       (0, 18, 0, 1)       18.998109       19.000000 \u001b[34m  -0.0018910271\u001b[0m \u001b[32m -9.9527688e-05\u001b[0m \u001b[34m\u001b[0m\n",
      "       (0, 18, 0, 2)       20.002310       20.000000 \u001b[31m   0.0023096011\u001b[0m \u001b[32m  0.00011548000\u001b[0m \u001b[31m\u001b[0m\n",
      "       (0, 18, 1, 0)       20.997975       21.000000 \u001b[34m  -0.0020248644\u001b[0m \u001b[32m -9.6422067e-05\u001b[0m \u001b[34m\u001b[0m\n",
      "       (0, 18, 1, 1)       22.000902       22.000000 \u001b[31m  0.00090152785\u001b[0m \u001b[32m  4.0978520e-05\u001b[0m \u001b[31m\u001b[0m\n",
      "       (0, 18, 1, 2)       23.000959       23.000000 \u001b[31m  0.00095876152\u001b[0m \u001b[32m  4.1685265e-05\u001b[0m \u001b[31m\u001b[0m\n",
      "       (0, 18, 2, 0)       24.001210       24.000000 \u001b[31m   0.0012095433\u001b[0m \u001b[32m  5.0397616e-05\u001b[0m \u001b[31m\u001b[0m\n",
      "       (0, 18, 2, 1)       24.998516       25.000000 \u001b[34m  -0.0014839310\u001b[0m \u001b[32m -5.9357215e-05\u001b[0m \u001b[34m\u001b[0m\n",
      "       (0, 18, 2, 2)       25.997728       26.000000 \u001b[34m  -0.0022722482\u001b[0m \u001b[32m -8.7394128e-05\u001b[0m \u001b[34m\u001b[0m\n",
      "       (0, 19, 0, 0)       27.000783       27.000000 \u001b[31m  0.00078289881\u001b[0m \u001b[32m  2.8996241e-05\u001b[0m \u001b[31m\u001b[0m\n",
      "       (0, 19, 0, 1)       28.001611       28.000000 \u001b[31m   0.0016105772\u001b[0m \u001b[32m  5.7520593e-05\u001b[0m \u001b[31m\u001b[0m\n",
      "       (0, 19, 0, 2)       28.999335       29.000000 \u001b[34m -0.00066459214\u001b[0m \u001b[32m -2.2916962e-05\u001b[0m \u001b[34m\u001b[0m\n",
      "       (0, 19, 1, 0)       30.001150       30.000000 \u001b[31m   0.0011495082\u001b[0m \u001b[32m  3.8316926e-05\u001b[0m \u001b[31m\u001b[0m\n",
      "       (0, 19, 1, 1)       30.999260       31.000000 \u001b[34m -0.00074048965\u001b[0m \u001b[32m -2.3886755e-05\u001b[0m \u001b[34m\u001b[0m\n",
      "       (0, 19, 1, 2)       32.001615       32.000000 \u001b[31m   0.0016153136\u001b[0m \u001b[32m  5.0478533e-05\u001b[0m \u001b[31m\u001b[0m\n",
      "       (0, 19, 2, 0)       33.002069       33.000000 \u001b[31m   0.0020691092\u001b[0m \u001b[32m  6.2700260e-05\u001b[0m \u001b[31m\u001b[0m\n",
      "       (0, 19, 2, 1)       34.001634       34.000000 \u001b[31m   0.0016344116\u001b[0m \u001b[32m  4.8070916e-05\u001b[0m \u001b[31m\u001b[0m\n",
      "       (0, 19, 2, 2)       34.997556       35.000000 \u001b[34m  -0.0024436727\u001b[0m \u001b[32m -6.9819201e-05\u001b[0m \u001b[34m\u001b[0m\n",
      "       (0, 20, 0, 0)       35.999183       36.000000 \u001b[34m -0.00081650807\u001b[0m \u001b[32m -2.2680773e-05\u001b[0m \u001b[34m\u001b[0m\n",
      "       (0, 20, 0, 1)       37.000433       37.000000 \u001b[31m  0.00043299229\u001b[0m \u001b[32m  1.1702491e-05\u001b[0m \u001b[31m\u001b[0m\n",
      "       (0, 20, 0, 2)       38.001572       38.000000 \u001b[31m   0.0015715674\u001b[0m \u001b[32m  4.1357026e-05\u001b[0m \u001b[31m\u001b[0m\n",
      "       (0, 20, 1, 0)       38.997824       39.000000 \u001b[34m  -0.0021758175\u001b[0m \u001b[32m -5.5790178e-05\u001b[0m \u001b[34m\u001b[0m\n",
      "       (0, 20, 1, 1)       40.001188       40.000000 \u001b[31m   0.0011884450\u001b[0m \u001b[32m  2.9711116e-05\u001b[0m \u001b[31m\u001b[0m\n",
      "       (0, 20, 1, 2)       41.001398       41.000000 \u001b[31m   0.0013981201\u001b[0m \u001b[32m  3.4100481e-05\u001b[0m \u001b[31m\u001b[0m\n",
      "       (0, 20, 2, 0)       41.998244       42.000000 \u001b[34m  -0.0017562311\u001b[0m \u001b[32m -4.1815016e-05\u001b[0m \u001b[34m\u001b[0m\n",
      "       (0, 20, 2, 1)       42.998033       43.000000 \u001b[34m  -0.0019668368\u001b[0m \u001b[32m -4.5740380e-05\u001b[0m \u001b[34m\u001b[0m\n",
      "       (0, 20, 2, 2)       43.997851       44.000000 \u001b[34m  -0.0021493309\u001b[0m \u001b[32m -4.8848418e-05\u001b[0m \u001b[34m\u001b[0m\n",
      "       (0, 21, 0, 0)       45.000812       45.000000 \u001b[31m  0.00081208031\u001b[0m \u001b[32m  1.8046225e-05\u001b[0m \u001b[31m\u001b[0m\n",
      "       (0, 21, 0, 1)       45.999268       46.000000 \u001b[34m -0.00073183824\u001b[0m \u001b[32m -1.5909523e-05\u001b[0m \u001b[34m\u001b[0m\n",
      "       (0, 21, 0, 2)       47.001288       47.000000 \u001b[31m   0.0012883398\u001b[0m \u001b[32m  2.7411480e-05\u001b[0m \u001b[31m\u001b[0m\n",
      "       (0, 21, 1, 0)       47.999182       48.000000 \u001b[34m -0.00081790244\u001b[0m \u001b[32m -1.7039631e-05\u001b[0m \u001b[34m\u001b[0m\n",
      "       (0, 21, 1, 1)       48.999525       49.000000 \u001b[34m -0.00047471475\u001b[0m \u001b[32m -9.6880541e-06\u001b[0m \u001b[34m\u001b[0m\n",
      "       (0, 21, 1, 2)       49.997600       50.000000 \u001b[34m  -0.0023998991\u001b[0m \u001b[32m -4.7997973e-05\u001b[0m \u001b[34m\u001b[0m\n",
      "       (0, 21, 2, 0)       50.999802       51.000000 \u001b[34m -0.00019796867\u001b[0m \u001b[32m -3.8817378e-06\u001b[0m \u001b[34m\u001b[0m\n",
      "       (0, 21, 2, 1)       52.000390       52.000000 \u001b[31m  0.00038966944\u001b[0m \u001b[32m  7.4936417e-06\u001b[0m \u001b[31m\u001b[0m\n",
      "       (0, 21, 2, 2)       52.998083       53.000000 \u001b[34m  -0.0019165547\u001b[0m \u001b[32m -3.6161403e-05\u001b[0m \u001b[34m\u001b[0m\n",
      "       (0, 22, 0, 0)       54.001908       54.000000 \u001b[31m   0.0019077931\u001b[0m \u001b[32m  3.5329496e-05\u001b[0m \u001b[31m\u001b[0m\n",
      "       (0, 22, 0, 1)       55.001695       55.000000 \u001b[31m   0.0016952322\u001b[0m \u001b[32m  3.0822399e-05\u001b[0m \u001b[31m\u001b[0m\n",
      "       (0, 22, 0, 2)       55.997680       56.000000 \u001b[34m  -0.0023195216\u001b[0m \u001b[32m -4.1420022e-05\u001b[0m \u001b[34m\u001b[0m\n",
      "       (0, 22, 1, 0)       56.998967       57.000000 \u001b[34m  -0.0010328203\u001b[0m \u001b[32m -1.8119652e-05\u001b[0m \u001b[34m\u001b[0m\n",
      "       (0, 22, 1, 1)       57.999651       58.000000 \u001b[34m -0.00034905957\u001b[0m \u001b[32m -6.0182675e-06\u001b[0m \u001b[34m\u001b[0m\n",
      "       (0, 22, 1, 2)       58.999698       59.000000 \u001b[34m -0.00030219398\u001b[0m \u001b[32m -5.1219310e-06\u001b[0m \u001b[34m\u001b[0m\n",
      "       (0, 22, 2, 0)       60.000430       60.000000 \u001b[31m  0.00042951317\u001b[0m \u001b[32m  7.1585516e-06\u001b[0m \u001b[31m\u001b[0m\n",
      "       (0, 22, 2, 1)       60.999803       61.000000 \u001b[34m -0.00019672185\u001b[0m \u001b[32m -3.2249478e-06\u001b[0m \u001b[34m\u001b[0m\n",
      "       (0, 22, 2, 2)       62.000781       62.000000 \u001b[31m  0.00078099908\u001b[0m \u001b[32m  1.2596757e-05\u001b[0m \u001b[31m\u001b[0m\n",
      "       (0, 23, 0, 0)       62.998569       63.000000 \u001b[34m  -0.0014314633\u001b[0m \u001b[32m -2.2721636e-05\u001b[0m \u001b[34m\u001b[0m\n",
      "       (0, 23, 0, 1)       64.000542       64.000000 \u001b[31m  0.00054221594\u001b[0m \u001b[32m  8.4721227e-06\u001b[0m \u001b[31m\u001b[0m\n",
      "       (0, 23, 0, 2)       65.001584       65.000000 \u001b[31m   0.0015836006\u001b[0m \u001b[32m  2.4363082e-05\u001b[0m \u001b[31m\u001b[0m\n",
      "       (0, 23, 1, 0)       65.998536       66.000000 \u001b[34m  -0.0014643302\u001b[0m \u001b[32m -2.2186818e-05\u001b[0m \u001b[34m\u001b[0m\n",
      "       (0, 23, 1, 1)       67.002033       67.000000 \u001b[31m   0.0020327465\u001b[0m \u001b[32m  3.0339496e-05\u001b[0m \u001b[31m\u001b[0m\n",
      "       (0, 23, 1, 2)       67.997674       68.000000 \u001b[34m  -0.0023262699\u001b[0m \u001b[32m -3.4209846e-05\u001b[0m \u001b[34m\u001b[0m\n",
      "       (0, 23, 2, 0)       69.000320       69.000000 \u001b[31m  0.00032036733\u001b[0m \u001b[32m  4.6430041e-06\u001b[0m \u001b[31m\u001b[0m\n",
      "       (0, 23, 2, 1)       69.997502       70.000000 \u001b[34m  -0.0024978961\u001b[0m \u001b[32m -3.5684225e-05\u001b[0m \u001b[34m\u001b[0m\n",
      "       (0, 23, 2, 2)       70.997989       71.000000 \u001b[34m  -0.0020105679\u001b[0m \u001b[32m -2.8317854e-05\u001b[0m \u001b[34m\u001b[0m\n",
      "       (0, 24, 0, 0)       71.997600       72.000000 \u001b[34m  -0.0023996429\u001b[0m \u001b[32m -3.3328369e-05\u001b[0m \u001b[34m\u001b[0m\n",
      "       (0, 24, 0, 1)       73.000571       73.000000 \u001b[31m  0.00057147790\u001b[0m \u001b[32m  7.8284633e-06\u001b[0m \u001b[31m\u001b[0m\n",
      "       (0, 24, 0, 2)       74.002457       74.000000 \u001b[31m   0.0024572373\u001b[0m \u001b[32m  3.3205905e-05\u001b[0m \u001b[31m\u001b[0m\n",
      "       (0, 24, 1, 0)       75.000728       75.000000 \u001b[31m  0.00072813752\u001b[0m \u001b[32m  9.7084990e-06\u001b[0m \u001b[31m\u001b[0m\n",
      "       (0, 24, 1, 1)       76.002125       76.000000 \u001b[31m   0.0021251882\u001b[0m \u001b[32m  2.7962999e-05\u001b[0m \u001b[31m\u001b[0m\n",
      "       (0, 24, 1, 2)       77.001516       77.000000 \u001b[31m   0.0015159222\u001b[0m \u001b[32m  1.9687299e-05\u001b[0m \u001b[31m\u001b[0m\n",
      "       (0, 24, 2, 0)       78.001400       78.000000 \u001b[31m   0.0014003348\u001b[0m \u001b[32m  1.7953008e-05\u001b[0m \u001b[31m\u001b[0m\n",
      "       (0, 24, 2, 1)       79.000441       79.000000 \u001b[31m  0.00044125026\u001b[0m \u001b[32m  5.5854456e-06\u001b[0m \u001b[31m\u001b[0m\n",
      "       (0, 24, 2, 2)       79.997955       80.000000 \u001b[34m  -0.0020452473\u001b[0m \u001b[32m -2.5565588e-05\u001b[0m \u001b[34m\u001b[0m\n",
      "       (0, 25, 0, 0)       80.998578       81.000000 \u001b[34m  -0.0014223559\u001b[0m \u001b[32m -1.7559947e-05\u001b[0m \u001b[34m\u001b[0m\n",
      "       (0, 25, 0, 1)       82.000146       82.000000 \u001b[31m  0.00014593163\u001b[0m \u001b[32m  1.7796538e-06\u001b[0m \u001b[31m\u001b[0m\n",
      "       (0, 25, 0, 2)       82.998299       83.000000 \u001b[34m  -0.0017010270\u001b[0m \u001b[32m -2.0494299e-05\u001b[0m \u001b[34m\u001b[0m\n",
      "       (0, 25, 1, 0)       83.998719       84.000000 \u001b[34m  -0.0012811734\u001b[0m \u001b[32m -1.5252062e-05\u001b[0m \u001b[34m\u001b[0m\n",
      "       (0, 25, 1, 1)       84.997977       85.000000 \u001b[34m  -0.0020234971\u001b[0m \u001b[32m -2.3805846e-05\u001b[0m \u001b[34m\u001b[0m\n",
      "       (0, 25, 1, 2)       85.997930       86.000000 \u001b[34m  -0.0020702831\u001b[0m \u001b[32m -2.4073056e-05\u001b[0m \u001b[34m\u001b[0m\n",
      "       (0, 25, 2, 0)       87.000884       87.000000 \u001b[31m  0.00088383772\u001b[0m \u001b[32m  1.0159053e-05\u001b[0m \u001b[31m\u001b[0m\n",
      "       (0, 25, 2, 1)       88.000331       88.000000 \u001b[31m  0.00033099630\u001b[0m \u001b[32m  3.7613211e-06\u001b[0m \u001b[31m\u001b[0m\n",
      "       (0, 25, 2, 2)       89.001005       89.000000 \u001b[31m   0.0010054405\u001b[0m \u001b[32m  1.1297083e-05\u001b[0m \u001b[31m\u001b[0m\n",
      "       (0, 26, 0, 0)       89.998454       90.000000 \u001b[34m  -0.0015463211\u001b[0m \u001b[32m -1.7181344e-05\u001b[0m \u001b[34m\u001b[0m\n",
      "       (0, 26, 0, 1)       90.999073       91.000000 \u001b[34m -0.00092707513\u001b[0m \u001b[32m -1.0187638e-05\u001b[0m \u001b[34m\u001b[0m\n",
      "       (0, 26, 0, 2)       91.998703       92.000000 \u001b[34m  -0.0012970054\u001b[0m \u001b[32m -1.4097883e-05\u001b[0m \u001b[34m\u001b[0m\n",
      "       (0, 26, 1, 0)       93.001596       93.000000 \u001b[31m   0.0015957845\u001b[0m \u001b[32m  1.7158971e-05\u001b[0m \u001b[31m\u001b[0m\n",
      "       (0, 26, 1, 1)       94.000242       94.000000 \u001b[31m  0.00024226780\u001b[0m \u001b[32m  2.5773168e-06\u001b[0m \u001b[31m\u001b[0m\n",
      "       (0, 26, 1, 2)       94.999461       95.000000 \u001b[34m -0.00053874712\u001b[0m \u001b[32m -5.6710217e-06\u001b[0m \u001b[34m\u001b[0m\n",
      "       (0, 26, 2, 0)       95.999581       96.000000 \u001b[34m -0.00041913966\u001b[0m \u001b[32m -4.3660377e-06\u001b[0m \u001b[34m\u001b[0m\n",
      "       (0, 26, 2, 1)       97.001966       97.000000 \u001b[31m   0.0019659431\u001b[0m \u001b[32m  2.0267452e-05\u001b[0m \u001b[31m\u001b[0m\n",
      "       (0, 26, 2, 2)       97.999443       98.000000 \u001b[34m -0.00055730464\u001b[0m \u001b[32m -5.6867815e-06\u001b[0m \u001b[34m\u001b[0m\n",
      "       (0, 27, 0, 0)       99.001761       99.000000 \u001b[31m   0.0017605435\u001b[0m \u001b[32m  1.7783266e-05\u001b[0m \u001b[31m\u001b[0m\n",
      "       (0, 27, 0, 1)       99.999877       100.00000 \u001b[34m -0.00012339852\u001b[0m \u001b[32m -1.2339851e-06\u001b[0m \u001b[34m\u001b[0m\n",
      "       (0, 27, 0, 2)       101.00046       101.00000 \u001b[31m  0.00046482150\u001b[0m \u001b[32m  4.6021927e-06\u001b[0m \u001b[31m\u001b[0m\n",
      "       (0, 27, 1, 0)       102.00019       102.00000 \u001b[31m  0.00019014086\u001b[0m \u001b[32m  1.8641259e-06\u001b[0m \u001b[31m\u001b[0m\n",
      "       (0, 27, 1, 1)       103.00089       103.00000 \u001b[31m  0.00088624075\u001b[0m \u001b[32m  8.6042783e-06\u001b[0m \u001b[31m\u001b[0m\n",
      "       (0, 27, 1, 2)       103.99999       104.00000 \u001b[34m -1.3183393e-05\u001b[0m \u001b[32m -1.2676339e-07\u001b[0m \u001b[34m\u001b[0m\n",
      "       (0, 27, 2, 0)       104.99861       105.00000 \u001b[34m  -0.0013923890\u001b[0m \u001b[32m -1.3260846e-05\u001b[0m \u001b[34m\u001b[0m\n",
      "       (0, 27, 2, 1)       106.00122       106.00000 \u001b[31m   0.0012171286\u001b[0m \u001b[32m  1.1482344e-05\u001b[0m \u001b[31m\u001b[0m\n",
      "       (0, 27, 2, 2)       107.00074       107.00000 \u001b[31m  0.00073973295\u001b[0m \u001b[32m  6.9133915e-06\u001b[0m \u001b[31m\u001b[0m\n",
      "       (0, 28, 0, 0)       108.00196       108.00000 \u001b[31m   0.0019569054\u001b[0m \u001b[32m  1.8119493e-05\u001b[0m \u001b[31m\u001b[0m\n",
      "       (0, 28, 0, 1)       108.99926       109.00000 \u001b[34m -0.00074438711\u001b[0m \u001b[32m -6.8292389e-06\u001b[0m \u001b[34m\u001b[0m\n",
      "       (0, 28, 0, 2)       109.99851       110.00000 \u001b[34m  -0.0014864327\u001b[0m \u001b[32m -1.3513023e-05\u001b[0m \u001b[34m\u001b[0m\n",
      "       (0, 28, 1, 0)       111.00144       111.00000 \u001b[31m   0.0014399726\u001b[0m \u001b[32m  1.2972725e-05\u001b[0m \u001b[31m\u001b[0m\n",
      "       (0, 28, 1, 1)       112.00112       112.00000 \u001b[31m   0.0011219969\u001b[0m \u001b[32m  1.0017829e-05\u001b[0m \u001b[31m\u001b[0m\n",
      "       (0, 28, 1, 2)       113.00128       113.00000 \u001b[31m   0.0012773407\u001b[0m \u001b[32m  1.1303899e-05\u001b[0m \u001b[31m\u001b[0m\n",
      "       (0, 28, 2, 0)       114.00166       114.00000 \u001b[31m   0.0016594084\u001b[0m \u001b[32m  1.4556212e-05\u001b[0m \u001b[31m\u001b[0m\n",
      "       (0, 28, 2, 1)       115.00233       115.00000 \u001b[31m   0.0023266576\u001b[0m \u001b[32m  2.0231804e-05\u001b[0m \u001b[31m\u001b[0m\n",
      "       (0, 28, 2, 2)       115.99951       116.00000 \u001b[34m -0.00048594966\u001b[0m \u001b[32m -4.1892208e-06\u001b[0m \u001b[34m\u001b[0m\n",
      "       (0, 29, 0, 0)       116.99953       117.00000 \u001b[34m -0.00047309836\u001b[0m \u001b[32m -4.0435754e-06\u001b[0m \u001b[34m\u001b[0m\n",
      "       (0, 29, 0, 1)       118.00019       118.00000 \u001b[31m  0.00019174950\u001b[0m \u001b[32m  1.6249956e-06\u001b[0m \u001b[31m\u001b[0m\n",
      "       (0, 29, 0, 2)       118.99904       119.00000 \u001b[34m -0.00095703232\u001b[0m \u001b[32m -8.0422877e-06\u001b[0m \u001b[34m\u001b[0m\n",
      "       (0, 29, 1, 0)       119.99934       120.00000 \u001b[34m -0.00066165576\u001b[0m \u001b[32m -5.5137976e-06\u001b[0m \u001b[34m\u001b[0m\n",
      "       (0, 29, 1, 1)       120.99913       121.00000 \u001b[34m -0.00086535487\u001b[0m \u001b[32m -7.1516925e-06\u001b[0m \u001b[34m\u001b[0m\n",
      "       (0, 29, 1, 2)       121.99764       122.00000 \u001b[34m  -0.0023616304\u001b[0m \u001b[32m -1.9357625e-05\u001b[0m \u001b[34m\u001b[0m\n",
      "       (0, 29, 2, 0)       122.99816       123.00000 \u001b[34m  -0.0018442353\u001b[0m \u001b[32m -1.4993782e-05\u001b[0m \u001b[34m\u001b[0m\n",
      "       (0, 29, 2, 1)       124.00037       124.00000 \u001b[31m  0.00036756593\u001b[0m \u001b[32m  2.9642411e-06\u001b[0m \u001b[31m\u001b[0m\n",
      "       (0, 29, 2, 2)       125.00117       125.00000 \u001b[31m   0.0011670587\u001b[0m \u001b[32m  9.3364690e-06\u001b[0m \u001b[31m\u001b[0m\n",
      "       (0, 30, 0, 0)       126.00072       126.00000 \u001b[31m  0.00071883235\u001b[0m \u001b[32m  5.7050182e-06\u001b[0m \u001b[31m\u001b[0m\n",
      "       (0, 30, 0, 1)       127.00108       127.00000 \u001b[31m   0.0010797616\u001b[0m \u001b[32m  8.5020594e-06\u001b[0m \u001b[31m\u001b[0m\n",
      "       (0, 30, 0, 2)       127.99834       128.00000 \u001b[34m  -0.0016621401\u001b[0m \u001b[32m -1.2985468e-05\u001b[0m \u001b[34m\u001b[0m\n",
      "       (0, 30, 1, 0)       129.00082       129.00000 \u001b[31m  0.00082230274\u001b[0m \u001b[32m  6.3744394e-06\u001b[0m \u001b[31m\u001b[0m\n",
      "       (0, 30, 1, 1)       130.00024       130.00000 \u001b[31m  0.00023799266\u001b[0m \u001b[32m  1.8307126e-06\u001b[0m \u001b[31m\u001b[0m\n",
      "       (0, 30, 1, 2)       131.00249       131.00000 \u001b[31m   0.0024886392\u001b[0m \u001b[32m  1.8997244e-05\u001b[0m \u001b[31m\u001b[0m\n",
      "       (0, 30, 2, 0)       132.00157       132.00000 \u001b[31m   0.0015677490\u001b[0m \u001b[32m  1.1876886e-05\u001b[0m \u001b[31m\u001b[0m\n",
      "       (0, 30, 2, 1)       132.99855       133.00000 \u001b[34m  -0.0014467397\u001b[0m \u001b[32m -1.0877741e-05\u001b[0m \u001b[34m\u001b[0m\n",
      "       (0, 30, 2, 2)       133.99784       134.00000 \u001b[34m  -0.0021571932\u001b[0m \u001b[32m -1.6098456e-05\u001b[0m \u001b[34m\u001b[0m\n",
      "       (0, 31, 0, 0)       134.99928       135.00000 \u001b[34m -0.00071958883\u001b[0m \u001b[32m -5.3302872e-06\u001b[0m \u001b[34m\u001b[0m\n",
      "       (0, 31, 0, 1)       135.99942       136.00000 \u001b[34m -0.00057777010\u001b[0m \u001b[32m -4.2483093e-06\u001b[0m \u001b[34m\u001b[0m\n",
      "       (0, 31, 0, 2)       137.00224       137.00000 \u001b[31m   0.0022398197\u001b[0m \u001b[32m  1.6349048e-05\u001b[0m \u001b[31m\u001b[0m\n",
      "       (0, 31, 1, 0)       138.00069       138.00000 \u001b[31m  0.00069084702\u001b[0m \u001b[32m  5.0061375e-06\u001b[0m \u001b[31m\u001b[0m\n",
      "       (0, 31, 1, 1)       138.99812       139.00000 \u001b[34m  -0.0018792016\u001b[0m \u001b[32m -1.3519435e-05\u001b[0m \u001b[34m\u001b[0m\n",
      "       (0, 31, 1, 2)       139.99754       140.00000 \u001b[34m  -0.0024554569\u001b[0m \u001b[32m -1.7538977e-05\u001b[0m \u001b[34m\u001b[0m\n",
      "       (0, 31, 2, 0)       141.00193       141.00000 \u001b[31m   0.0019262788\u001b[0m \u001b[32m  1.3661551e-05\u001b[0m \u001b[31m\u001b[0m\n",
      "       (0, 31, 2, 1)       141.99979       142.00000 \u001b[34m -0.00021100241\u001b[0m \u001b[32m -1.4859324e-06\u001b[0m \u001b[34m\u001b[0m\n",
      "       (0, 31, 2, 2)       143.00083       143.00000 \u001b[31m  0.00083490610\u001b[0m \u001b[32m  5.8385038e-06\u001b[0m \u001b[31m\u001b[0m\n",
      "\n"
     ]
    }
   ],
   "source": [
    "# feature: dump_vs\n",
    "a.dump_vs( # same arguments as plot_vs, but print the data instead of plotting. Indexes are corresponding. Use as a reference when plot is not clear.\n",
    "    # abs_tol=0.001, # default 1e-8\n",
    "    # rel_tol=0.01, # default 1e-3; either tolrence pass will be treated as pass; print \"!\" if not pass, the number of \"!\" is abs(diff) // (atol + rtol * abs(ref)), max to 100.\n",
    "    c_columns=32, # channels on every row\n",
    "\n",
    "    # tensor=None, # default; print ALL the tensors. May crash for large arrays, use with care\n",
    "    tensor='darray', # tensor name, will be printed out before the print. if np.darray, name is \"darray\".\n",
    "    # tensor=['darray'], # print a list of tensors\n",
    "\n",
    "    # slices=(slice(0, 1), slice(2, 8)), # slice the ORIGINAL darray, passing slice object\n",
    "    # slices=((0, 1), (2, 8)), # passing list or tuple of (end, ) or (start, end[, step])\n",
    "    # slices=(0, 1), # just slice the given index, equal to slice(index, index+1)\n",
    "    # slices=(0, -1), # -1 is equal to slice(None)\n",
    "    # slices=(-1, None, -1, -1, -1), # use this trick to expand dim\n",
    "    # slices=(-1, None, 64, slice(0, 2), (1, 2)), # you can use mixture of them\n",
    "\n",
    "    # mix_axis=[1, 2], # for 5-or-more-d data, merge the given dims so as to get a 4D (N, C, H, W) darray. if None, merge extra dims to C.\n",
    "\n",
    "    # resize_hw=\"rectangle\", # resize to nearest rectangle, no padding.\n",
    "    # resize_hw=\"auto\", # same to \"rectangle\"\n",
    "    # resize_hw=\"square\", # resize to nearest square, with padding\n",
    "    # resize_hw=(-1, -1), # same to \"square\"\n",
    "    # resize_hw=(2, 3), # resize to specific shape, with padding\n",
    "    # resize_hw=(-1, 3), # resize to specific shape, self calculate h, with padding\n",
    "    # resize_hw=(3, -1), # resize to specific shape, self calculate w, with padding\n",
    "    # resize_hw=None, # or\n",
    "    # resize_hw=\"none\", # do not resize (default)\n",
    "\n",
    "    # index=(0, 0), # zoom in the index in the plot_vs figure, idx left(right) then top(bottom)\n",
    "    # transpose_hw=True # transpose the data before resize_hw. The output shape will also be transposed if resize_hw is none or rectangle.\n",
    "\n",
    "    # verbose=True, # print all the indexes. If False, only print the indexes that do not pass the tolerance.\n",
    "    # top_k = 20 # print the most K error indexes\n",
    ")"
   ]
  },
  {
   "cell_type": "code",
   "execution_count": 9,
   "metadata": {},
   "outputs": [
    {
     "name": "stdout",
     "output_type": "stream",
     "text": [
      "tensor='darray', # original shape (1, 32, 1, 3, 3), shape (1, 32, 1, 3, 3), reshaped to (1, 32, 3, 3), shown in (1, 32, 3, 3)\n",
      "similarity: (0.954651, 0.691853, 10.247963), tolerance: abs 1e-08, rel 0\n",
      "top 20 errors:\n",
      "               index          target             ref        abs_diff        rel_diff\n",
      "        (0, 0, 0, 0)             nan      -144.00000 \u001b[31m            nan\u001b[0m \u001b[31m            nan\u001b[0m \u001b[31m!!!!!!!!!!!!!!!!!!!!!!!!!!!!!!!!!!!!!!!!!!!!!!!!!!!!!!!!!!!!!!!!!!!!!!!!!!!!!!!!!!!!!!!!!!!!!!!!!!!!\u001b[0m\n",
      "        (0, 0, 2, 1)             nan      -137.00000 \u001b[31m            nan\u001b[0m \u001b[31m            nan\u001b[0m \u001b[31m!!!!!!!!!!!!!!!!!!!!!!!!!!!!!!!!!!!!!!!!!!!!!!!!!!!!!!!!!!!!!!!!!!!!!!!!!!!!!!!!!!!!!!!!!!!!!!!!!!!!\u001b[0m\n",
      "        (0, 0, 2, 0)             nan      -138.00000 \u001b[31m            nan\u001b[0m \u001b[31m            nan\u001b[0m \u001b[31m!!!!!!!!!!!!!!!!!!!!!!!!!!!!!!!!!!!!!!!!!!!!!!!!!!!!!!!!!!!!!!!!!!!!!!!!!!!!!!!!!!!!!!!!!!!!!!!!!!!!\u001b[0m\n",
      "        (0, 0, 1, 2)             nan      -139.00000 \u001b[31m            nan\u001b[0m \u001b[31m            nan\u001b[0m \u001b[31m!!!!!!!!!!!!!!!!!!!!!!!!!!!!!!!!!!!!!!!!!!!!!!!!!!!!!!!!!!!!!!!!!!!!!!!!!!!!!!!!!!!!!!!!!!!!!!!!!!!!\u001b[0m\n",
      "        (0, 0, 1, 1)             nan      -140.00000 \u001b[31m            nan\u001b[0m \u001b[31m            nan\u001b[0m \u001b[31m!!!!!!!!!!!!!!!!!!!!!!!!!!!!!!!!!!!!!!!!!!!!!!!!!!!!!!!!!!!!!!!!!!!!!!!!!!!!!!!!!!!!!!!!!!!!!!!!!!!!\u001b[0m\n",
      "        (0, 0, 1, 0)             nan      -141.00000 \u001b[31m            nan\u001b[0m \u001b[31m            nan\u001b[0m \u001b[31m!!!!!!!!!!!!!!!!!!!!!!!!!!!!!!!!!!!!!!!!!!!!!!!!!!!!!!!!!!!!!!!!!!!!!!!!!!!!!!!!!!!!!!!!!!!!!!!!!!!!\u001b[0m\n",
      "        (0, 0, 2, 2)             nan      -136.00000 \u001b[31m            nan\u001b[0m \u001b[31m            nan\u001b[0m \u001b[31m!!!!!!!!!!!!!!!!!!!!!!!!!!!!!!!!!!!!!!!!!!!!!!!!!!!!!!!!!!!!!!!!!!!!!!!!!!!!!!!!!!!!!!!!!!!!!!!!!!!!\u001b[0m\n",
      "        (0, 0, 0, 2)             nan      -142.00000 \u001b[31m            nan\u001b[0m \u001b[31m            nan\u001b[0m \u001b[31m!!!!!!!!!!!!!!!!!!!!!!!!!!!!!!!!!!!!!!!!!!!!!!!!!!!!!!!!!!!!!!!!!!!!!!!!!!!!!!!!!!!!!!!!!!!!!!!!!!!!\u001b[0m\n",
      "        (0, 0, 0, 1)             nan      -143.00000 \u001b[31m            nan\u001b[0m \u001b[31m            nan\u001b[0m \u001b[31m!!!!!!!!!!!!!!!!!!!!!!!!!!!!!!!!!!!!!!!!!!!!!!!!!!!!!!!!!!!!!!!!!!!!!!!!!!!!!!!!!!!!!!!!!!!!!!!!!!!!\u001b[0m\n",
      "       (0, 31, 0, 0)       134.99750       135.00000 \u001b[34m  -0.0024975332\u001b[0m \u001b[34m -1.8500246e-05\u001b[0m \u001b[34m!!!!!!!!!!!!!!!!!!!!!!!!!!!!!!!!!!!!!!!!!!!!!!!!!!!!!!!!!!!!!!!!!!!!!!!!!!!!!!!!!!!!!!!!!!!!!!!!!!!!\u001b[0m\n",
      "       (0, 30, 1, 1)       130.00248       130.00000 \u001b[31m   0.0024834321\u001b[0m \u001b[31m  1.9103324e-05\u001b[0m \u001b[31m!!!!!!!!!!!!!!!!!!!!!!!!!!!!!!!!!!!!!!!!!!!!!!!!!!!!!!!!!!!!!!!!!!!!!!!!!!!!!!!!!!!!!!!!!!!!!!!!!!!!\u001b[0m\n",
      "       (0, 19, 2, 0)       33.002477       33.000000 \u001b[31m   0.0024771068\u001b[0m \u001b[31m  7.5063844e-05\u001b[0m \u001b[31m!!!!!!!!!!!!!!!!!!!!!!!!!!!!!!!!!!!!!!!!!!!!!!!!!!!!!!!!!!!!!!!!!!!!!!!!!!!!!!!!!!!!!!!!!!!!!!!!!!!!\u001b[0m\n",
      "        (0, 3, 0, 1)      -115.99752      -116.00000 \u001b[31m   0.0024760155\u001b[0m \u001b[31m  2.1344961e-05\u001b[0m \u001b[31m!!!!!!!!!!!!!!!!!!!!!!!!!!!!!!!!!!!!!!!!!!!!!!!!!!!!!!!!!!!!!!!!!!!!!!!!!!!!!!!!!!!!!!!!!!!!!!!!!!!!\u001b[0m\n",
      "       (0, 22, 0, 2)       55.997536       56.000000 \u001b[34m  -0.0024637787\u001b[0m \u001b[34m -4.3996048e-05\u001b[0m \u001b[34m!!!!!!!!!!!!!!!!!!!!!!!!!!!!!!!!!!!!!!!!!!!!!!!!!!!!!!!!!!!!!!!!!!!!!!!!!!!!!!!!!!!!!!!!!!!!!!!!!!!!\u001b[0m\n",
      "       (0, 31, 0, 1)       136.00246       136.00000 \u001b[31m   0.0024618717\u001b[0m \u001b[31m  1.8101998e-05\u001b[0m \u001b[31m!!!!!!!!!!!!!!!!!!!!!!!!!!!!!!!!!!!!!!!!!!!!!!!!!!!!!!!!!!!!!!!!!!!!!!!!!!!!!!!!!!!!!!!!!!!!!!!!!!!!\u001b[0m\n",
      "        (0, 6, 2, 2)      -82.002454      -82.000000 \u001b[34m  -0.0024542378\u001b[0m \u001b[34m -2.9929729e-05\u001b[0m \u001b[34m!!!!!!!!!!!!!!!!!!!!!!!!!!!!!!!!!!!!!!!!!!!!!!!!!!!!!!!!!!!!!!!!!!!!!!!!!!!!!!!!!!!!!!!!!!!!!!!!!!!!\u001b[0m\n",
      "       (0, 16, 2, 2)       7.9975493       8.0000000 \u001b[34m  -0.0024506682\u001b[0m \u001b[34m -0.00030633352\u001b[0m \u001b[34m!!!!!!!!!!!!!!!!!!!!!!!!!!!!!!!!!!!!!!!!!!!!!!!!!!!!!!!!!!!!!!!!!!!!!!!!!!!!!!!!!!!!!!!!!!!!!!!!!!!!\u001b[0m\n",
      "       (0, 13, 2, 1)      -19.997554      -20.000000 \u001b[31m   0.0024461952\u001b[0m \u001b[31m  0.00012230976\u001b[0m \u001b[31m!!!!!!!!!!!!!!!!!!!!!!!!!!!!!!!!!!!!!!!!!!!!!!!!!!!!!!!!!!!!!!!!!!!!!!!!!!!!!!!!!!!!!!!!!!!!!!!!!!!!\u001b[0m\n",
      "       (0, 20, 0, 2)       37.997554       38.000000 \u001b[34m  -0.0024461365\u001b[0m \u001b[34m -6.4372013e-05\u001b[0m \u001b[34m!!!!!!!!!!!!!!!!!!!!!!!!!!!!!!!!!!!!!!!!!!!!!!!!!!!!!!!!!!!!!!!!!!!!!!!!!!!!!!!!!!!!!!!!!!!!!!!!!!!!\u001b[0m\n",
      "       (0, 29, 2, 2)       124.99755       125.00000 \u001b[34m  -0.0024456482\u001b[0m \u001b[34m -1.9565185e-05\u001b[0m \u001b[34m!!!!!!!!!!!!!!!!!!!!!!!!!!!!!!!!!!!!!!!!!!!!!!!!!!!!!!!!!!!!!!!!!!!!!!!!!!!!!!!!!!!!!!!!!!!!!!!!!!!!\u001b[0m\n",
      "\n"
     ]
    },
    {
     "name": "stderr",
     "output_type": "stream",
     "text": [
      "/home/chen/workspace/nnmoduletools/nnmoduletools/comparer/compare_visualizer.py:701: RuntimeWarning: divide by zero encountered in divide\n",
      "  rel_diff = diff / (abs_ref + zero_mask)\n"
     ]
    }
   ],
   "source": [
    "# feature: dump_vs_plot\n",
    "# when plot_vs is called, the arguments are cached and will be used by dump_vs_plot.\n",
    "# you can override the arguments by passing them to dump_vs_plot.\n",
    "a.dump_vs_plot(top_k=20)"
   ]
  },
  {
   "cell_type": "markdown",
   "metadata": {},
   "source": [
    "## Float Utils"
   ]
  },
  {
   "cell_type": "code",
   "execution_count": 10,
   "metadata": {},
   "outputs": [],
   "source": [
    "from nnmoduletools import f32, f16, bf16"
   ]
  },
  {
   "cell_type": "code",
   "execution_count": 11,
   "metadata": {},
   "outputs": [
    {
     "data": {
      "text/plain": [
       "(floating[3.1415927(0x40490fdb)],\n",
       " float16[3.140625(0x4248)],\n",
       " bfloat16[3.140625(0x4049)])"
      ]
     },
     "execution_count": 11,
     "metadata": {},
     "output_type": "execute_result"
    }
   ],
   "source": [
    "f32(np.pi), f16(np.pi), bf16(np.pi)"
   ]
  },
  {
   "cell_type": "code",
   "execution_count": 12,
   "metadata": {},
   "outputs": [
    {
     "data": {
      "text/plain": [
       "(floating[3.1415927(0x40490fdb)],\n",
       " float16[3.140625(0x4248)],\n",
       " bfloat16[3.140625(0x4049)])"
      ]
     },
     "execution_count": 12,
     "metadata": {},
     "output_type": "execute_result"
    }
   ],
   "source": [
    "f32(memory=0x40490fdb), f16(memory=0x4248), bf16(memory=0x4049)"
   ]
  },
  {
   "cell_type": "code",
   "execution_count": 13,
   "metadata": {},
   "outputs": [
    {
     "data": {
      "text/plain": [
       "float16[10000.0(0x70e2)]"
      ]
     },
     "execution_count": 13,
     "metadata": {},
     "output_type": "execute_result"
    }
   ],
   "source": [
    "f16(10000) + f16(4)"
   ]
  },
  {
   "cell_type": "code",
   "execution_count": 14,
   "metadata": {},
   "outputs": [
    {
     "data": {
      "text/plain": [
       "float16[0.5(0x3800), 0.7001953(0x399a), 0.9003906(0x3b34)]"
      ]
     },
     "execution_count": 14,
     "metadata": {},
     "output_type": "execute_result"
    }
   ],
   "source": [
    "f16([0.1, 0.2, 0.3]) + f16([0.4, 0.5, 0.6])"
   ]
  },
  {
   "cell_type": "code",
   "execution_count": 15,
   "metadata": {},
   "outputs": [
    {
     "data": {
      "text/plain": [
       "float16[3.140625(0x4248)]"
      ]
     },
     "execution_count": 15,
     "metadata": {},
     "output_type": "execute_result"
    }
   ],
   "source": [
    "f32(3.1415926).to(f16)"
   ]
  },
  {
   "cell_type": "code",
   "execution_count": null,
   "metadata": {},
   "outputs": [],
   "source": []
  }
 ],
 "metadata": {
  "kernelspec": {
   "display_name": "base",
   "language": "python",
   "name": "python3"
  },
  "language_info": {
   "codemirror_mode": {
    "name": "ipython",
    "version": 3
   },
   "file_extension": ".py",
   "mimetype": "text/x-python",
   "name": "python",
   "nbconvert_exporter": "python",
   "pygments_lexer": "ipython3",
   "version": "3.11.5"
  }
 },
 "nbformat": 4,
 "nbformat_minor": 2
}
