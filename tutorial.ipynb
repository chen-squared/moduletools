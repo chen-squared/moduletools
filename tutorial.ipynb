{
 "cells": [
  {
   "cell_type": "markdown",
   "metadata": {},
   "source": [
    "# Tutorial"
   ]
  },
  {
   "cell_type": "markdown",
   "metadata": {},
   "source": [
    "## Compare Visualizer"
   ]
  },
  {
   "cell_type": "code",
   "execution_count": 1,
   "metadata": {},
   "outputs": [],
   "source": [
    "import nnmoduletools\n",
    "import numpy as np"
   ]
  },
  {
   "cell_type": "code",
   "execution_count": 2,
   "metadata": {},
   "outputs": [],
   "source": [
    "# make fake reference data\n",
    "fn2 = np.arange(1*32*3*3).reshape((1, 32, 1, 3, 3)).astype(float) - 16*3*3\n",
    "fn1 = fn2 + np.random.random((1, 32, 1, 3, 3)) * 0.005 - 0.0025\n",
    "fn1[0][0][0] = np.nan\n",
    "\n",
    "err_fn = \"err.npz\"\n",
    "np.savez(err_fn, darray_actual=fn1, darray_desired=fn2)\n",
    "tpu_fn = \"darray_tpu_out.npz\"\n",
    "model_fn = \"darray_model_out.npz\"\n",
    "np.savez(model_fn, darray=fn1)\n",
    "np.savez(tpu_fn, darray=fn2)"
   ]
  },
  {
   "cell_type": "code",
   "execution_count": 3,
   "metadata": {},
   "outputs": [
    {
     "name": "stdout",
     "output_type": "stream",
     "text": [
      "Target tensors: 1, Ref tensors: 1, Common tensors: 1, Unmatched tensors:0\n",
      "tensor='darray', #shape (1, 32, 1, 3, 3)\n"
     ]
    }
   ],
   "source": [
    "a = nnmoduletools.NPZComparer(fn1, fn2) # npz file name, npz file, dict-like object or np.darray is OK\n",
    "# a = nnmoduletools.err_comparer(err_fn) # generate your files into one npz with ${tensor_name}_actual and ${tensor_name}_desired. Large files may be slow.\n",
    "# a = nnmoduletools.model_tpu_comparer(tpu_fn) # or\n",
    "# a = nnmoduletools.model_tpu_comparer(model_fn) # if you use tpu-mlir and want to compare model and tpu output npzs. Specify either of them.\n",
    "\n",
    "a.info() # prints the tensor names and shape of common data\n",
    "# a.ref.info() # prints the tensor names and shape of reference data\n",
    "# a.target.info() # prints the tensor names and shape of target data"
   ]
  },
  {
   "cell_type": "code",
   "execution_count": 4,
   "metadata": {},
   "outputs": [
    {
     "name": "stdout",
     "output_type": "stream",
     "text": [
      "Target tensors: 1, Ref tensors: 1, Common tensors: 1, Unmatched tensors:0\n"
     ]
    },
    {
     "name": "stderr",
     "output_type": "stream",
     "text": [
      "100%|██████████| 1/1 [00:00<00:00, 11748.75it/s]\n"
     ]
    },
    {
     "name": "stdout",
     "output_type": "stream",
     "text": [
      "tensor='darray', #(1, 32, 1, 3, 3) similarity: (0.954651, 0.691853, 10.247952)\n",
      "min_similarity: (0.9546507170829914, 0.6918525666630447, 10.247952316191395)\n"
     ]
    },
    {
     "data": {
      "text/plain": [
       "True"
      ]
     },
     "execution_count": 4,
     "metadata": {},
     "output_type": "execute_result"
    }
   ],
   "source": [
    "a.compare() # do compare like npz_tool"
   ]
  },
  {
   "cell_type": "code",
   "execution_count": 5,
   "metadata": {},
   "outputs": [
    {
     "name": "stdout",
     "output_type": "stream",
     "text": [
      "Target tensors: 1, Ref tensors: 1, Common tensors: 1, Unmatched tensors:0\n"
     ]
    },
    {
     "name": "stderr",
     "output_type": "stream",
     "text": [
      "100%|██████████| 1/1 [00:00<00:00, 10837.99it/s]"
     ]
    },
    {
     "name": "stdout",
     "output_type": "stream",
     "text": [
      "\u001b[31mtensor='darray', #(1, 32, 1, 3, 3) similarity: (0.954651, 0.691853, 10.247952) ×\u001b[0m\n",
      "\u001b[31mmin_similarity: (0.9546507170829914, 0.6918525666630447, 10.247952316191395) ×\u001b[0m\n"
     ]
    },
    {
     "name": "stderr",
     "output_type": "stream",
     "text": [
      "\n"
     ]
    },
    {
     "data": {
      "text/plain": [
       "False"
      ]
     },
     "execution_count": 5,
     "metadata": {},
     "output_type": "execute_result"
    }
   ],
   "source": [
    "a.compare(tolerance=(0.999, 0.99)) # set tolerance to see whether all tensors have passed"
   ]
  },
  {
   "cell_type": "code",
   "execution_count": 6,
   "metadata": {},
   "outputs": [
    {
     "name": "stderr",
     "output_type": "stream",
     "text": [
      "100%|██████████| 1/1 [00:00<00:00, 11650.84it/s]"
     ]
    },
    {
     "name": "stdout",
     "output_type": "stream",
     "text": [
      "\u001b[31mtensor='darray', #(1, 32, 1, 3, 3) similarity: (0.954651, 0.691853, 10.247952) ×\u001b[0m\n",
      "\u001b[31mmin_similarity: (0.9546507170829914, 0.6918525666630447, 10.247952316191395) ×\u001b[0m\n"
     ]
    },
    {
     "name": "stderr",
     "output_type": "stream",
     "text": [
      "\n"
     ]
    },
    {
     "data": {
      "text/plain": [
       "False"
      ]
     },
     "execution_count": 6,
     "metadata": {},
     "output_type": "execute_result"
    }
   ],
   "source": [
    "a.compare(tolerance=(0.9999, 0.9999), tensor='darray') # compare specific tensor(s)\n",
    "# a.compare(tolerance=(0.999, 0.999), tensor=['darray'])"
   ]
  },
  {
   "cell_type": "code",
   "execution_count": 7,
   "metadata": {},
   "outputs": [
    {
     "name": "stdout",
     "output_type": "stream",
     "text": [
      "tensor='darray',\n",
      "shape (1, 32, 1, 3, 3), reshaped to (1, 32, 3, 3), shown in (1, 32, 3, 3)\n",
      "data distribution: mean 3.9999381488351577, min -135.00052821591984, max 142.99777432177638\n",
      "vmin -144.0 zero point 0.0 vmax 144.0 \n"
     ]
    },
    {
     "data": {
      "image/png": "[encoded data removed]",
      "text/plain": [
       "<Figure size 1600x350 with 1 Axes>"
      ]
     },
     "metadata": {},
     "output_type": "display_data"
    },
    {
     "name": "stdout",
     "output_type": "stream",
     "text": [
      "tensor='darray',\n",
      "shape (1, 32, 1, 3, 3), reshaped to (1, 32, 3, 3), shown in (1, 32, 3, 3)\n",
      "data distribution: mean -0.5, min -144.0, max 143.0\n",
      "vmin -144.0 zero point 0.0 vmax 144.0 \n"
     ]
    },
    {
     "data": {
      "image/png": "[encoded data removed]",
      "text/plain": [
       "<Figure size 1600x350 with 1 Axes>"
      ]
     },
     "metadata": {},
     "output_type": "display_data"
    },
    {
     "name": "stdout",
     "output_type": "stream",
     "text": [
      "abs tol 1e-08, rel tol 0\n",
      "tensor='darray',\n",
      "Max of abs diff: neg -0.0024778781233978364, pos 0.002484468239639881, mean -6.185116484108688e-05\n",
      "Abs of abs diff: min 3.449458851889631e-08, max 0.002484468239639881, mean 0.0013276753638997488\n",
      "similarity: (0.9546507170829914, 0.6918525666630447, 10.247952316191395)\n",
      "diffmin -0.01 diffmax 0.01\n"
     ]
    },
    {
     "data": {
      "image/png": "[encoded data removed]",
      "text/plain": [
       "<Figure size 1600x350 with 1 Axes>"
      ]
     },
     "metadata": {},
     "output_type": "display_data"
    }
   ],
   "source": [
    "# a.plot_target( # plot the data distribution of target data\n",
    "# a.plot_ref( # plot the data distribution of reference data\n",
    "# a.plot_diff( # plot the difference of target and reference\n",
    "a.plot_vs( # plot the previous three things\n",
    "    abs_tol=1e-8, # default 1e-8; diff within tol will be treated as no difference. \n",
    "    rel_tol=0, # default 1e-3; either tolrence pass will be treated as pass; if assigned rel_tol, diff values are rescaled, not original value.\n",
    "    diffmin=-0.01, diffmax=0.01, # min max value of diff plot color map. will be forced to symmetric.\n",
    "    figsize=16, # the vertical size of generated figure, change it to make the figure clear. Horizontal size will be calculated automatically.\n",
    "    c_columns=32, # channels on every row\n",
    "\n",
    "    # tensor=None, # default; plot ALL the tensors. May cause OOM for large files, use with care\n",
    "    tensor='darray', # tensor name, will be printed out before the figure. if np.darray, name is \"darray\". You can triple click the line printed out by .compare() or .info(), copy it and paste here for convinience.\n",
    "    # tensor=['darray'], # plot a list of tensors\n",
    "\n",
    "    # slices=(slice(0, 1), slice(2, 8)), # slice the ORIGINAL darray, passing slice object\n",
    "    # slices=((0, 1), (2, 8)), # passing list or tuple of (end, ) or (start, end[, step])\n",
    "    # slices=(0, 1), # just slice the given index, equal to slice(index, index+1)\n",
    "    # slices=(0, -1), # -1 is equal to slice(None)\n",
    "    # slices=(-1, None, -1, -1, -1), # use this trick to expand dim\n",
    "    # slices=(-1, None, 64, slice(0, 2), (1, 2)), # you can use mixture of them\n",
    "\n",
    "    # mix_axis=[1, 2], # for 5-or-more-dim data, merge the given dims so as to get a 4D (N, C, H, W) darray. if None, merge extra dims to C.\n",
    "\n",
    "    # resize_hw=\"rectangle\", # resize to nearest rectangle, no padding. If you encounter errors like \"fig size too big\", try this.\n",
    "    # resize_hw=\"auto\", # same to \"rectangle\"\n",
    "    resize_hw=\"square\", # resize to nearest square, with padding\n",
    "    # resize_hw=(-1, -1), # same to \"square\"\n",
    "    # resize_hw=(5, 2), # resize to specific shape, with padding\n",
    "    # resize_hw=(-1, 4), # resize to specific shape, self calculate h, with padding\n",
    "    # resize_hw=(4, -1), # resize to specific shape, self calculate w, with padding\n",
    "    # resize_hw=None, # or\n",
    "    # resize_hw=\"none\", # do not resize (default)\n",
    "\n",
    "    # index=(2, 0), # zoom in the index in the FIGURE, idx left(right) then top(bottom)\n",
    "    # transpose_hw=True # transpose the data before resize_hw. The output figure shape will also be transposed if resize_hw is none or rectangle.\n",
    "\n",
    "    # zero_point=0., # zero point of the data color map, default None, the mean of target and ref data\n",
    "    # vmin=-1, vmax=1, # min max value of data color map, default None, the min and max of target and ref data. will be forced to symmetric.\n",
    "    # dump=True, # whether do dump_vs after plot_vs (next cell)\n",
    "    # verbose=True, # no use, pass to dump_vs if dump=True\n",
    ")"
   ]
  },
  {
   "cell_type": "code",
   "execution_count": 8,
   "metadata": {},
   "outputs": [
    {
     "name": "stdout",
     "output_type": "stream",
     "text": [
      "tensor='darray', # original shape (1, 32, 1, 3, 3), shape (1, 32, 1, 3, 3), reshaped to (1, 32, 3, 3), shown in (1, 32, 3, 3)\n",
      "similarity: (0.954651, 0.691853, 10.247952), tolerance: abs 1e-08, rel 0.001\n",
      "               index          target             ref            diff        rel_diff\n",
      "        (0, 0, 0, 0)             nan      -144.00000 \u001b[31m            nan\u001b[0m \u001b[31m            nan\u001b[0m \u001b[31m!!!!!!!!!!!!!!!!!!!!!!!!!!!!!!!!!!!!!!!!!!!!!!!!!!!!!!!!!!!!!!!!!!!!!!!!!!!!!!!!!!!!!!!!!!!!!!!!!!!!\u001b[0m\n",
      "        (0, 0, 0, 1)             nan      -143.00000 \u001b[31m            nan\u001b[0m \u001b[31m            nan\u001b[0m \u001b[31m!!!!!!!!!!!!!!!!!!!!!!!!!!!!!!!!!!!!!!!!!!!!!!!!!!!!!!!!!!!!!!!!!!!!!!!!!!!!!!!!!!!!!!!!!!!!!!!!!!!!\u001b[0m\n",
      "        (0, 0, 0, 2)             nan      -142.00000 \u001b[31m            nan\u001b[0m \u001b[31m            nan\u001b[0m \u001b[31m!!!!!!!!!!!!!!!!!!!!!!!!!!!!!!!!!!!!!!!!!!!!!!!!!!!!!!!!!!!!!!!!!!!!!!!!!!!!!!!!!!!!!!!!!!!!!!!!!!!!\u001b[0m\n",
      "        (0, 0, 1, 0)             nan      -141.00000 \u001b[31m            nan\u001b[0m \u001b[31m            nan\u001b[0m \u001b[31m!!!!!!!!!!!!!!!!!!!!!!!!!!!!!!!!!!!!!!!!!!!!!!!!!!!!!!!!!!!!!!!!!!!!!!!!!!!!!!!!!!!!!!!!!!!!!!!!!!!!\u001b[0m\n",
      "        (0, 0, 1, 1)             nan      -140.00000 \u001b[31m            nan\u001b[0m \u001b[31m            nan\u001b[0m \u001b[31m!!!!!!!!!!!!!!!!!!!!!!!!!!!!!!!!!!!!!!!!!!!!!!!!!!!!!!!!!!!!!!!!!!!!!!!!!!!!!!!!!!!!!!!!!!!!!!!!!!!!\u001b[0m\n",
      "        (0, 0, 1, 2)             nan      -139.00000 \u001b[31m            nan\u001b[0m \u001b[31m            nan\u001b[0m \u001b[31m!!!!!!!!!!!!!!!!!!!!!!!!!!!!!!!!!!!!!!!!!!!!!!!!!!!!!!!!!!!!!!!!!!!!!!!!!!!!!!!!!!!!!!!!!!!!!!!!!!!!\u001b[0m\n",
      "        (0, 0, 2, 0)             nan      -138.00000 \u001b[31m            nan\u001b[0m \u001b[31m            nan\u001b[0m \u001b[31m!!!!!!!!!!!!!!!!!!!!!!!!!!!!!!!!!!!!!!!!!!!!!!!!!!!!!!!!!!!!!!!!!!!!!!!!!!!!!!!!!!!!!!!!!!!!!!!!!!!!\u001b[0m\n",
      "        (0, 0, 2, 1)             nan      -137.00000 \u001b[31m            nan\u001b[0m \u001b[31m            nan\u001b[0m \u001b[31m!!!!!!!!!!!!!!!!!!!!!!!!!!!!!!!!!!!!!!!!!!!!!!!!!!!!!!!!!!!!!!!!!!!!!!!!!!!!!!!!!!!!!!!!!!!!!!!!!!!!\u001b[0m\n",
      "        (0, 0, 2, 2)             nan      -136.00000 \u001b[31m            nan\u001b[0m \u001b[31m            nan\u001b[0m \u001b[31m!!!!!!!!!!!!!!!!!!!!!!!!!!!!!!!!!!!!!!!!!!!!!!!!!!!!!!!!!!!!!!!!!!!!!!!!!!!!!!!!!!!!!!!!!!!!!!!!!!!!\u001b[0m\n",
      "       (0, 15, 2, 2)      -1.0014627      -1.0000000 \u001b[34m  -0.0014626513\u001b[0m \u001b[34m  -0.0014626513\u001b[0m \u001b[34m!\u001b[0m\n",
      "       (0, 16, 0, 0)   -0.0021327549       0.0000000 \u001b[34m  -0.0021327549\u001b[0m \u001b[34m           -inf\u001b[0m \u001b[34m!!!!!!!!!!!!!!!!!!!!!!!!!!!!!!!!!!!!!!!!!!!!!!!!!!!!!!!!!!!!!!!!!!!!!!!!!!!!!!!!!!!!!!!!!!!!!!!!!!!!\u001b[0m\n",
      "\n"
     ]
    },
    {
     "name": "stderr",
     "output_type": "stream",
     "text": [
      "/home/chen/workspace/nnmoduletools/nnmoduletools/comparer/compare_visualizer.py:695: RuntimeWarning: divide by zero encountered in divide\n",
      "  rel_diff = diff / np.abs(ref_darray)\n"
     ]
    }
   ],
   "source": [
    "# feature: dump_vs\n",
    "a.dump_vs( # same arguments as plot_vs, but print the data instead of plotting. Indexes are corresponding. Use as a reference when plot is not clear.\n",
    "#     abs_tol=0.001, # default 1e-8\n",
    "#     rel_tol=0.01, # default 1e-3; either tolrence pass will be treated as pass; print \"!\" if not pass, the number of \"!\" is abs(diff) // (atol + rtol * abs(ref)), max to 100.\n",
    "    c_columns=32, # channels on every row\n",
    "\n",
    "#     tensor=None, # default; print ALL the tensors. May crash for large arrays, use with care\n",
    "    tensor='darray', # tensor name, will be printed out before the print. if np.darray, name is \"darray\".\n",
    "#     tensor=['darray'], # print a list of tensors\n",
    "\n",
    "#     slices=(slice(0, 1), slice(2, 8)), # slice the ORIGINAL darray, passing slice object\n",
    "#     slices=((0, 1), (2, 8)), # passing list or tuple of (end, ) or (start, end[, step])\n",
    "#     slices=(0, 1), # just slice the given index, equal to slice(index, index+1)\n",
    "#     slices=(0, -1), # -1 is equal to slice(None)\n",
    "#     slices=(-1, None, -1, -1, -1), # use this trick to expand dim\n",
    "#     slices=(-1, None, 64, slice(0, 2), (1, 2)), # you can use mixture of them\n",
    "\n",
    "#     mix_axis=[1, 2], # for 5-or-more-d data, merge the given dims so as to get a 4D (N, C, H, W) darray. if None, merge extra dims to C.\n",
    "\n",
    "#     resize_hw=\"rectangle\", # resize to nearest rectangle, no padding.\n",
    "#     resize_hw=\"auto\", # same to \"rectangle\"\n",
    "#     resize_hw=\"square\", # resize to nearest square, with padding\n",
    "#     resize_hw=(-1, -1), # same to \"square\"\n",
    "#     resize_hw=(2, 3), # resize to specific shape, with padding\n",
    "#     resize_hw=(-1, 3), # resize to specific shape, self calculate h, with padding\n",
    "#     resize_hw=(3, -1), # resize to specific shape, self calculate w, with padding\n",
    "#     resize_hw=None, # or\n",
    "#     resize_hw=\"none\", # do not resize (default)\n",
    "\n",
    "    # index=(2, 0), # zoom in the index in the plot_vs figure, idx left(right) then top(bottom)\n",
    "#     transpose_hw=True # transpose the data before resize_hw. The output shape will also be transposed if resize_hw is none or rectangle.\n",
    "\n",
    "    # verbose=True # print all the indexes. If False, only print the indexes that do not pass the tolerance.\n",
    ")"
   ]
  },
  {
   "cell_type": "code",
   "execution_count": 9,
   "metadata": {},
   "outputs": [
    {
     "name": "stdout",
     "output_type": "stream",
     "text": [
      "tensor='darray', # original shape (1, 32, 1, 3, 3), shape (1, 32, 1, 3, 3), reshaped to (1, 32, 3, 3), shown in (1, 32, 3, 3)\n",
      "similarity: (0.954651, 0.691853, 10.247952), tolerance: abs 1e-08, rel 0\n",
      "               index          target             ref            diff        rel_diff\n",
      "        (0, 0, 0, 0)             nan      -144.00000 \u001b[31m            nan\u001b[0m \u001b[31m            nan\u001b[0m \u001b[31m!!!!!!!!!!!!!!!!!!!!!!!!!!!!!!!!!!!!!!!!!!!!!!!!!!!!!!!!!!!!!!!!!!!!!!!!!!!!!!!!!!!!!!!!!!!!!!!!!!!!\u001b[0m\n",
      "        (0, 0, 0, 1)             nan      -143.00000 \u001b[31m            nan\u001b[0m \u001b[31m            nan\u001b[0m \u001b[31m!!!!!!!!!!!!!!!!!!!!!!!!!!!!!!!!!!!!!!!!!!!!!!!!!!!!!!!!!!!!!!!!!!!!!!!!!!!!!!!!!!!!!!!!!!!!!!!!!!!!\u001b[0m\n",
      "        (0, 0, 0, 2)             nan      -142.00000 \u001b[31m            nan\u001b[0m \u001b[31m            nan\u001b[0m \u001b[31m!!!!!!!!!!!!!!!!!!!!!!!!!!!!!!!!!!!!!!!!!!!!!!!!!!!!!!!!!!!!!!!!!!!!!!!!!!!!!!!!!!!!!!!!!!!!!!!!!!!!\u001b[0m\n",
      "        (0, 0, 1, 0)             nan      -141.00000 \u001b[31m            nan\u001b[0m \u001b[31m            nan\u001b[0m \u001b[31m!!!!!!!!!!!!!!!!!!!!!!!!!!!!!!!!!!!!!!!!!!!!!!!!!!!!!!!!!!!!!!!!!!!!!!!!!!!!!!!!!!!!!!!!!!!!!!!!!!!!\u001b[0m\n",
      "        (0, 0, 1, 1)             nan      -140.00000 \u001b[31m            nan\u001b[0m \u001b[31m            nan\u001b[0m \u001b[31m!!!!!!!!!!!!!!!!!!!!!!!!!!!!!!!!!!!!!!!!!!!!!!!!!!!!!!!!!!!!!!!!!!!!!!!!!!!!!!!!!!!!!!!!!!!!!!!!!!!!\u001b[0m\n",
      "        (0, 0, 1, 2)             nan      -139.00000 \u001b[31m            nan\u001b[0m \u001b[31m            nan\u001b[0m \u001b[31m!!!!!!!!!!!!!!!!!!!!!!!!!!!!!!!!!!!!!!!!!!!!!!!!!!!!!!!!!!!!!!!!!!!!!!!!!!!!!!!!!!!!!!!!!!!!!!!!!!!!\u001b[0m\n",
      "        (0, 0, 2, 0)             nan      -138.00000 \u001b[31m            nan\u001b[0m \u001b[31m            nan\u001b[0m \u001b[31m!!!!!!!!!!!!!!!!!!!!!!!!!!!!!!!!!!!!!!!!!!!!!!!!!!!!!!!!!!!!!!!!!!!!!!!!!!!!!!!!!!!!!!!!!!!!!!!!!!!!\u001b[0m\n",
      "        (0, 0, 2, 1)             nan      -137.00000 \u001b[31m            nan\u001b[0m \u001b[31m            nan\u001b[0m \u001b[31m!!!!!!!!!!!!!!!!!!!!!!!!!!!!!!!!!!!!!!!!!!!!!!!!!!!!!!!!!!!!!!!!!!!!!!!!!!!!!!!!!!!!!!!!!!!!!!!!!!!!\u001b[0m\n",
      "        (0, 0, 2, 2)             nan      -136.00000 \u001b[31m            nan\u001b[0m \u001b[31m            nan\u001b[0m \u001b[31m!!!!!!!!!!!!!!!!!!!!!!!!!!!!!!!!!!!!!!!!!!!!!!!!!!!!!!!!!!!!!!!!!!!!!!!!!!!!!!!!!!!!!!!!!!!!!!!!!!!!\u001b[0m\n",
      "        (0, 1, 0, 0)      -135.00053      -135.00000 \u001b[34m -0.00052821592\u001b[0m \u001b[34m -3.9127105e-06\u001b[0m \u001b[34m!!!!!!!!!!!!!!!!!!!!!!!!!!!!!!!!!!!!!!!!!!!!!!!!!!!!!!!!!!!!!!!!!!!!!!!!!!!!!!!!!!!!!!!!!!!!!!!!!!!!\u001b[0m\n",
      "        (0, 1, 0, 1)      -133.99840      -134.00000 \u001b[31m   0.0016043658\u001b[0m \u001b[31m  1.1972879e-05\u001b[0m \u001b[31m!!!!!!!!!!!!!!!!!!!!!!!!!!!!!!!!!!!!!!!!!!!!!!!!!!!!!!!!!!!!!!!!!!!!!!!!!!!!!!!!!!!!!!!!!!!!!!!!!!!!\u001b[0m\n",
      "        (0, 1, 0, 2)      -133.00077      -133.00000 \u001b[34m -0.00077438187\u001b[0m \u001b[34m -5.8224200e-06\u001b[0m \u001b[34m!!!!!!!!!!!!!!!!!!!!!!!!!!!!!!!!!!!!!!!!!!!!!!!!!!!!!!!!!!!!!!!!!!!!!!!!!!!!!!!!!!!!!!!!!!!!!!!!!!!!\u001b[0m\n",
      "        (0, 1, 1, 0)      -131.99902      -132.00000 \u001b[31m  0.00098473352\u001b[0m \u001b[31m  7.4601024e-06\u001b[0m \u001b[31m!!!!!!!!!!!!!!!!!!!!!!!!!!!!!!!!!!!!!!!!!!!!!!!!!!!!!!!!!!!!!!!!!!!!!!!!!!!!!!!!!!!!!!!!!!!!!!!!!!!!\u001b[0m\n",
      "        (0, 1, 1, 1)      -130.99977      -131.00000 \u001b[31m  0.00023306775\u001b[0m \u001b[31m  1.7791432e-06\u001b[0m \u001b[31m!!!!!!!!!!!!!!!!!!!!!!!!!!!!!!!!!!!!!!!!!!!!!!!!!!!!!!!!!!!!!!!!!!!!!!!!!!!!!!!!!!!!!!!!!!!!!!!!!!!!\u001b[0m\n",
      "        (0, 1, 1, 2)      -130.00019      -130.00000 \u001b[34m -0.00018842463\u001b[0m \u001b[34m -1.4494203e-06\u001b[0m \u001b[34m!!!!!!!!!!!!!!!!!!!!!!!!!!!!!!!!!!!!!!!!!!!!!!!!!!!!!!!!!!!!!!!!!!!!!!!!!!!!!!!!!!!!!!!!!!!!!!!!!!!!\u001b[0m\n",
      "        (0, 1, 2, 0)      -128.99757      -129.00000 \u001b[31m   0.0024338611\u001b[0m \u001b[31m  1.8867141e-05\u001b[0m \u001b[31m!!!!!!!!!!!!!!!!!!!!!!!!!!!!!!!!!!!!!!!!!!!!!!!!!!!!!!!!!!!!!!!!!!!!!!!!!!!!!!!!!!!!!!!!!!!!!!!!!!!!\u001b[0m\n",
      "        (0, 1, 2, 1)      -127.99774      -128.00000 \u001b[31m   0.0022572766\u001b[0m \u001b[31m  1.7634974e-05\u001b[0m \u001b[31m!!!!!!!!!!!!!!!!!!!!!!!!!!!!!!!!!!!!!!!!!!!!!!!!!!!!!!!!!!!!!!!!!!!!!!!!!!!!!!!!!!!!!!!!!!!!!!!!!!!!\u001b[0m\n",
      "        (0, 1, 2, 2)      -126.99823      -127.00000 \u001b[31m   0.0017730330\u001b[0m \u001b[31m  1.3960890e-05\u001b[0m \u001b[31m!!!!!!!!!!!!!!!!!!!!!!!!!!!!!!!!!!!!!!!!!!!!!!!!!!!!!!!!!!!!!!!!!!!!!!!!!!!!!!!!!!!!!!!!!!!!!!!!!!!!\u001b[0m\n",
      "        (0, 2, 0, 0)      -125.99808      -126.00000 \u001b[31m   0.0019241291\u001b[0m \u001b[31m  1.5270866e-05\u001b[0m \u001b[31m!!!!!!!!!!!!!!!!!!!!!!!!!!!!!!!!!!!!!!!!!!!!!!!!!!!!!!!!!!!!!!!!!!!!!!!!!!!!!!!!!!!!!!!!!!!!!!!!!!!!\u001b[0m\n",
      "        (0, 2, 0, 1)      -124.99874      -125.00000 \u001b[31m   0.0012565332\u001b[0m \u001b[31m  1.0052266e-05\u001b[0m \u001b[31m!!!!!!!!!!!!!!!!!!!!!!!!!!!!!!!!!!!!!!!!!!!!!!!!!!!!!!!!!!!!!!!!!!!!!!!!!!!!!!!!!!!!!!!!!!!!!!!!!!!!\u001b[0m\n",
      "        (0, 2, 0, 2)      -124.00232      -124.00000 \u001b[34m  -0.0023247434\u001b[0m \u001b[34m -1.8747931e-05\u001b[0m \u001b[34m!!!!!!!!!!!!!!!!!!!!!!!!!!!!!!!!!!!!!!!!!!!!!!!!!!!!!!!!!!!!!!!!!!!!!!!!!!!!!!!!!!!!!!!!!!!!!!!!!!!!\u001b[0m\n",
      "        (0, 2, 1, 0)      -123.00127      -123.00000 \u001b[34m  -0.0012719965\u001b[0m \u001b[34m -1.0341435e-05\u001b[0m \u001b[34m!!!!!!!!!!!!!!!!!!!!!!!!!!!!!!!!!!!!!!!!!!!!!!!!!!!!!!!!!!!!!!!!!!!!!!!!!!!!!!!!!!!!!!!!!!!!!!!!!!!!\u001b[0m\n",
      "        (0, 2, 1, 1)      -121.99974      -122.00000 \u001b[31m  0.00025850562\u001b[0m \u001b[31m  2.1188985e-06\u001b[0m \u001b[31m!!!!!!!!!!!!!!!!!!!!!!!!!!!!!!!!!!!!!!!!!!!!!!!!!!!!!!!!!!!!!!!!!!!!!!!!!!!!!!!!!!!!!!!!!!!!!!!!!!!!\u001b[0m\n",
      "        (0, 2, 1, 2)      -121.00179      -121.00000 \u001b[34m  -0.0017933392\u001b[0m \u001b[34m -1.4820985e-05\u001b[0m \u001b[34m!!!!!!!!!!!!!!!!!!!!!!!!!!!!!!!!!!!!!!!!!!!!!!!!!!!!!!!!!!!!!!!!!!!!!!!!!!!!!!!!!!!!!!!!!!!!!!!!!!!!\u001b[0m\n",
      "        (0, 2, 2, 0)      -120.00028      -120.00000 \u001b[34m -0.00028371081\u001b[0m \u001b[34m -2.3642568e-06\u001b[0m \u001b[34m!!!!!!!!!!!!!!!!!!!!!!!!!!!!!!!!!!!!!!!!!!!!!!!!!!!!!!!!!!!!!!!!!!!!!!!!!!!!!!!!!!!!!!!!!!!!!!!!!!!!\u001b[0m\n",
      "        (0, 2, 2, 1)      -118.99876      -119.00000 \u001b[31m   0.0012390161\u001b[0m \u001b[31m  1.0411900e-05\u001b[0m \u001b[31m!!!!!!!!!!!!!!!!!!!!!!!!!!!!!!!!!!!!!!!!!!!!!!!!!!!!!!!!!!!!!!!!!!!!!!!!!!!!!!!!!!!!!!!!!!!!!!!!!!!!\u001b[0m\n",
      "        (0, 2, 2, 2)      -118.00206      -118.00000 \u001b[34m  -0.0020569817\u001b[0m \u001b[34m -1.7432049e-05\u001b[0m \u001b[34m!!!!!!!!!!!!!!!!!!!!!!!!!!!!!!!!!!!!!!!!!!!!!!!!!!!!!!!!!!!!!!!!!!!!!!!!!!!!!!!!!!!!!!!!!!!!!!!!!!!!\u001b[0m\n",
      "        (0, 3, 0, 0)      -117.00028      -117.00000 \u001b[34m -0.00028069539\u001b[0m \u001b[34m -2.3991059e-06\u001b[0m \u001b[34m!!!!!!!!!!!!!!!!!!!!!!!!!!!!!!!!!!!!!!!!!!!!!!!!!!!!!!!!!!!!!!!!!!!!!!!!!!!!!!!!!!!!!!!!!!!!!!!!!!!!\u001b[0m\n",
      "        (0, 3, 0, 1)      -116.00178      -116.00000 \u001b[34m  -0.0017831236\u001b[0m \u001b[34m -1.5371756e-05\u001b[0m \u001b[34m!!!!!!!!!!!!!!!!!!!!!!!!!!!!!!!!!!!!!!!!!!!!!!!!!!!!!!!!!!!!!!!!!!!!!!!!!!!!!!!!!!!!!!!!!!!!!!!!!!!!\u001b[0m\n",
      "        (0, 3, 0, 2)      -115.00242      -115.00000 \u001b[34m  -0.0024240485\u001b[0m \u001b[34m -2.1078682e-05\u001b[0m \u001b[34m!!!!!!!!!!!!!!!!!!!!!!!!!!!!!!!!!!!!!!!!!!!!!!!!!!!!!!!!!!!!!!!!!!!!!!!!!!!!!!!!!!!!!!!!!!!!!!!!!!!!\u001b[0m\n",
      "        (0, 3, 1, 0)      -113.99840      -114.00000 \u001b[31m   0.0016023424\u001b[0m \u001b[31m  1.4055635e-05\u001b[0m \u001b[31m!!!!!!!!!!!!!!!!!!!!!!!!!!!!!!!!!!!!!!!!!!!!!!!!!!!!!!!!!!!!!!!!!!!!!!!!!!!!!!!!!!!!!!!!!!!!!!!!!!!!\u001b[0m\n",
      "        (0, 3, 1, 1)      -113.00213      -113.00000 \u001b[34m  -0.0021320737\u001b[0m \u001b[34m -1.8867909e-05\u001b[0m \u001b[34m!!!!!!!!!!!!!!!!!!!!!!!!!!!!!!!!!!!!!!!!!!!!!!!!!!!!!!!!!!!!!!!!!!!!!!!!!!!!!!!!!!!!!!!!!!!!!!!!!!!!\u001b[0m\n",
      "        (0, 3, 1, 2)      -111.99802      -112.00000 \u001b[31m   0.0019834210\u001b[0m \u001b[31m  1.7709116e-05\u001b[0m \u001b[31m!!!!!!!!!!!!!!!!!!!!!!!!!!!!!!!!!!!!!!!!!!!!!!!!!!!!!!!!!!!!!!!!!!!!!!!!!!!!!!!!!!!!!!!!!!!!!!!!!!!!\u001b[0m\n",
      "        (0, 3, 2, 0)      -110.99999      -111.00000 \u001b[31m  1.0670625e-05\u001b[0m \u001b[31m  9.6131754e-08\u001b[0m \u001b[31m!!!!!!!!!!!!!!!!!!!!!!!!!!!!!!!!!!!!!!!!!!!!!!!!!!!!!!!!!!!!!!!!!!!!!!!!!!!!!!!!!!!!!!!!!!!!!!!!!!!!\u001b[0m\n",
      "        (0, 3, 2, 1)      -110.00165      -110.00000 \u001b[34m  -0.0016483437\u001b[0m \u001b[34m -1.4984943e-05\u001b[0m \u001b[34m!!!!!!!!!!!!!!!!!!!!!!!!!!!!!!!!!!!!!!!!!!!!!!!!!!!!!!!!!!!!!!!!!!!!!!!!!!!!!!!!!!!!!!!!!!!!!!!!!!!!\u001b[0m\n",
      "        (0, 3, 2, 2)      -109.00234      -109.00000 \u001b[34m  -0.0023361434\u001b[0m \u001b[34m -2.1432509e-05\u001b[0m \u001b[34m!!!!!!!!!!!!!!!!!!!!!!!!!!!!!!!!!!!!!!!!!!!!!!!!!!!!!!!!!!!!!!!!!!!!!!!!!!!!!!!!!!!!!!!!!!!!!!!!!!!!\u001b[0m\n",
      "        (0, 4, 0, 0)      -107.99827      -108.00000 \u001b[31m   0.0017272296\u001b[0m \u001b[31m  1.5992866e-05\u001b[0m \u001b[31m!!!!!!!!!!!!!!!!!!!!!!!!!!!!!!!!!!!!!!!!!!!!!!!!!!!!!!!!!!!!!!!!!!!!!!!!!!!!!!!!!!!!!!!!!!!!!!!!!!!!\u001b[0m\n",
      "        (0, 4, 0, 1)      -107.00163      -107.00000 \u001b[34m  -0.0016301491\u001b[0m \u001b[34m -1.5235038e-05\u001b[0m \u001b[34m!!!!!!!!!!!!!!!!!!!!!!!!!!!!!!!!!!!!!!!!!!!!!!!!!!!!!!!!!!!!!!!!!!!!!!!!!!!!!!!!!!!!!!!!!!!!!!!!!!!!\u001b[0m\n",
      "        (0, 4, 0, 2)      -105.99882      -106.00000 \u001b[31m   0.0011755798\u001b[0m \u001b[31m  1.1090375e-05\u001b[0m \u001b[31m!!!!!!!!!!!!!!!!!!!!!!!!!!!!!!!!!!!!!!!!!!!!!!!!!!!!!!!!!!!!!!!!!!!!!!!!!!!!!!!!!!!!!!!!!!!!!!!!!!!!\u001b[0m\n",
      "        (0, 4, 1, 0)      -105.00018      -105.00000 \u001b[34m -0.00018357116\u001b[0m \u001b[34m -1.7482968e-06\u001b[0m \u001b[34m!!!!!!!!!!!!!!!!!!!!!!!!!!!!!!!!!!!!!!!!!!!!!!!!!!!!!!!!!!!!!!!!!!!!!!!!!!!!!!!!!!!!!!!!!!!!!!!!!!!!\u001b[0m\n",
      "        (0, 4, 1, 1)      -103.99891      -104.00000 \u001b[31m   0.0010917966\u001b[0m \u001b[31m  1.0498045e-05\u001b[0m \u001b[31m!!!!!!!!!!!!!!!!!!!!!!!!!!!!!!!!!!!!!!!!!!!!!!!!!!!!!!!!!!!!!!!!!!!!!!!!!!!!!!!!!!!!!!!!!!!!!!!!!!!!\u001b[0m\n",
      "        (0, 4, 1, 2)      -103.00190      -103.00000 \u001b[34m  -0.0018957270\u001b[0m \u001b[34m -1.8405116e-05\u001b[0m \u001b[34m!!!!!!!!!!!!!!!!!!!!!!!!!!!!!!!!!!!!!!!!!!!!!!!!!!!!!!!!!!!!!!!!!!!!!!!!!!!!!!!!!!!!!!!!!!!!!!!!!!!!\u001b[0m\n",
      "        (0, 4, 2, 0)      -101.99855      -102.00000 \u001b[31m   0.0014545408\u001b[0m \u001b[31m  1.4260204e-05\u001b[0m \u001b[31m!!!!!!!!!!!!!!!!!!!!!!!!!!!!!!!!!!!!!!!!!!!!!!!!!!!!!!!!!!!!!!!!!!!!!!!!!!!!!!!!!!!!!!!!!!!!!!!!!!!!\u001b[0m\n",
      "        (0, 4, 2, 1)      -100.99954      -101.00000 \u001b[31m  0.00046202057\u001b[0m \u001b[31m  4.5744611e-06\u001b[0m \u001b[31m!!!!!!!!!!!!!!!!!!!!!!!!!!!!!!!!!!!!!!!!!!!!!!!!!!!!!!!!!!!!!!!!!!!!!!!!!!!!!!!!!!!!!!!!!!!!!!!!!!!!\u001b[0m\n",
      "        (0, 4, 2, 2)      -100.00220      -100.00000 \u001b[34m  -0.0022032267\u001b[0m \u001b[34m -2.2032267e-05\u001b[0m \u001b[34m!!!!!!!!!!!!!!!!!!!!!!!!!!!!!!!!!!!!!!!!!!!!!!!!!!!!!!!!!!!!!!!!!!!!!!!!!!!!!!!!!!!!!!!!!!!!!!!!!!!!\u001b[0m\n",
      "        (0, 5, 0, 0)      -99.002137      -99.000000 \u001b[34m  -0.0021368026\u001b[0m \u001b[34m -2.1583865e-05\u001b[0m \u001b[34m!!!!!!!!!!!!!!!!!!!!!!!!!!!!!!!!!!!!!!!!!!!!!!!!!!!!!!!!!!!!!!!!!!!!!!!!!!!!!!!!!!!!!!!!!!!!!!!!!!!!\u001b[0m\n",
      "        (0, 5, 0, 1)      -97.999032      -98.000000 \u001b[31m  0.00096844008\u001b[0m \u001b[31m  9.8820416e-06\u001b[0m \u001b[31m!!!!!!!!!!!!!!!!!!!!!!!!!!!!!!!!!!!!!!!!!!!!!!!!!!!!!!!!!!!!!!!!!!!!!!!!!!!!!!!!!!!!!!!!!!!!!!!!!!!!\u001b[0m\n",
      "        (0, 5, 0, 2)      -96.997564      -97.000000 \u001b[31m   0.0024363434\u001b[0m \u001b[31m  2.5116942e-05\u001b[0m \u001b[31m!!!!!!!!!!!!!!!!!!!!!!!!!!!!!!!!!!!!!!!!!!!!!!!!!!!!!!!!!!!!!!!!!!!!!!!!!!!!!!!!!!!!!!!!!!!!!!!!!!!!\u001b[0m\n",
      "        (0, 5, 1, 0)      -95.999246      -96.000000 \u001b[31m  0.00075364536\u001b[0m \u001b[31m  7.8504725e-06\u001b[0m \u001b[31m!!!!!!!!!!!!!!!!!!!!!!!!!!!!!!!!!!!!!!!!!!!!!!!!!!!!!!!!!!!!!!!!!!!!!!!!!!!!!!!!!!!!!!!!!!!!!!!!!!!!\u001b[0m\n",
      "        (0, 5, 1, 1)      -94.998309      -95.000000 \u001b[31m   0.0016906324\u001b[0m \u001b[31m  1.7796130e-05\u001b[0m \u001b[31m!!!!!!!!!!!!!!!!!!!!!!!!!!!!!!!!!!!!!!!!!!!!!!!!!!!!!!!!!!!!!!!!!!!!!!!!!!!!!!!!!!!!!!!!!!!!!!!!!!!!\u001b[0m\n",
      "        (0, 5, 1, 2)      -93.997896      -94.000000 \u001b[31m   0.0021040219\u001b[0m \u001b[31m  2.2383212e-05\u001b[0m \u001b[31m!!!!!!!!!!!!!!!!!!!!!!!!!!!!!!!!!!!!!!!!!!!!!!!!!!!!!!!!!!!!!!!!!!!!!!!!!!!!!!!!!!!!!!!!!!!!!!!!!!!!\u001b[0m\n",
      "        (0, 5, 2, 0)      -93.000506      -93.000000 \u001b[34m -0.00050567899\u001b[0m \u001b[34m -5.4374085e-06\u001b[0m \u001b[34m!!!!!!!!!!!!!!!!!!!!!!!!!!!!!!!!!!!!!!!!!!!!!!!!!!!!!!!!!!!!!!!!!!!!!!!!!!!!!!!!!!!!!!!!!!!!!!!!!!!!\u001b[0m\n",
      "        (0, 5, 2, 1)      -91.998642      -92.000000 \u001b[31m   0.0013583015\u001b[0m \u001b[31m  1.4764146e-05\u001b[0m \u001b[31m!!!!!!!!!!!!!!!!!!!!!!!!!!!!!!!!!!!!!!!!!!!!!!!!!!!!!!!!!!!!!!!!!!!!!!!!!!!!!!!!!!!!!!!!!!!!!!!!!!!!\u001b[0m\n",
      "        (0, 5, 2, 2)      -91.000189      -91.000000 \u001b[34m -0.00018861176\u001b[0m \u001b[34m -2.0726567e-06\u001b[0m \u001b[34m!!!!!!!!!!!!!!!!!!!!!!!!!!!!!!!!!!!!!!!!!!!!!!!!!!!!!!!!!!!!!!!!!!!!!!!!!!!!!!!!!!!!!!!!!!!!!!!!!!!!\u001b[0m\n",
      "        (0, 6, 0, 0)      -90.000290      -90.000000 \u001b[34m -0.00028997543\u001b[0m \u001b[34m -3.2219492e-06\u001b[0m \u001b[34m!!!!!!!!!!!!!!!!!!!!!!!!!!!!!!!!!!!!!!!!!!!!!!!!!!!!!!!!!!!!!!!!!!!!!!!!!!!!!!!!!!!!!!!!!!!!!!!!!!!!\u001b[0m\n",
      "        (0, 6, 0, 1)      -88.998792      -89.000000 \u001b[31m   0.0012083612\u001b[0m \u001b[31m  1.3577092e-05\u001b[0m \u001b[31m!!!!!!!!!!!!!!!!!!!!!!!!!!!!!!!!!!!!!!!!!!!!!!!!!!!!!!!!!!!!!!!!!!!!!!!!!!!!!!!!!!!!!!!!!!!!!!!!!!!!\u001b[0m\n",
      "        (0, 6, 0, 2)      -88.002236      -88.000000 \u001b[34m  -0.0022358022\u001b[0m \u001b[34m -2.5406843e-05\u001b[0m \u001b[34m!!!!!!!!!!!!!!!!!!!!!!!!!!!!!!!!!!!!!!!!!!!!!!!!!!!!!!!!!!!!!!!!!!!!!!!!!!!!!!!!!!!!!!!!!!!!!!!!!!!!\u001b[0m\n",
      "        (0, 6, 1, 0)      -87.001789      -87.000000 \u001b[34m  -0.0017888472\u001b[0m \u001b[34m -2.0561463e-05\u001b[0m \u001b[34m!!!!!!!!!!!!!!!!!!!!!!!!!!!!!!!!!!!!!!!!!!!!!!!!!!!!!!!!!!!!!!!!!!!!!!!!!!!!!!!!!!!!!!!!!!!!!!!!!!!!\u001b[0m\n",
      "        (0, 6, 1, 1)      -85.997667      -86.000000 \u001b[31m   0.0023328972\u001b[0m \u001b[31m  2.7126712e-05\u001b[0m \u001b[31m!!!!!!!!!!!!!!!!!!!!!!!!!!!!!!!!!!!!!!!!!!!!!!!!!!!!!!!!!!!!!!!!!!!!!!!!!!!!!!!!!!!!!!!!!!!!!!!!!!!!\u001b[0m\n",
      "        (0, 6, 1, 2)      -84.998811      -85.000000 \u001b[31m   0.0011892165\u001b[0m \u001b[31m  1.3990782e-05\u001b[0m \u001b[31m!!!!!!!!!!!!!!!!!!!!!!!!!!!!!!!!!!!!!!!!!!!!!!!!!!!!!!!!!!!!!!!!!!!!!!!!!!!!!!!!!!!!!!!!!!!!!!!!!!!!\u001b[0m\n",
      "        (0, 6, 2, 0)      -84.000522      -84.000000 \u001b[34m -0.00052236850\u001b[0m \u001b[34m -6.2186727e-06\u001b[0m \u001b[34m!!!!!!!!!!!!!!!!!!!!!!!!!!!!!!!!!!!!!!!!!!!!!!!!!!!!!!!!!!!!!!!!!!!!!!!!!!!!!!!!!!!!!!!!!!!!!!!!!!!!\u001b[0m\n",
      "        (0, 6, 2, 1)      -83.002417      -83.000000 \u001b[34m  -0.0024165520\u001b[0m \u001b[34m -2.9115085e-05\u001b[0m \u001b[34m!!!!!!!!!!!!!!!!!!!!!!!!!!!!!!!!!!!!!!!!!!!!!!!!!!!!!!!!!!!!!!!!!!!!!!!!!!!!!!!!!!!!!!!!!!!!!!!!!!!!\u001b[0m\n",
      "        (0, 6, 2, 2)      -82.001976      -82.000000 \u001b[34m  -0.0019763039\u001b[0m \u001b[34m -2.4101267e-05\u001b[0m \u001b[34m!!!!!!!!!!!!!!!!!!!!!!!!!!!!!!!!!!!!!!!!!!!!!!!!!!!!!!!!!!!!!!!!!!!!!!!!!!!!!!!!!!!!!!!!!!!!!!!!!!!!\u001b[0m\n",
      "        (0, 7, 0, 0)      -80.997525      -81.000000 \u001b[31m   0.0024752485\u001b[0m \u001b[31m  3.0558623e-05\u001b[0m \u001b[31m!!!!!!!!!!!!!!!!!!!!!!!!!!!!!!!!!!!!!!!!!!!!!!!!!!!!!!!!!!!!!!!!!!!!!!!!!!!!!!!!!!!!!!!!!!!!!!!!!!!!\u001b[0m\n",
      "        (0, 7, 0, 1)      -80.000409      -80.000000 \u001b[34m -0.00040937976\u001b[0m \u001b[34m -5.1172470e-06\u001b[0m \u001b[34m!!!!!!!!!!!!!!!!!!!!!!!!!!!!!!!!!!!!!!!!!!!!!!!!!!!!!!!!!!!!!!!!!!!!!!!!!!!!!!!!!!!!!!!!!!!!!!!!!!!!\u001b[0m\n",
      "        (0, 7, 0, 2)      -79.000216      -79.000000 \u001b[34m -0.00021610129\u001b[0m \u001b[34m -2.7354594e-06\u001b[0m \u001b[34m!!!!!!!!!!!!!!!!!!!!!!!!!!!!!!!!!!!!!!!!!!!!!!!!!!!!!!!!!!!!!!!!!!!!!!!!!!!!!!!!!!!!!!!!!!!!!!!!!!!!\u001b[0m\n",
      "        (0, 7, 1, 0)      -78.001020      -78.000000 \u001b[34m  -0.0010198791\u001b[0m \u001b[34m -1.3075373e-05\u001b[0m \u001b[34m!!!!!!!!!!!!!!!!!!!!!!!!!!!!!!!!!!!!!!!!!!!!!!!!!!!!!!!!!!!!!!!!!!!!!!!!!!!!!!!!!!!!!!!!!!!!!!!!!!!!\u001b[0m\n",
      "        (0, 7, 1, 1)      -77.001752      -77.000000 \u001b[34m  -0.0017519483\u001b[0m \u001b[34m -2.2752575e-05\u001b[0m \u001b[34m!!!!!!!!!!!!!!!!!!!!!!!!!!!!!!!!!!!!!!!!!!!!!!!!!!!!!!!!!!!!!!!!!!!!!!!!!!!!!!!!!!!!!!!!!!!!!!!!!!!!\u001b[0m\n",
      "        (0, 7, 1, 2)      -75.999232      -76.000000 \u001b[31m  0.00076750021\u001b[0m \u001b[31m  1.0098687e-05\u001b[0m \u001b[31m!!!!!!!!!!!!!!!!!!!!!!!!!!!!!!!!!!!!!!!!!!!!!!!!!!!!!!!!!!!!!!!!!!!!!!!!!!!!!!!!!!!!!!!!!!!!!!!!!!!!\u001b[0m\n",
      "        (0, 7, 2, 0)      -74.999212      -75.000000 \u001b[31m  0.00078826464\u001b[0m \u001b[31m  1.0510195e-05\u001b[0m \u001b[31m!!!!!!!!!!!!!!!!!!!!!!!!!!!!!!!!!!!!!!!!!!!!!!!!!!!!!!!!!!!!!!!!!!!!!!!!!!!!!!!!!!!!!!!!!!!!!!!!!!!!\u001b[0m\n",
      "        (0, 7, 2, 1)      -74.001808      -74.000000 \u001b[34m  -0.0018084318\u001b[0m \u001b[34m -2.4438267e-05\u001b[0m \u001b[34m!!!!!!!!!!!!!!!!!!!!!!!!!!!!!!!!!!!!!!!!!!!!!!!!!!!!!!!!!!!!!!!!!!!!!!!!!!!!!!!!!!!!!!!!!!!!!!!!!!!!\u001b[0m\n",
      "        (0, 7, 2, 2)      -72.997812      -73.000000 \u001b[31m   0.0021884580\u001b[0m \u001b[31m  2.9978877e-05\u001b[0m \u001b[31m!!!!!!!!!!!!!!!!!!!!!!!!!!!!!!!!!!!!!!!!!!!!!!!!!!!!!!!!!!!!!!!!!!!!!!!!!!!!!!!!!!!!!!!!!!!!!!!!!!!!\u001b[0m\n",
      "        (0, 8, 0, 0)      -71.997544      -72.000000 \u001b[31m   0.0024558596\u001b[0m \u001b[31m  3.4109161e-05\u001b[0m \u001b[31m!!!!!!!!!!!!!!!!!!!!!!!!!!!!!!!!!!!!!!!!!!!!!!!!!!!!!!!!!!!!!!!!!!!!!!!!!!!!!!!!!!!!!!!!!!!!!!!!!!!!\u001b[0m\n",
      "        (0, 8, 0, 1)      -70.998168      -71.000000 \u001b[31m   0.0018315839\u001b[0m \u001b[31m  2.5796957e-05\u001b[0m \u001b[31m!!!!!!!!!!!!!!!!!!!!!!!!!!!!!!!!!!!!!!!!!!!!!!!!!!!!!!!!!!!!!!!!!!!!!!!!!!!!!!!!!!!!!!!!!!!!!!!!!!!!\u001b[0m\n",
      "        (0, 8, 0, 2)      -70.000419      -70.000000 \u001b[34m -0.00041939233\u001b[0m \u001b[34m -5.9913190e-06\u001b[0m \u001b[34m!!!!!!!!!!!!!!!!!!!!!!!!!!!!!!!!!!!!!!!!!!!!!!!!!!!!!!!!!!!!!!!!!!!!!!!!!!!!!!!!!!!!!!!!!!!!!!!!!!!!\u001b[0m\n",
      "        (0, 8, 1, 0)      -69.000178      -69.000000 \u001b[34m -0.00017834073\u001b[0m \u001b[34m -2.5846482e-06\u001b[0m \u001b[34m!!!!!!!!!!!!!!!!!!!!!!!!!!!!!!!!!!!!!!!!!!!!!!!!!!!!!!!!!!!!!!!!!!!!!!!!!!!!!!!!!!!!!!!!!!!!!!!!!!!!\u001b[0m\n",
      "        (0, 8, 1, 1)      -67.998955      -68.000000 \u001b[31m   0.0010446644\u001b[0m \u001b[31m  1.5362712e-05\u001b[0m \u001b[31m!!!!!!!!!!!!!!!!!!!!!!!!!!!!!!!!!!!!!!!!!!!!!!!!!!!!!!!!!!!!!!!!!!!!!!!!!!!!!!!!!!!!!!!!!!!!!!!!!!!!\u001b[0m\n",
      "        (0, 8, 1, 2)      -66.997908      -67.000000 \u001b[31m   0.0020921168\u001b[0m \u001b[31m  3.1225624e-05\u001b[0m \u001b[31m!!!!!!!!!!!!!!!!!!!!!!!!!!!!!!!!!!!!!!!!!!!!!!!!!!!!!!!!!!!!!!!!!!!!!!!!!!!!!!!!!!!!!!!!!!!!!!!!!!!!\u001b[0m\n",
      "        (0, 8, 2, 0)      -66.002206      -66.000000 \u001b[34m  -0.0022060649\u001b[0m \u001b[34m -3.3425226e-05\u001b[0m \u001b[34m!!!!!!!!!!!!!!!!!!!!!!!!!!!!!!!!!!!!!!!!!!!!!!!!!!!!!!!!!!!!!!!!!!!!!!!!!!!!!!!!!!!!!!!!!!!!!!!!!!!!\u001b[0m\n",
      "        (0, 8, 2, 1)      -65.001277      -65.000000 \u001b[34m  -0.0012774876\u001b[0m \u001b[34m -1.9653656e-05\u001b[0m \u001b[34m!!!!!!!!!!!!!!!!!!!!!!!!!!!!!!!!!!!!!!!!!!!!!!!!!!!!!!!!!!!!!!!!!!!!!!!!!!!!!!!!!!!!!!!!!!!!!!!!!!!!\u001b[0m\n",
      "        (0, 8, 2, 2)      -63.999714      -64.000000 \u001b[31m  0.00028566424\u001b[0m \u001b[31m  4.4635038e-06\u001b[0m \u001b[31m!!!!!!!!!!!!!!!!!!!!!!!!!!!!!!!!!!!!!!!!!!!!!!!!!!!!!!!!!!!!!!!!!!!!!!!!!!!!!!!!!!!!!!!!!!!!!!!!!!!!\u001b[0m\n",
      "        (0, 9, 0, 0)      -63.001709      -63.000000 \u001b[34m  -0.0017085488\u001b[0m \u001b[34m -2.7119822e-05\u001b[0m \u001b[34m!!!!!!!!!!!!!!!!!!!!!!!!!!!!!!!!!!!!!!!!!!!!!!!!!!!!!!!!!!!!!!!!!!!!!!!!!!!!!!!!!!!!!!!!!!!!!!!!!!!!\u001b[0m\n",
      "        (0, 9, 0, 1)      -62.001465      -62.000000 \u001b[34m  -0.0014649387\u001b[0m \u001b[34m -2.3628044e-05\u001b[0m \u001b[34m!!!!!!!!!!!!!!!!!!!!!!!!!!!!!!!!!!!!!!!!!!!!!!!!!!!!!!!!!!!!!!!!!!!!!!!!!!!!!!!!!!!!!!!!!!!!!!!!!!!!\u001b[0m\n",
      "        (0, 9, 0, 2)      -61.000597      -61.000000 \u001b[34m -0.00059680681\u001b[0m \u001b[34m -9.7837182e-06\u001b[0m \u001b[34m!!!!!!!!!!!!!!!!!!!!!!!!!!!!!!!!!!!!!!!!!!!!!!!!!!!!!!!!!!!!!!!!!!!!!!!!!!!!!!!!!!!!!!!!!!!!!!!!!!!!\u001b[0m\n",
      "        (0, 9, 1, 0)      -59.997782      -60.000000 \u001b[31m   0.0022181486\u001b[0m \u001b[31m  3.6969143e-05\u001b[0m \u001b[31m!!!!!!!!!!!!!!!!!!!!!!!!!!!!!!!!!!!!!!!!!!!!!!!!!!!!!!!!!!!!!!!!!!!!!!!!!!!!!!!!!!!!!!!!!!!!!!!!!!!!\u001b[0m\n",
      "        (0, 9, 1, 1)      -59.002335      -59.000000 \u001b[34m  -0.0023346466\u001b[0m \u001b[34m -3.9570281e-05\u001b[0m \u001b[34m!!!!!!!!!!!!!!!!!!!!!!!!!!!!!!!!!!!!!!!!!!!!!!!!!!!!!!!!!!!!!!!!!!!!!!!!!!!!!!!!!!!!!!!!!!!!!!!!!!!!\u001b[0m\n",
      "        (0, 9, 1, 2)      -57.999098      -58.000000 \u001b[31m  0.00090187711\u001b[0m \u001b[31m  1.5549605e-05\u001b[0m \u001b[31m!!!!!!!!!!!!!!!!!!!!!!!!!!!!!!!!!!!!!!!!!!!!!!!!!!!!!!!!!!!!!!!!!!!!!!!!!!!!!!!!!!!!!!!!!!!!!!!!!!!!\u001b[0m\n",
      "        (0, 9, 2, 0)      -57.001355      -57.000000 \u001b[34m  -0.0013545821\u001b[0m \u001b[34m -2.3764598e-05\u001b[0m \u001b[34m!!!!!!!!!!!!!!!!!!!!!!!!!!!!!!!!!!!!!!!!!!!!!!!!!!!!!!!!!!!!!!!!!!!!!!!!!!!!!!!!!!!!!!!!!!!!!!!!!!!!\u001b[0m\n",
      "        (0, 9, 2, 1)      -55.999021      -56.000000 \u001b[31m  0.00097945449\u001b[0m \u001b[31m  1.7490259e-05\u001b[0m \u001b[31m!!!!!!!!!!!!!!!!!!!!!!!!!!!!!!!!!!!!!!!!!!!!!!!!!!!!!!!!!!!!!!!!!!!!!!!!!!!!!!!!!!!!!!!!!!!!!!!!!!!!\u001b[0m\n",
      "        (0, 9, 2, 2)      -54.998497      -55.000000 \u001b[31m   0.0015031967\u001b[0m \u001b[31m  2.7330849e-05\u001b[0m \u001b[31m!!!!!!!!!!!!!!!!!!!!!!!!!!!!!!!!!!!!!!!!!!!!!!!!!!!!!!!!!!!!!!!!!!!!!!!!!!!!!!!!!!!!!!!!!!!!!!!!!!!!\u001b[0m\n",
      "       (0, 10, 0, 0)      -53.999501      -54.000000 \u001b[31m  0.00049877802\u001b[0m \u001b[31m  9.2366300e-06\u001b[0m \u001b[31m!!!!!!!!!!!!!!!!!!!!!!!!!!!!!!!!!!!!!!!!!!!!!!!!!!!!!!!!!!!!!!!!!!!!!!!!!!!!!!!!!!!!!!!!!!!!!!!!!!!!\u001b[0m\n",
      "       (0, 10, 0, 1)      -53.000988      -53.000000 \u001b[34m -0.00098836713\u001b[0m \u001b[34m -1.8648436e-05\u001b[0m \u001b[34m!!!!!!!!!!!!!!!!!!!!!!!!!!!!!!!!!!!!!!!!!!!!!!!!!!!!!!!!!!!!!!!!!!!!!!!!!!!!!!!!!!!!!!!!!!!!!!!!!!!!\u001b[0m\n",
      "       (0, 10, 0, 2)      -52.000128      -52.000000 \u001b[34m -0.00012777789\u001b[0m \u001b[34m -2.4572671e-06\u001b[0m \u001b[34m!!!!!!!!!!!!!!!!!!!!!!!!!!!!!!!!!!!!!!!!!!!!!!!!!!!!!!!!!!!!!!!!!!!!!!!!!!!!!!!!!!!!!!!!!!!!!!!!!!!!\u001b[0m\n",
      "       (0, 10, 1, 0)      -50.997791      -51.000000 \u001b[31m   0.0022092647\u001b[0m \u001b[31m  4.3318916e-05\u001b[0m \u001b[31m!!!!!!!!!!!!!!!!!!!!!!!!!!!!!!!!!!!!!!!!!!!!!!!!!!!!!!!!!!!!!!!!!!!!!!!!!!!!!!!!!!!!!!!!!!!!!!!!!!!!\u001b[0m\n",
      "       (0, 10, 1, 1)      -50.001518      -50.000000 \u001b[34m  -0.0015176971\u001b[0m \u001b[34m -3.0353942e-05\u001b[0m \u001b[34m!!!!!!!!!!!!!!!!!!!!!!!!!!!!!!!!!!!!!!!!!!!!!!!!!!!!!!!!!!!!!!!!!!!!!!!!!!!!!!!!!!!!!!!!!!!!!!!!!!!!\u001b[0m\n",
      "       (0, 10, 1, 2)      -49.001061      -49.000000 \u001b[34m  -0.0010612977\u001b[0m \u001b[34m -2.1659137e-05\u001b[0m \u001b[34m!!!!!!!!!!!!!!!!!!!!!!!!!!!!!!!!!!!!!!!!!!!!!!!!!!!!!!!!!!!!!!!!!!!!!!!!!!!!!!!!!!!!!!!!!!!!!!!!!!!!\u001b[0m\n",
      "       (0, 10, 2, 0)      -47.998209      -48.000000 \u001b[31m   0.0017905389\u001b[0m \u001b[31m  3.7302894e-05\u001b[0m \u001b[31m!!!!!!!!!!!!!!!!!!!!!!!!!!!!!!!!!!!!!!!!!!!!!!!!!!!!!!!!!!!!!!!!!!!!!!!!!!!!!!!!!!!!!!!!!!!!!!!!!!!!\u001b[0m\n",
      "       (0, 10, 2, 1)      -46.998032      -47.000000 \u001b[31m   0.0019677432\u001b[0m \u001b[31m  4.1866878e-05\u001b[0m \u001b[31m!!!!!!!!!!!!!!!!!!!!!!!!!!!!!!!!!!!!!!!!!!!!!!!!!!!!!!!!!!!!!!!!!!!!!!!!!!!!!!!!!!!!!!!!!!!!!!!!!!!!\u001b[0m\n",
      "       (0, 10, 2, 2)      -45.999846      -46.000000 \u001b[31m  0.00015374652\u001b[0m \u001b[31m  3.3423156e-06\u001b[0m \u001b[31m!!!!!!!!!!!!!!!!!!!!!!!!!!!!!!!!!!!!!!!!!!!!!!!!!!!!!!!!!!!!!!!!!!!!!!!!!!!!!!!!!!!!!!!!!!!!!!!!!!!!\u001b[0m\n",
      "       (0, 11, 0, 0)      -44.998825      -45.000000 \u001b[31m   0.0011750625\u001b[0m \u001b[31m  2.6112500e-05\u001b[0m \u001b[31m!!!!!!!!!!!!!!!!!!!!!!!!!!!!!!!!!!!!!!!!!!!!!!!!!!!!!!!!!!!!!!!!!!!!!!!!!!!!!!!!!!!!!!!!!!!!!!!!!!!!\u001b[0m\n",
      "       (0, 11, 0, 1)      -43.997624      -44.000000 \u001b[31m   0.0023760960\u001b[0m \u001b[31m  5.4002183e-05\u001b[0m \u001b[31m!!!!!!!!!!!!!!!!!!!!!!!!!!!!!!!!!!!!!!!!!!!!!!!!!!!!!!!!!!!!!!!!!!!!!!!!!!!!!!!!!!!!!!!!!!!!!!!!!!!!\u001b[0m\n",
      "       (0, 11, 0, 2)      -42.999350      -43.000000 \u001b[31m  0.00065034889\u001b[0m \u001b[31m  1.5124393e-05\u001b[0m \u001b[31m!!!!!!!!!!!!!!!!!!!!!!!!!!!!!!!!!!!!!!!!!!!!!!!!!!!!!!!!!!!!!!!!!!!!!!!!!!!!!!!!!!!!!!!!!!!!!!!!!!!!\u001b[0m\n",
      "       (0, 11, 1, 0)      -42.001539      -42.000000 \u001b[34m  -0.0015388977\u001b[0m \u001b[34m -3.6640421e-05\u001b[0m \u001b[34m!!!!!!!!!!!!!!!!!!!!!!!!!!!!!!!!!!!!!!!!!!!!!!!!!!!!!!!!!!!!!!!!!!!!!!!!!!!!!!!!!!!!!!!!!!!!!!!!!!!!\u001b[0m\n",
      "       (0, 11, 1, 1)      -40.999803      -41.000000 \u001b[31m  0.00019671916\u001b[0m \u001b[31m  4.7980282e-06\u001b[0m \u001b[31m!!!!!!!!!!!!!!!!!!!!!!!!!!!!!!!!!!!!!!!!!!!!!!!!!!!!!!!!!!!!!!!!!!!!!!!!!!!!!!!!!!!!!!!!!!!!!!!!!!!!\u001b[0m\n",
      "       (0, 11, 1, 2)      -40.001725      -40.000000 \u001b[34m  -0.0017247902\u001b[0m \u001b[34m -4.3119756e-05\u001b[0m \u001b[34m!!!!!!!!!!!!!!!!!!!!!!!!!!!!!!!!!!!!!!!!!!!!!!!!!!!!!!!!!!!!!!!!!!!!!!!!!!!!!!!!!!!!!!!!!!!!!!!!!!!!\u001b[0m\n",
      "       (0, 11, 2, 0)      -39.001339      -39.000000 \u001b[34m  -0.0013385011\u001b[0m \u001b[34m -3.4320542e-05\u001b[0m \u001b[34m!!!!!!!!!!!!!!!!!!!!!!!!!!!!!!!!!!!!!!!!!!!!!!!!!!!!!!!!!!!!!!!!!!!!!!!!!!!!!!!!!!!!!!!!!!!!!!!!!!!!\u001b[0m\n",
      "       (0, 11, 2, 1)      -38.002185      -38.000000 \u001b[34m  -0.0021853574\u001b[0m \u001b[34m -5.7509404e-05\u001b[0m \u001b[34m!!!!!!!!!!!!!!!!!!!!!!!!!!!!!!!!!!!!!!!!!!!!!!!!!!!!!!!!!!!!!!!!!!!!!!!!!!!!!!!!!!!!!!!!!!!!!!!!!!!!\u001b[0m\n",
      "       (0, 11, 2, 2)      -37.002112      -37.000000 \u001b[34m  -0.0021122846\u001b[0m \u001b[34m -5.7088774e-05\u001b[0m \u001b[34m!!!!!!!!!!!!!!!!!!!!!!!!!!!!!!!!!!!!!!!!!!!!!!!!!!!!!!!!!!!!!!!!!!!!!!!!!!!!!!!!!!!!!!!!!!!!!!!!!!!!\u001b[0m\n",
      "       (0, 12, 0, 0)      -35.999488      -36.000000 \u001b[31m  0.00051159288\u001b[0m \u001b[31m  1.4210913e-05\u001b[0m \u001b[31m!!!!!!!!!!!!!!!!!!!!!!!!!!!!!!!!!!!!!!!!!!!!!!!!!!!!!!!!!!!!!!!!!!!!!!!!!!!!!!!!!!!!!!!!!!!!!!!!!!!!\u001b[0m\n",
      "       (0, 12, 0, 1)      -35.001255      -35.000000 \u001b[34m  -0.0012552167\u001b[0m \u001b[34m -3.5863335e-05\u001b[0m \u001b[34m!!!!!!!!!!!!!!!!!!!!!!!!!!!!!!!!!!!!!!!!!!!!!!!!!!!!!!!!!!!!!!!!!!!!!!!!!!!!!!!!!!!!!!!!!!!!!!!!!!!!\u001b[0m\n",
      "       (0, 12, 0, 2)      -33.998273      -34.000000 \u001b[31m   0.0017273592\u001b[0m \u001b[31m  5.0804684e-05\u001b[0m \u001b[31m!!!!!!!!!!!!!!!!!!!!!!!!!!!!!!!!!!!!!!!!!!!!!!!!!!!!!!!!!!!!!!!!!!!!!!!!!!!!!!!!!!!!!!!!!!!!!!!!!!!!\u001b[0m\n",
      "       (0, 12, 1, 0)      -32.998380      -33.000000 \u001b[31m   0.0016200063\u001b[0m \u001b[31m  4.9091100e-05\u001b[0m \u001b[31m!!!!!!!!!!!!!!!!!!!!!!!!!!!!!!!!!!!!!!!!!!!!!!!!!!!!!!!!!!!!!!!!!!!!!!!!!!!!!!!!!!!!!!!!!!!!!!!!!!!!\u001b[0m\n",
      "       (0, 12, 1, 1)      -32.001423      -32.000000 \u001b[34m  -0.0014229412\u001b[0m \u001b[34m -4.4466911e-05\u001b[0m \u001b[34m!!!!!!!!!!!!!!!!!!!!!!!!!!!!!!!!!!!!!!!!!!!!!!!!!!!!!!!!!!!!!!!!!!!!!!!!!!!!!!!!!!!!!!!!!!!!!!!!!!!!\u001b[0m\n",
      "       (0, 12, 1, 2)      -31.001933      -31.000000 \u001b[34m  -0.0019333499\u001b[0m \u001b[34m -6.2366127e-05\u001b[0m \u001b[34m!!!!!!!!!!!!!!!!!!!!!!!!!!!!!!!!!!!!!!!!!!!!!!!!!!!!!!!!!!!!!!!!!!!!!!!!!!!!!!!!!!!!!!!!!!!!!!!!!!!!\u001b[0m\n",
      "       (0, 12, 2, 0)      -30.000499      -30.000000 \u001b[34m -0.00049867286\u001b[0m \u001b[34m -1.6622429e-05\u001b[0m \u001b[34m!!!!!!!!!!!!!!!!!!!!!!!!!!!!!!!!!!!!!!!!!!!!!!!!!!!!!!!!!!!!!!!!!!!!!!!!!!!!!!!!!!!!!!!!!!!!!!!!!!!!\u001b[0m\n",
      "       (0, 12, 2, 1)      -28.998053      -29.000000 \u001b[31m   0.0019473580\u001b[0m \u001b[31m  6.7150276e-05\u001b[0m \u001b[31m!!!!!!!!!!!!!!!!!!!!!!!!!!!!!!!!!!!!!!!!!!!!!!!!!!!!!!!!!!!!!!!!!!!!!!!!!!!!!!!!!!!!!!!!!!!!!!!!!!!!\u001b[0m\n",
      "       (0, 12, 2, 2)      -27.998579      -28.000000 \u001b[31m   0.0014212523\u001b[0m \u001b[31m  5.0759011e-05\u001b[0m \u001b[31m!!!!!!!!!!!!!!!!!!!!!!!!!!!!!!!!!!!!!!!!!!!!!!!!!!!!!!!!!!!!!!!!!!!!!!!!!!!!!!!!!!!!!!!!!!!!!!!!!!!!\u001b[0m\n",
      "       (0, 13, 0, 0)      -26.997516      -27.000000 \u001b[31m   0.0024844682\u001b[0m \u001b[31m  9.2017342e-05\u001b[0m \u001b[31m!!!!!!!!!!!!!!!!!!!!!!!!!!!!!!!!!!!!!!!!!!!!!!!!!!!!!!!!!!!!!!!!!!!!!!!!!!!!!!!!!!!!!!!!!!!!!!!!!!!!\u001b[0m\n",
      "       (0, 13, 0, 1)      -25.997578      -26.000000 \u001b[31m   0.0024221646\u001b[0m \u001b[31m  9.3160178e-05\u001b[0m \u001b[31m!!!!!!!!!!!!!!!!!!!!!!!!!!!!!!!!!!!!!!!!!!!!!!!!!!!!!!!!!!!!!!!!!!!!!!!!!!!!!!!!!!!!!!!!!!!!!!!!!!!!\u001b[0m\n",
      "       (0, 13, 0, 2)      -25.000168      -25.000000 \u001b[34m -0.00016845371\u001b[0m \u001b[34m -6.7381484e-06\u001b[0m \u001b[34m!!!!!!!!!!!!!!!!!!!!!!!!!!!!!!!!!!!!!!!!!!!!!!!!!!!!!!!!!!!!!!!!!!!!!!!!!!!!!!!!!!!!!!!!!!!!!!!!!!!!\u001b[0m\n",
      "       (0, 13, 1, 0)      -24.001831      -24.000000 \u001b[34m  -0.0018308995\u001b[0m \u001b[34m -7.6287480e-05\u001b[0m \u001b[34m!!!!!!!!!!!!!!!!!!!!!!!!!!!!!!!!!!!!!!!!!!!!!!!!!!!!!!!!!!!!!!!!!!!!!!!!!!!!!!!!!!!!!!!!!!!!!!!!!!!!\u001b[0m\n",
      "       (0, 13, 1, 1)      -22.997591      -23.000000 \u001b[31m   0.0024085986\u001b[0m \u001b[31m  0.00010472168\u001b[0m \u001b[31m!!!!!!!!!!!!!!!!!!!!!!!!!!!!!!!!!!!!!!!!!!!!!!!!!!!!!!!!!!!!!!!!!!!!!!!!!!!!!!!!!!!!!!!!!!!!!!!!!!!!\u001b[0m\n",
      "       (0, 13, 1, 2)      -22.000990      -22.000000 \u001b[34m -0.00099018453\u001b[0m \u001b[34m -4.5008388e-05\u001b[0m \u001b[34m!!!!!!!!!!!!!!!!!!!!!!!!!!!!!!!!!!!!!!!!!!!!!!!!!!!!!!!!!!!!!!!!!!!!!!!!!!!!!!!!!!!!!!!!!!!!!!!!!!!!\u001b[0m\n",
      "       (0, 13, 2, 0)      -21.001311      -21.000000 \u001b[34m  -0.0013112062\u001b[0m \u001b[34m -6.2438390e-05\u001b[0m \u001b[34m!!!!!!!!!!!!!!!!!!!!!!!!!!!!!!!!!!!!!!!!!!!!!!!!!!!!!!!!!!!!!!!!!!!!!!!!!!!!!!!!!!!!!!!!!!!!!!!!!!!!\u001b[0m\n",
      "       (0, 13, 2, 1)      -20.000475      -20.000000 \u001b[34m -0.00047548627\u001b[0m \u001b[34m -2.3774314e-05\u001b[0m \u001b[34m!!!!!!!!!!!!!!!!!!!!!!!!!!!!!!!!!!!!!!!!!!!!!!!!!!!!!!!!!!!!!!!!!!!!!!!!!!!!!!!!!!!!!!!!!!!!!!!!!!!!\u001b[0m\n",
      "       (0, 13, 2, 2)      -19.000606      -19.000000 \u001b[34m -0.00060606320\u001b[0m \u001b[34m -3.1898063e-05\u001b[0m \u001b[34m!!!!!!!!!!!!!!!!!!!!!!!!!!!!!!!!!!!!!!!!!!!!!!!!!!!!!!!!!!!!!!!!!!!!!!!!!!!!!!!!!!!!!!!!!!!!!!!!!!!!\u001b[0m\n",
      "       (0, 14, 0, 0)      -18.001745      -18.000000 \u001b[34m  -0.0017448900\u001b[0m \u001b[34m -9.6938333e-05\u001b[0m \u001b[34m!!!!!!!!!!!!!!!!!!!!!!!!!!!!!!!!!!!!!!!!!!!!!!!!!!!!!!!!!!!!!!!!!!!!!!!!!!!!!!!!!!!!!!!!!!!!!!!!!!!!\u001b[0m\n",
      "       (0, 14, 0, 1)      -16.998520      -17.000000 \u001b[31m   0.0014800060\u001b[0m \u001b[31m  8.7059179e-05\u001b[0m \u001b[31m!!!!!!!!!!!!!!!!!!!!!!!!!!!!!!!!!!!!!!!!!!!!!!!!!!!!!!!!!!!!!!!!!!!!!!!!!!!!!!!!!!!!!!!!!!!!!!!!!!!!\u001b[0m\n",
      "       (0, 14, 0, 2)      -15.999195      -16.000000 \u001b[31m  0.00080509220\u001b[0m \u001b[31m  5.0318262e-05\u001b[0m \u001b[31m!!!!!!!!!!!!!!!!!!!!!!!!!!!!!!!!!!!!!!!!!!!!!!!!!!!!!!!!!!!!!!!!!!!!!!!!!!!!!!!!!!!!!!!!!!!!!!!!!!!!\u001b[0m\n",
      "       (0, 14, 1, 0)      -14.997825      -15.000000 \u001b[31m   0.0021750611\u001b[0m \u001b[31m  0.00014500407\u001b[0m \u001b[31m!!!!!!!!!!!!!!!!!!!!!!!!!!!!!!!!!!!!!!!!!!!!!!!!!!!!!!!!!!!!!!!!!!!!!!!!!!!!!!!!!!!!!!!!!!!!!!!!!!!!\u001b[0m\n",
      "       (0, 14, 1, 1)      -14.000000      -14.000000 \u001b[31m  3.4494589e-08\u001b[0m \u001b[31m  2.4638992e-09\u001b[0m \u001b[31m!!!\u001b[0m\n",
      "       (0, 14, 1, 2)      -12.998563      -13.000000 \u001b[31m   0.0014367753\u001b[0m \u001b[31m  0.00011052118\u001b[0m \u001b[31m!!!!!!!!!!!!!!!!!!!!!!!!!!!!!!!!!!!!!!!!!!!!!!!!!!!!!!!!!!!!!!!!!!!!!!!!!!!!!!!!!!!!!!!!!!!!!!!!!!!!\u001b[0m\n",
      "       (0, 14, 2, 0)      -11.998407      -12.000000 \u001b[31m   0.0015927204\u001b[0m \u001b[31m  0.00013272670\u001b[0m \u001b[31m!!!!!!!!!!!!!!!!!!!!!!!!!!!!!!!!!!!!!!!!!!!!!!!!!!!!!!!!!!!!!!!!!!!!!!!!!!!!!!!!!!!!!!!!!!!!!!!!!!!!\u001b[0m\n",
      "       (0, 14, 2, 1)      -11.000914      -11.000000 \u001b[34m -0.00091368050\u001b[0m \u001b[34m -8.3061864e-05\u001b[0m \u001b[34m!!!!!!!!!!!!!!!!!!!!!!!!!!!!!!!!!!!!!!!!!!!!!!!!!!!!!!!!!!!!!!!!!!!!!!!!!!!!!!!!!!!!!!!!!!!!!!!!!!!!\u001b[0m\n",
      "       (0, 14, 2, 2)      -10.002097      -10.000000 \u001b[34m  -0.0020968153\u001b[0m \u001b[34m -0.00020968153\u001b[0m \u001b[34m!!!!!!!!!!!!!!!!!!!!!!!!!!!!!!!!!!!!!!!!!!!!!!!!!!!!!!!!!!!!!!!!!!!!!!!!!!!!!!!!!!!!!!!!!!!!!!!!!!!!\u001b[0m\n",
      "       (0, 15, 0, 0)      -9.0003399      -9.0000000 \u001b[34m -0.00033986131\u001b[0m \u001b[34m -3.7762368e-05\u001b[0m \u001b[34m!!!!!!!!!!!!!!!!!!!!!!!!!!!!!!!!!!!!!!!!!!!!!!!!!!!!!!!!!!!!!!!!!!!!!!!!!!!!!!!!!!!!!!!!!!!!!!!!!!!!\u001b[0m\n",
      "       (0, 15, 0, 1)      -8.0010970      -8.0000000 \u001b[34m  -0.0010969744\u001b[0m \u001b[34m -0.00013712180\u001b[0m \u001b[34m!!!!!!!!!!!!!!!!!!!!!!!!!!!!!!!!!!!!!!!!!!!!!!!!!!!!!!!!!!!!!!!!!!!!!!!!!!!!!!!!!!!!!!!!!!!!!!!!!!!!\u001b[0m\n",
      "       (0, 15, 0, 2)      -6.9983920      -7.0000000 \u001b[31m   0.0016080251\u001b[0m \u001b[31m  0.00022971787\u001b[0m \u001b[31m!!!!!!!!!!!!!!!!!!!!!!!!!!!!!!!!!!!!!!!!!!!!!!!!!!!!!!!!!!!!!!!!!!!!!!!!!!!!!!!!!!!!!!!!!!!!!!!!!!!!\u001b[0m\n",
      "       (0, 15, 1, 0)      -6.0000508      -6.0000000 \u001b[34m -5.0776503e-05\u001b[0m \u001b[34m -8.4627505e-06\u001b[0m \u001b[34m!!!!!!!!!!!!!!!!!!!!!!!!!!!!!!!!!!!!!!!!!!!!!!!!!!!!!!!!!!!!!!!!!!!!!!!!!!!!!!!!!!!!!!!!!!!!!!!!!!!!\u001b[0m\n",
      "       (0, 15, 1, 1)      -4.9984570      -5.0000000 \u001b[31m   0.0015429584\u001b[0m \u001b[31m  0.00030859168\u001b[0m \u001b[31m!!!!!!!!!!!!!!!!!!!!!!!!!!!!!!!!!!!!!!!!!!!!!!!!!!!!!!!!!!!!!!!!!!!!!!!!!!!!!!!!!!!!!!!!!!!!!!!!!!!!\u001b[0m\n",
      "       (0, 15, 1, 2)      -3.9985593      -4.0000000 \u001b[31m   0.0014407356\u001b[0m \u001b[31m  0.00036018389\u001b[0m \u001b[31m!!!!!!!!!!!!!!!!!!!!!!!!!!!!!!!!!!!!!!!!!!!!!!!!!!!!!!!!!!!!!!!!!!!!!!!!!!!!!!!!!!!!!!!!!!!!!!!!!!!!\u001b[0m\n",
      "       (0, 15, 2, 0)      -3.0016144      -3.0000000 \u001b[34m  -0.0016143601\u001b[0m \u001b[34m -0.00053812004\u001b[0m \u001b[34m!!!!!!!!!!!!!!!!!!!!!!!!!!!!!!!!!!!!!!!!!!!!!!!!!!!!!!!!!!!!!!!!!!!!!!!!!!!!!!!!!!!!!!!!!!!!!!!!!!!!\u001b[0m\n",
      "       (0, 15, 2, 1)      -1.9996803      -2.0000000 \u001b[31m  0.00031968272\u001b[0m \u001b[31m  0.00015984136\u001b[0m \u001b[31m!!!!!!!!!!!!!!!!!!!!!!!!!!!!!!!!!!!!!!!!!!!!!!!!!!!!!!!!!!!!!!!!!!!!!!!!!!!!!!!!!!!!!!!!!!!!!!!!!!!!\u001b[0m\n",
      "       (0, 15, 2, 2)      -1.0014627      -1.0000000 \u001b[34m  -0.0014626513\u001b[0m \u001b[34m  -0.0014626513\u001b[0m \u001b[34m!!!!!!!!!!!!!!!!!!!!!!!!!!!!!!!!!!!!!!!!!!!!!!!!!!!!!!!!!!!!!!!!!!!!!!!!!!!!!!!!!!!!!!!!!!!!!!!!!!!!\u001b[0m\n",
      "       (0, 16, 0, 0)   -0.0021327549       0.0000000 \u001b[34m  -0.0021327549\u001b[0m \u001b[34m           -inf\u001b[0m \u001b[34m!!!!!!!!!!!!!!!!!!!!!!!!!!!!!!!!!!!!!!!!!!!!!!!!!!!!!!!!!!!!!!!!!!!!!!!!!!!!!!!!!!!!!!!!!!!!!!!!!!!!\u001b[0m\n",
      "       (0, 16, 0, 1)       1.0004227       1.0000000 \u001b[31m  0.00042265528\u001b[0m \u001b[31m  0.00042265528\u001b[0m \u001b[31m!!!!!!!!!!!!!!!!!!!!!!!!!!!!!!!!!!!!!!!!!!!!!!!!!!!!!!!!!!!!!!!!!!!!!!!!!!!!!!!!!!!!!!!!!!!!!!!!!!!!\u001b[0m\n",
      "       (0, 16, 0, 2)       2.0014861       2.0000000 \u001b[31m   0.0014860536\u001b[0m \u001b[31m  0.00074302679\u001b[0m \u001b[31m!!!!!!!!!!!!!!!!!!!!!!!!!!!!!!!!!!!!!!!!!!!!!!!!!!!!!!!!!!!!!!!!!!!!!!!!!!!!!!!!!!!!!!!!!!!!!!!!!!!!\u001b[0m\n",
      "       (0, 16, 1, 0)       3.0007581       3.0000000 \u001b[31m  0.00075806769\u001b[0m \u001b[31m  0.00025268923\u001b[0m \u001b[31m!!!!!!!!!!!!!!!!!!!!!!!!!!!!!!!!!!!!!!!!!!!!!!!!!!!!!!!!!!!!!!!!!!!!!!!!!!!!!!!!!!!!!!!!!!!!!!!!!!!!\u001b[0m\n",
      "       (0, 16, 1, 1)       3.9996294       4.0000000 \u001b[34m -0.00037064498\u001b[0m \u001b[34m -9.2661245e-05\u001b[0m \u001b[34m!!!!!!!!!!!!!!!!!!!!!!!!!!!!!!!!!!!!!!!!!!!!!!!!!!!!!!!!!!!!!!!!!!!!!!!!!!!!!!!!!!!!!!!!!!!!!!!!!!!!\u001b[0m\n",
      "       (0, 16, 1, 2)       4.9976825       5.0000000 \u001b[34m  -0.0023175292\u001b[0m \u001b[34m -0.00046350583\u001b[0m \u001b[34m!!!!!!!!!!!!!!!!!!!!!!!!!!!!!!!!!!!!!!!!!!!!!!!!!!!!!!!!!!!!!!!!!!!!!!!!!!!!!!!!!!!!!!!!!!!!!!!!!!!!\u001b[0m\n",
      "       (0, 16, 2, 0)       5.9975221       6.0000000 \u001b[34m  -0.0024778781\u001b[0m \u001b[34m -0.00041297969\u001b[0m \u001b[34m!!!!!!!!!!!!!!!!!!!!!!!!!!!!!!!!!!!!!!!!!!!!!!!!!!!!!!!!!!!!!!!!!!!!!!!!!!!!!!!!!!!!!!!!!!!!!!!!!!!!\u001b[0m\n",
      "       (0, 16, 2, 1)       7.0022922       7.0000000 \u001b[31m   0.0022921505\u001b[0m \u001b[31m  0.00032745008\u001b[0m \u001b[31m!!!!!!!!!!!!!!!!!!!!!!!!!!!!!!!!!!!!!!!!!!!!!!!!!!!!!!!!!!!!!!!!!!!!!!!!!!!!!!!!!!!!!!!!!!!!!!!!!!!!\u001b[0m\n",
      "       (0, 16, 2, 2)       8.0004648       8.0000000 \u001b[31m  0.00046483067\u001b[0m \u001b[31m  5.8103834e-05\u001b[0m \u001b[31m!!!!!!!!!!!!!!!!!!!!!!!!!!!!!!!!!!!!!!!!!!!!!!!!!!!!!!!!!!!!!!!!!!!!!!!!!!!!!!!!!!!!!!!!!!!!!!!!!!!!\u001b[0m\n",
      "       (0, 17, 0, 0)       8.9985337       9.0000000 \u001b[34m  -0.0014662820\u001b[0m \u001b[34m -0.00016292022\u001b[0m \u001b[34m!!!!!!!!!!!!!!!!!!!!!!!!!!!!!!!!!!!!!!!!!!!!!!!!!!!!!!!!!!!!!!!!!!!!!!!!!!!!!!!!!!!!!!!!!!!!!!!!!!!!\u001b[0m\n",
      "       (0, 17, 0, 1)       10.002295       10.000000 \u001b[31m   0.0022954020\u001b[0m \u001b[31m  0.00022954020\u001b[0m \u001b[31m!!!!!!!!!!!!!!!!!!!!!!!!!!!!!!!!!!!!!!!!!!!!!!!!!!!!!!!!!!!!!!!!!!!!!!!!!!!!!!!!!!!!!!!!!!!!!!!!!!!!\u001b[0m\n",
      "       (0, 17, 0, 2)       10.999158       11.000000 \u001b[34m -0.00084203682\u001b[0m \u001b[34m -7.6548802e-05\u001b[0m \u001b[34m!!!!!!!!!!!!!!!!!!!!!!!!!!!!!!!!!!!!!!!!!!!!!!!!!!!!!!!!!!!!!!!!!!!!!!!!!!!!!!!!!!!!!!!!!!!!!!!!!!!!\u001b[0m\n",
      "       (0, 17, 1, 0)       11.999754       12.000000 \u001b[34m -0.00024599608\u001b[0m \u001b[34m -2.0499673e-05\u001b[0m \u001b[34m!!!!!!!!!!!!!!!!!!!!!!!!!!!!!!!!!!!!!!!!!!!!!!!!!!!!!!!!!!!!!!!!!!!!!!!!!!!!!!!!!!!!!!!!!!!!!!!!!!!!\u001b[0m\n",
      "       (0, 17, 1, 1)       13.001228       13.000000 \u001b[31m   0.0012277522\u001b[0m \u001b[31m  9.4442476e-05\u001b[0m \u001b[31m!!!!!!!!!!!!!!!!!!!!!!!!!!!!!!!!!!!!!!!!!!!!!!!!!!!!!!!!!!!!!!!!!!!!!!!!!!!!!!!!!!!!!!!!!!!!!!!!!!!!\u001b[0m\n",
      "       (0, 17, 1, 2)       13.999339       14.000000 \u001b[34m -0.00066117014\u001b[0m \u001b[34m -4.7226438e-05\u001b[0m \u001b[34m!!!!!!!!!!!!!!!!!!!!!!!!!!!!!!!!!!!!!!!!!!!!!!!!!!!!!!!!!!!!!!!!!!!!!!!!!!!!!!!!!!!!!!!!!!!!!!!!!!!!\u001b[0m\n",
      "       (0, 17, 2, 0)       14.998640       15.000000 \u001b[34m  -0.0013603920\u001b[0m \u001b[34m -9.0692798e-05\u001b[0m \u001b[34m!!!!!!!!!!!!!!!!!!!!!!!!!!!!!!!!!!!!!!!!!!!!!!!!!!!!!!!!!!!!!!!!!!!!!!!!!!!!!!!!!!!!!!!!!!!!!!!!!!!!\u001b[0m\n",
      "       (0, 17, 2, 1)       15.998791       16.000000 \u001b[34m  -0.0012090945\u001b[0m \u001b[34m -7.5568406e-05\u001b[0m \u001b[34m!!!!!!!!!!!!!!!!!!!!!!!!!!!!!!!!!!!!!!!!!!!!!!!!!!!!!!!!!!!!!!!!!!!!!!!!!!!!!!!!!!!!!!!!!!!!!!!!!!!!\u001b[0m\n",
      "       (0, 17, 2, 2)       16.999360       17.000000 \u001b[34m -0.00063993232\u001b[0m \u001b[34m -3.7643077e-05\u001b[0m \u001b[34m!!!!!!!!!!!!!!!!!!!!!!!!!!!!!!!!!!!!!!!!!!!!!!!!!!!!!!!!!!!!!!!!!!!!!!!!!!!!!!!!!!!!!!!!!!!!!!!!!!!!\u001b[0m\n",
      "       (0, 18, 0, 0)       18.002064       18.000000 \u001b[31m   0.0020639806\u001b[0m \u001b[31m  0.00011466559\u001b[0m \u001b[31m!!!!!!!!!!!!!!!!!!!!!!!!!!!!!!!!!!!!!!!!!!!!!!!!!!!!!!!!!!!!!!!!!!!!!!!!!!!!!!!!!!!!!!!!!!!!!!!!!!!!\u001b[0m\n",
      "       (0, 18, 0, 1)       18.997609       19.000000 \u001b[34m  -0.0023909280\u001b[0m \u001b[34m -0.00012583831\u001b[0m \u001b[34m!!!!!!!!!!!!!!!!!!!!!!!!!!!!!!!!!!!!!!!!!!!!!!!!!!!!!!!!!!!!!!!!!!!!!!!!!!!!!!!!!!!!!!!!!!!!!!!!!!!!\u001b[0m\n",
      "       (0, 18, 0, 2)       20.002158       20.000000 \u001b[31m   0.0021579124\u001b[0m \u001b[31m  0.00010789562\u001b[0m \u001b[31m!!!!!!!!!!!!!!!!!!!!!!!!!!!!!!!!!!!!!!!!!!!!!!!!!!!!!!!!!!!!!!!!!!!!!!!!!!!!!!!!!!!!!!!!!!!!!!!!!!!!\u001b[0m\n",
      "       (0, 18, 1, 0)       21.000251       21.000000 \u001b[31m  0.00025071425\u001b[0m \u001b[31m  1.1938774e-05\u001b[0m \u001b[31m!!!!!!!!!!!!!!!!!!!!!!!!!!!!!!!!!!!!!!!!!!!!!!!!!!!!!!!!!!!!!!!!!!!!!!!!!!!!!!!!!!!!!!!!!!!!!!!!!!!!\u001b[0m\n",
      "       (0, 18, 1, 1)       21.998601       22.000000 \u001b[34m  -0.0013985727\u001b[0m \u001b[34m -6.3571485e-05\u001b[0m \u001b[34m!!!!!!!!!!!!!!!!!!!!!!!!!!!!!!!!!!!!!!!!!!!!!!!!!!!!!!!!!!!!!!!!!!!!!!!!!!!!!!!!!!!!!!!!!!!!!!!!!!!!\u001b[0m\n",
      "       (0, 18, 1, 2)       23.001860       23.000000 \u001b[31m   0.0018603126\u001b[0m \u001b[31m  8.0883156e-05\u001b[0m \u001b[31m!!!!!!!!!!!!!!!!!!!!!!!!!!!!!!!!!!!!!!!!!!!!!!!!!!!!!!!!!!!!!!!!!!!!!!!!!!!!!!!!!!!!!!!!!!!!!!!!!!!!\u001b[0m\n",
      "       (0, 18, 2, 0)       23.997542       24.000000 \u001b[34m  -0.0024580550\u001b[0m \u001b[34m -0.00010241896\u001b[0m \u001b[34m!!!!!!!!!!!!!!!!!!!!!!!!!!!!!!!!!!!!!!!!!!!!!!!!!!!!!!!!!!!!!!!!!!!!!!!!!!!!!!!!!!!!!!!!!!!!!!!!!!!!\u001b[0m\n",
      "       (0, 18, 2, 1)       24.998086       25.000000 \u001b[34m  -0.0019141232\u001b[0m \u001b[34m -7.6564926e-05\u001b[0m \u001b[34m!!!!!!!!!!!!!!!!!!!!!!!!!!!!!!!!!!!!!!!!!!!!!!!!!!!!!!!!!!!!!!!!!!!!!!!!!!!!!!!!!!!!!!!!!!!!!!!!!!!!\u001b[0m\n",
      "       (0, 18, 2, 2)       25.998957       26.000000 \u001b[34m  -0.0010429038\u001b[0m \u001b[34m -4.0111685e-05\u001b[0m \u001b[34m!!!!!!!!!!!!!!!!!!!!!!!!!!!!!!!!!!!!!!!!!!!!!!!!!!!!!!!!!!!!!!!!!!!!!!!!!!!!!!!!!!!!!!!!!!!!!!!!!!!!\u001b[0m\n",
      "       (0, 19, 0, 0)       26.998354       27.000000 \u001b[34m  -0.0016464561\u001b[0m \u001b[34m -6.0979854e-05\u001b[0m \u001b[34m!!!!!!!!!!!!!!!!!!!!!!!!!!!!!!!!!!!!!!!!!!!!!!!!!!!!!!!!!!!!!!!!!!!!!!!!!!!!!!!!!!!!!!!!!!!!!!!!!!!!\u001b[0m\n",
      "       (0, 19, 0, 1)       27.998697       28.000000 \u001b[34m  -0.0013029425\u001b[0m \u001b[34m -4.6533662e-05\u001b[0m \u001b[34m!!!!!!!!!!!!!!!!!!!!!!!!!!!!!!!!!!!!!!!!!!!!!!!!!!!!!!!!!!!!!!!!!!!!!!!!!!!!!!!!!!!!!!!!!!!!!!!!!!!!\u001b[0m\n",
      "       (0, 19, 0, 2)       28.998189       29.000000 \u001b[34m  -0.0018106988\u001b[0m \u001b[34m -6.2437891e-05\u001b[0m \u001b[34m!!!!!!!!!!!!!!!!!!!!!!!!!!!!!!!!!!!!!!!!!!!!!!!!!!!!!!!!!!!!!!!!!!!!!!!!!!!!!!!!!!!!!!!!!!!!!!!!!!!!\u001b[0m\n",
      "       (0, 19, 1, 0)       30.001552       30.000000 \u001b[31m   0.0015519405\u001b[0m \u001b[31m  5.1731350e-05\u001b[0m \u001b[31m!!!!!!!!!!!!!!!!!!!!!!!!!!!!!!!!!!!!!!!!!!!!!!!!!!!!!!!!!!!!!!!!!!!!!!!!!!!!!!!!!!!!!!!!!!!!!!!!!!!!\u001b[0m\n",
      "       (0, 19, 1, 1)       30.999849       31.000000 \u001b[34m -0.00015080247\u001b[0m \u001b[34m -4.8645959e-06\u001b[0m \u001b[34m!!!!!!!!!!!!!!!!!!!!!!!!!!!!!!!!!!!!!!!!!!!!!!!!!!!!!!!!!!!!!!!!!!!!!!!!!!!!!!!!!!!!!!!!!!!!!!!!!!!!\u001b[0m\n",
      "       (0, 19, 1, 2)       31.997779       32.000000 \u001b[34m  -0.0022213022\u001b[0m \u001b[34m -6.9415693e-05\u001b[0m \u001b[34m!!!!!!!!!!!!!!!!!!!!!!!!!!!!!!!!!!!!!!!!!!!!!!!!!!!!!!!!!!!!!!!!!!!!!!!!!!!!!!!!!!!!!!!!!!!!!!!!!!!!\u001b[0m\n",
      "       (0, 19, 2, 0)       32.997808       33.000000 \u001b[34m  -0.0021919873\u001b[0m \u001b[34m -6.6423859e-05\u001b[0m \u001b[34m!!!!!!!!!!!!!!!!!!!!!!!!!!!!!!!!!!!!!!!!!!!!!!!!!!!!!!!!!!!!!!!!!!!!!!!!!!!!!!!!!!!!!!!!!!!!!!!!!!!!\u001b[0m\n",
      "       (0, 19, 2, 1)       33.999863       34.000000 \u001b[34m -0.00013716647\u001b[0m \u001b[34m -4.0343080e-06\u001b[0m \u001b[34m!!!!!!!!!!!!!!!!!!!!!!!!!!!!!!!!!!!!!!!!!!!!!!!!!!!!!!!!!!!!!!!!!!!!!!!!!!!!!!!!!!!!!!!!!!!!!!!!!!!!\u001b[0m\n",
      "       (0, 19, 2, 2)       34.999504       35.000000 \u001b[34m -0.00049614280\u001b[0m \u001b[34m -1.4175509e-05\u001b[0m \u001b[34m!!!!!!!!!!!!!!!!!!!!!!!!!!!!!!!!!!!!!!!!!!!!!!!!!!!!!!!!!!!!!!!!!!!!!!!!!!!!!!!!!!!!!!!!!!!!!!!!!!!!\u001b[0m\n",
      "       (0, 20, 0, 0)       35.998415       36.000000 \u001b[34m  -0.0015850032\u001b[0m \u001b[34m -4.4027867e-05\u001b[0m \u001b[34m!!!!!!!!!!!!!!!!!!!!!!!!!!!!!!!!!!!!!!!!!!!!!!!!!!!!!!!!!!!!!!!!!!!!!!!!!!!!!!!!!!!!!!!!!!!!!!!!!!!!\u001b[0m\n",
      "       (0, 20, 0, 1)       36.999628       37.000000 \u001b[34m -0.00037208628\u001b[0m \u001b[34m -1.0056386e-05\u001b[0m \u001b[34m!!!!!!!!!!!!!!!!!!!!!!!!!!!!!!!!!!!!!!!!!!!!!!!!!!!!!!!!!!!!!!!!!!!!!!!!!!!!!!!!!!!!!!!!!!!!!!!!!!!!\u001b[0m\n",
      "       (0, 20, 0, 2)       37.998149       38.000000 \u001b[34m  -0.0018513216\u001b[0m \u001b[34m -4.8718989e-05\u001b[0m \u001b[34m!!!!!!!!!!!!!!!!!!!!!!!!!!!!!!!!!!!!!!!!!!!!!!!!!!!!!!!!!!!!!!!!!!!!!!!!!!!!!!!!!!!!!!!!!!!!!!!!!!!!\u001b[0m\n",
      "       (0, 20, 1, 0)       39.000310       39.000000 \u001b[31m  0.00030954259\u001b[0m \u001b[31m  7.9369896e-06\u001b[0m \u001b[31m!!!!!!!!!!!!!!!!!!!!!!!!!!!!!!!!!!!!!!!!!!!!!!!!!!!!!!!!!!!!!!!!!!!!!!!!!!!!!!!!!!!!!!!!!!!!!!!!!!!!\u001b[0m\n",
      "       (0, 20, 1, 1)       39.998831       40.000000 \u001b[34m  -0.0011693322\u001b[0m \u001b[34m -2.9233304e-05\u001b[0m \u001b[34m!!!!!!!!!!!!!!!!!!!!!!!!!!!!!!!!!!!!!!!!!!!!!!!!!!!!!!!!!!!!!!!!!!!!!!!!!!!!!!!!!!!!!!!!!!!!!!!!!!!!\u001b[0m\n",
      "       (0, 20, 1, 2)       41.001699       41.000000 \u001b[31m   0.0016989657\u001b[0m \u001b[31m  4.1438188e-05\u001b[0m \u001b[31m!!!!!!!!!!!!!!!!!!!!!!!!!!!!!!!!!!!!!!!!!!!!!!!!!!!!!!!!!!!!!!!!!!!!!!!!!!!!!!!!!!!!!!!!!!!!!!!!!!!!\u001b[0m\n",
      "       (0, 20, 2, 0)       42.002304       42.000000 \u001b[31m   0.0023038129\u001b[0m \u001b[31m  5.4852688e-05\u001b[0m \u001b[31m!!!!!!!!!!!!!!!!!!!!!!!!!!!!!!!!!!!!!!!!!!!!!!!!!!!!!!!!!!!!!!!!!!!!!!!!!!!!!!!!!!!!!!!!!!!!!!!!!!!!\u001b[0m\n",
      "       (0, 20, 2, 1)       42.999755       43.000000 \u001b[34m -0.00024479789\u001b[0m \u001b[34m -5.6929742e-06\u001b[0m \u001b[34m!!!!!!!!!!!!!!!!!!!!!!!!!!!!!!!!!!!!!!!!!!!!!!!!!!!!!!!!!!!!!!!!!!!!!!!!!!!!!!!!!!!!!!!!!!!!!!!!!!!!\u001b[0m\n",
      "       (0, 20, 2, 2)       44.000498       44.000000 \u001b[31m  0.00049811456\u001b[0m \u001b[31m  1.1320785e-05\u001b[0m \u001b[31m!!!!!!!!!!!!!!!!!!!!!!!!!!!!!!!!!!!!!!!!!!!!!!!!!!!!!!!!!!!!!!!!!!!!!!!!!!!!!!!!!!!!!!!!!!!!!!!!!!!!\u001b[0m\n",
      "       (0, 21, 0, 0)       44.998615       45.000000 \u001b[34m  -0.0013852350\u001b[0m \u001b[34m -3.0782999e-05\u001b[0m \u001b[34m!!!!!!!!!!!!!!!!!!!!!!!!!!!!!!!!!!!!!!!!!!!!!!!!!!!!!!!!!!!!!!!!!!!!!!!!!!!!!!!!!!!!!!!!!!!!!!!!!!!!\u001b[0m\n",
      "       (0, 21, 0, 1)       46.001932       46.000000 \u001b[31m   0.0019319343\u001b[0m \u001b[31m  4.1998571e-05\u001b[0m \u001b[31m!!!!!!!!!!!!!!!!!!!!!!!!!!!!!!!!!!!!!!!!!!!!!!!!!!!!!!!!!!!!!!!!!!!!!!!!!!!!!!!!!!!!!!!!!!!!!!!!!!!!\u001b[0m\n",
      "       (0, 21, 0, 2)       46.998972       47.000000 \u001b[34m  -0.0010280975\u001b[0m \u001b[34m -2.1874414e-05\u001b[0m \u001b[34m!!!!!!!!!!!!!!!!!!!!!!!!!!!!!!!!!!!!!!!!!!!!!!!!!!!!!!!!!!!!!!!!!!!!!!!!!!!!!!!!!!!!!!!!!!!!!!!!!!!!\u001b[0m\n",
      "       (0, 21, 1, 0)       48.002342       48.000000 \u001b[31m   0.0023416455\u001b[0m \u001b[31m  4.8784282e-05\u001b[0m \u001b[31m!!!!!!!!!!!!!!!!!!!!!!!!!!!!!!!!!!!!!!!!!!!!!!!!!!!!!!!!!!!!!!!!!!!!!!!!!!!!!!!!!!!!!!!!!!!!!!!!!!!!\u001b[0m\n",
      "       (0, 21, 1, 1)       48.998694       49.000000 \u001b[34m  -0.0013060484\u001b[0m \u001b[34m -2.6654050e-05\u001b[0m \u001b[34m!!!!!!!!!!!!!!!!!!!!!!!!!!!!!!!!!!!!!!!!!!!!!!!!!!!!!!!!!!!!!!!!!!!!!!!!!!!!!!!!!!!!!!!!!!!!!!!!!!!!\u001b[0m\n",
      "       (0, 21, 1, 2)       50.002257       50.000000 \u001b[31m   0.0022568727\u001b[0m \u001b[31m  4.5137455e-05\u001b[0m \u001b[31m!!!!!!!!!!!!!!!!!!!!!!!!!!!!!!!!!!!!!!!!!!!!!!!!!!!!!!!!!!!!!!!!!!!!!!!!!!!!!!!!!!!!!!!!!!!!!!!!!!!!\u001b[0m\n",
      "       (0, 21, 2, 0)       51.000685       51.000000 \u001b[31m  0.00068498119\u001b[0m \u001b[31m  1.3431004e-05\u001b[0m \u001b[31m!!!!!!!!!!!!!!!!!!!!!!!!!!!!!!!!!!!!!!!!!!!!!!!!!!!!!!!!!!!!!!!!!!!!!!!!!!!!!!!!!!!!!!!!!!!!!!!!!!!!\u001b[0m\n",
      "       (0, 21, 2, 1)       51.999222       52.000000 \u001b[34m -0.00077783554\u001b[0m \u001b[34m -1.4958376e-05\u001b[0m \u001b[34m!!!!!!!!!!!!!!!!!!!!!!!!!!!!!!!!!!!!!!!!!!!!!!!!!!!!!!!!!!!!!!!!!!!!!!!!!!!!!!!!!!!!!!!!!!!!!!!!!!!!\u001b[0m\n",
      "       (0, 21, 2, 2)       52.998584       53.000000 \u001b[34m  -0.0014155150\u001b[0m \u001b[34m -2.6707830e-05\u001b[0m \u001b[34m!!!!!!!!!!!!!!!!!!!!!!!!!!!!!!!!!!!!!!!!!!!!!!!!!!!!!!!!!!!!!!!!!!!!!!!!!!!!!!!!!!!!!!!!!!!!!!!!!!!!\u001b[0m\n",
      "       (0, 22, 0, 0)       53.999571       54.000000 \u001b[34m -0.00042871585\u001b[0m \u001b[34m -7.9391824e-06\u001b[0m \u001b[34m!!!!!!!!!!!!!!!!!!!!!!!!!!!!!!!!!!!!!!!!!!!!!!!!!!!!!!!!!!!!!!!!!!!!!!!!!!!!!!!!!!!!!!!!!!!!!!!!!!!!\u001b[0m\n",
      "       (0, 22, 0, 1)       54.999732       55.000000 \u001b[34m -0.00026783132\u001b[0m \u001b[34m -4.8696603e-06\u001b[0m \u001b[34m!!!!!!!!!!!!!!!!!!!!!!!!!!!!!!!!!!!!!!!!!!!!!!!!!!!!!!!!!!!!!!!!!!!!!!!!!!!!!!!!!!!!!!!!!!!!!!!!!!!!\u001b[0m\n",
      "       (0, 22, 0, 2)       55.999916       56.000000 \u001b[34m -8.4135378e-05\u001b[0m \u001b[34m -1.5024175e-06\u001b[0m \u001b[34m!!!!!!!!!!!!!!!!!!!!!!!!!!!!!!!!!!!!!!!!!!!!!!!!!!!!!!!!!!!!!!!!!!!!!!!!!!!!!!!!!!!!!!!!!!!!!!!!!!!!\u001b[0m\n",
      "       (0, 22, 1, 0)       56.997576       57.000000 \u001b[34m  -0.0024239169\u001b[0m \u001b[34m -4.2524858e-05\u001b[0m \u001b[34m!!!!!!!!!!!!!!!!!!!!!!!!!!!!!!!!!!!!!!!!!!!!!!!!!!!!!!!!!!!!!!!!!!!!!!!!!!!!!!!!!!!!!!!!!!!!!!!!!!!!\u001b[0m\n",
      "       (0, 22, 1, 1)       58.000476       58.000000 \u001b[31m  0.00047567886\u001b[0m \u001b[31m  8.2013596e-06\u001b[0m \u001b[31m!!!!!!!!!!!!!!!!!!!!!!!!!!!!!!!!!!!!!!!!!!!!!!!!!!!!!!!!!!!!!!!!!!!!!!!!!!!!!!!!!!!!!!!!!!!!!!!!!!!!\u001b[0m\n",
      "       (0, 22, 1, 2)       58.998157       59.000000 \u001b[34m  -0.0018428541\u001b[0m \u001b[34m -3.1234815e-05\u001b[0m \u001b[34m!!!!!!!!!!!!!!!!!!!!!!!!!!!!!!!!!!!!!!!!!!!!!!!!!!!!!!!!!!!!!!!!!!!!!!!!!!!!!!!!!!!!!!!!!!!!!!!!!!!!\u001b[0m\n",
      "       (0, 22, 2, 0)       60.000384       60.000000 \u001b[31m  0.00038424890\u001b[0m \u001b[31m  6.4041483e-06\u001b[0m \u001b[31m!!!!!!!!!!!!!!!!!!!!!!!!!!!!!!!!!!!!!!!!!!!!!!!!!!!!!!!!!!!!!!!!!!!!!!!!!!!!!!!!!!!!!!!!!!!!!!!!!!!!\u001b[0m\n",
      "       (0, 22, 2, 1)       60.999262       61.000000 \u001b[34m -0.00073809909\u001b[0m \u001b[34m -1.2099985e-05\u001b[0m \u001b[34m!!!!!!!!!!!!!!!!!!!!!!!!!!!!!!!!!!!!!!!!!!!!!!!!!!!!!!!!!!!!!!!!!!!!!!!!!!!!!!!!!!!!!!!!!!!!!!!!!!!!\u001b[0m\n",
      "       (0, 22, 2, 2)       62.001319       62.000000 \u001b[31m   0.0013191970\u001b[0m \u001b[31m  2.1277371e-05\u001b[0m \u001b[31m!!!!!!!!!!!!!!!!!!!!!!!!!!!!!!!!!!!!!!!!!!!!!!!!!!!!!!!!!!!!!!!!!!!!!!!!!!!!!!!!!!!!!!!!!!!!!!!!!!!!\u001b[0m\n",
      "       (0, 23, 0, 0)       63.001167       63.000000 \u001b[31m   0.0011674574\u001b[0m \u001b[31m  1.8531071e-05\u001b[0m \u001b[31m!!!!!!!!!!!!!!!!!!!!!!!!!!!!!!!!!!!!!!!!!!!!!!!!!!!!!!!!!!!!!!!!!!!!!!!!!!!!!!!!!!!!!!!!!!!!!!!!!!!!\u001b[0m\n",
      "       (0, 23, 0, 1)       64.001946       64.000000 \u001b[31m   0.0019455859\u001b[0m \u001b[31m  3.0399779e-05\u001b[0m \u001b[31m!!!!!!!!!!!!!!!!!!!!!!!!!!!!!!!!!!!!!!!!!!!!!!!!!!!!!!!!!!!!!!!!!!!!!!!!!!!!!!!!!!!!!!!!!!!!!!!!!!!!\u001b[0m\n",
      "       (0, 23, 0, 2)       64.999812       65.000000 \u001b[34m -0.00018781932\u001b[0m \u001b[34m -2.8895280e-06\u001b[0m \u001b[34m!!!!!!!!!!!!!!!!!!!!!!!!!!!!!!!!!!!!!!!!!!!!!!!!!!!!!!!!!!!!!!!!!!!!!!!!!!!!!!!!!!!!!!!!!!!!!!!!!!!!\u001b[0m\n",
      "       (0, 23, 1, 0)       65.997641       66.000000 \u001b[34m  -0.0023588315\u001b[0m \u001b[34m -3.5739871e-05\u001b[0m \u001b[34m!!!!!!!!!!!!!!!!!!!!!!!!!!!!!!!!!!!!!!!!!!!!!!!!!!!!!!!!!!!!!!!!!!!!!!!!!!!!!!!!!!!!!!!!!!!!!!!!!!!!\u001b[0m\n",
      "       (0, 23, 1, 1)       66.998417       67.000000 \u001b[34m  -0.0015831809\u001b[0m \u001b[34m -2.3629566e-05\u001b[0m \u001b[34m!!!!!!!!!!!!!!!!!!!!!!!!!!!!!!!!!!!!!!!!!!!!!!!!!!!!!!!!!!!!!!!!!!!!!!!!!!!!!!!!!!!!!!!!!!!!!!!!!!!!\u001b[0m\n",
      "       (0, 23, 1, 2)       67.998404       68.000000 \u001b[34m  -0.0015963552\u001b[0m \u001b[34m -2.3475812e-05\u001b[0m \u001b[34m!!!!!!!!!!!!!!!!!!!!!!!!!!!!!!!!!!!!!!!!!!!!!!!!!!!!!!!!!!!!!!!!!!!!!!!!!!!!!!!!!!!!!!!!!!!!!!!!!!!!\u001b[0m\n",
      "       (0, 23, 2, 0)       69.002157       69.000000 \u001b[31m   0.0021565313\u001b[0m \u001b[31m  3.1254077e-05\u001b[0m \u001b[31m!!!!!!!!!!!!!!!!!!!!!!!!!!!!!!!!!!!!!!!!!!!!!!!!!!!!!!!!!!!!!!!!!!!!!!!!!!!!!!!!!!!!!!!!!!!!!!!!!!!!\u001b[0m\n",
      "       (0, 23, 2, 1)       69.997784       70.000000 \u001b[34m  -0.0022157785\u001b[0m \u001b[34m -3.1653979e-05\u001b[0m \u001b[34m!!!!!!!!!!!!!!!!!!!!!!!!!!!!!!!!!!!!!!!!!!!!!!!!!!!!!!!!!!!!!!!!!!!!!!!!!!!!!!!!!!!!!!!!!!!!!!!!!!!!\u001b[0m\n",
      "       (0, 23, 2, 2)       71.002181       71.000000 \u001b[31m   0.0021813598\u001b[0m \u001b[31m  3.0723377e-05\u001b[0m \u001b[31m!!!!!!!!!!!!!!!!!!!!!!!!!!!!!!!!!!!!!!!!!!!!!!!!!!!!!!!!!!!!!!!!!!!!!!!!!!!!!!!!!!!!!!!!!!!!!!!!!!!!\u001b[0m\n",
      "       (0, 24, 0, 0)       72.001801       72.000000 \u001b[31m   0.0018009749\u001b[0m \u001b[31m  2.5013540e-05\u001b[0m \u001b[31m!!!!!!!!!!!!!!!!!!!!!!!!!!!!!!!!!!!!!!!!!!!!!!!!!!!!!!!!!!!!!!!!!!!!!!!!!!!!!!!!!!!!!!!!!!!!!!!!!!!!\u001b[0m\n",
      "       (0, 24, 0, 1)       73.001553       73.000000 \u001b[31m   0.0015532494\u001b[0m \u001b[31m  2.1277388e-05\u001b[0m \u001b[31m!!!!!!!!!!!!!!!!!!!!!!!!!!!!!!!!!!!!!!!!!!!!!!!!!!!!!!!!!!!!!!!!!!!!!!!!!!!!!!!!!!!!!!!!!!!!!!!!!!!!\u001b[0m\n",
      "       (0, 24, 0, 2)       74.001664       74.000000 \u001b[31m   0.0016644055\u001b[0m \u001b[31m  2.2491967e-05\u001b[0m \u001b[31m!!!!!!!!!!!!!!!!!!!!!!!!!!!!!!!!!!!!!!!!!!!!!!!!!!!!!!!!!!!!!!!!!!!!!!!!!!!!!!!!!!!!!!!!!!!!!!!!!!!!\u001b[0m\n",
      "       (0, 24, 1, 0)       75.001215       75.000000 \u001b[31m   0.0012149364\u001b[0m \u001b[31m  1.6199152e-05\u001b[0m \u001b[31m!!!!!!!!!!!!!!!!!!!!!!!!!!!!!!!!!!!!!!!!!!!!!!!!!!!!!!!!!!!!!!!!!!!!!!!!!!!!!!!!!!!!!!!!!!!!!!!!!!!!\u001b[0m\n",
      "       (0, 24, 1, 1)       75.998875       76.000000 \u001b[34m  -0.0011248931\u001b[0m \u001b[34m -1.4801226e-05\u001b[0m \u001b[34m!!!!!!!!!!!!!!!!!!!!!!!!!!!!!!!!!!!!!!!!!!!!!!!!!!!!!!!!!!!!!!!!!!!!!!!!!!!!!!!!!!!!!!!!!!!!!!!!!!!!\u001b[0m\n",
      "       (0, 24, 1, 2)       76.999015       77.000000 \u001b[34m -0.00098468103\u001b[0m \u001b[34m -1.2788065e-05\u001b[0m \u001b[34m!!!!!!!!!!!!!!!!!!!!!!!!!!!!!!!!!!!!!!!!!!!!!!!!!!!!!!!!!!!!!!!!!!!!!!!!!!!!!!!!!!!!!!!!!!!!!!!!!!!!\u001b[0m\n",
      "       (0, 24, 2, 0)       77.998116       78.000000 \u001b[34m  -0.0018839682\u001b[0m \u001b[34m -2.4153438e-05\u001b[0m \u001b[34m!!!!!!!!!!!!!!!!!!!!!!!!!!!!!!!!!!!!!!!!!!!!!!!!!!!!!!!!!!!!!!!!!!!!!!!!!!!!!!!!!!!!!!!!!!!!!!!!!!!!\u001b[0m\n",
      "       (0, 24, 2, 1)       78.997670       79.000000 \u001b[34m  -0.0023304618\u001b[0m \u001b[34m -2.9499516e-05\u001b[0m \u001b[34m!!!!!!!!!!!!!!!!!!!!!!!!!!!!!!!!!!!!!!!!!!!!!!!!!!!!!!!!!!!!!!!!!!!!!!!!!!!!!!!!!!!!!!!!!!!!!!!!!!!!\u001b[0m\n",
      "       (0, 24, 2, 2)       79.999882       80.000000 \u001b[34m -0.00011784220\u001b[0m \u001b[34m -1.4730274e-06\u001b[0m \u001b[34m!!!!!!!!!!!!!!!!!!!!!!!!!!!!!!!!!!!!!!!!!!!!!!!!!!!!!!!!!!!!!!!!!!!!!!!!!!!!!!!!!!!!!!!!!!!!!!!!!!!!\u001b[0m\n",
      "       (0, 25, 0, 0)       81.000850       81.000000 \u001b[31m  0.00085011275\u001b[0m \u001b[31m  1.0495219e-05\u001b[0m \u001b[31m!!!!!!!!!!!!!!!!!!!!!!!!!!!!!!!!!!!!!!!!!!!!!!!!!!!!!!!!!!!!!!!!!!!!!!!!!!!!!!!!!!!!!!!!!!!!!!!!!!!!\u001b[0m\n",
      "       (0, 25, 0, 1)       81.998486       82.000000 \u001b[34m  -0.0015141093\u001b[0m \u001b[34m -1.8464747e-05\u001b[0m \u001b[34m!!!!!!!!!!!!!!!!!!!!!!!!!!!!!!!!!!!!!!!!!!!!!!!!!!!!!!!!!!!!!!!!!!!!!!!!!!!!!!!!!!!!!!!!!!!!!!!!!!!!\u001b[0m\n",
      "       (0, 25, 0, 2)       83.001937       83.000000 \u001b[31m   0.0019368605\u001b[0m \u001b[31m  2.3335668e-05\u001b[0m \u001b[31m!!!!!!!!!!!!!!!!!!!!!!!!!!!!!!!!!!!!!!!!!!!!!!!!!!!!!!!!!!!!!!!!!!!!!!!!!!!!!!!!!!!!!!!!!!!!!!!!!!!!\u001b[0m\n",
      "       (0, 25, 1, 0)       84.001691       84.000000 \u001b[31m   0.0016910830\u001b[0m \u001b[31m  2.0131940e-05\u001b[0m \u001b[31m!!!!!!!!!!!!!!!!!!!!!!!!!!!!!!!!!!!!!!!!!!!!!!!!!!!!!!!!!!!!!!!!!!!!!!!!!!!!!!!!!!!!!!!!!!!!!!!!!!!!\u001b[0m\n",
      "       (0, 25, 1, 1)       84.998144       85.000000 \u001b[34m  -0.0018564296\u001b[0m \u001b[34m -2.1840349e-05\u001b[0m \u001b[34m!!!!!!!!!!!!!!!!!!!!!!!!!!!!!!!!!!!!!!!!!!!!!!!!!!!!!!!!!!!!!!!!!!!!!!!!!!!!!!!!!!!!!!!!!!!!!!!!!!!!\u001b[0m\n",
      "       (0, 25, 1, 2)       85.999673       86.000000 \u001b[34m -0.00032724885\u001b[0m \u001b[34m -3.8052192e-06\u001b[0m \u001b[34m!!!!!!!!!!!!!!!!!!!!!!!!!!!!!!!!!!!!!!!!!!!!!!!!!!!!!!!!!!!!!!!!!!!!!!!!!!!!!!!!!!!!!!!!!!!!!!!!!!!!\u001b[0m\n",
      "       (0, 25, 2, 0)       86.999393       87.000000 \u001b[34m -0.00060685627\u001b[0m \u001b[34m -6.9753594e-06\u001b[0m \u001b[34m!!!!!!!!!!!!!!!!!!!!!!!!!!!!!!!!!!!!!!!!!!!!!!!!!!!!!!!!!!!!!!!!!!!!!!!!!!!!!!!!!!!!!!!!!!!!!!!!!!!!\u001b[0m\n",
      "       (0, 25, 2, 1)       88.002445       88.000000 \u001b[31m   0.0024451326\u001b[0m \u001b[31m  2.7785598e-05\u001b[0m \u001b[31m!!!!!!!!!!!!!!!!!!!!!!!!!!!!!!!!!!!!!!!!!!!!!!!!!!!!!!!!!!!!!!!!!!!!!!!!!!!!!!!!!!!!!!!!!!!!!!!!!!!!\u001b[0m\n",
      "       (0, 25, 2, 2)       89.001345       89.000000 \u001b[31m   0.0013453179\u001b[0m \u001b[31m  1.5115931e-05\u001b[0m \u001b[31m!!!!!!!!!!!!!!!!!!!!!!!!!!!!!!!!!!!!!!!!!!!!!!!!!!!!!!!!!!!!!!!!!!!!!!!!!!!!!!!!!!!!!!!!!!!!!!!!!!!!\u001b[0m\n",
      "       (0, 26, 0, 0)       90.000613       90.000000 \u001b[31m  0.00061307971\u001b[0m \u001b[31m  6.8119968e-06\u001b[0m \u001b[31m!!!!!!!!!!!!!!!!!!!!!!!!!!!!!!!!!!!!!!!!!!!!!!!!!!!!!!!!!!!!!!!!!!!!!!!!!!!!!!!!!!!!!!!!!!!!!!!!!!!!\u001b[0m\n",
      "       (0, 26, 0, 1)       90.998010       91.000000 \u001b[34m  -0.0019899847\u001b[0m \u001b[34m -2.1867964e-05\u001b[0m \u001b[34m!!!!!!!!!!!!!!!!!!!!!!!!!!!!!!!!!!!!!!!!!!!!!!!!!!!!!!!!!!!!!!!!!!!!!!!!!!!!!!!!!!!!!!!!!!!!!!!!!!!!\u001b[0m\n",
      "       (0, 26, 0, 2)       92.001525       92.000000 \u001b[31m   0.0015251832\u001b[0m \u001b[31m  1.6578078e-05\u001b[0m \u001b[31m!!!!!!!!!!!!!!!!!!!!!!!!!!!!!!!!!!!!!!!!!!!!!!!!!!!!!!!!!!!!!!!!!!!!!!!!!!!!!!!!!!!!!!!!!!!!!!!!!!!!\u001b[0m\n",
      "       (0, 26, 1, 0)       93.000756       93.000000 \u001b[31m  0.00075624373\u001b[0m \u001b[31m  8.1316530e-06\u001b[0m \u001b[31m!!!!!!!!!!!!!!!!!!!!!!!!!!!!!!!!!!!!!!!!!!!!!!!!!!!!!!!!!!!!!!!!!!!!!!!!!!!!!!!!!!!!!!!!!!!!!!!!!!!!\u001b[0m\n",
      "       (0, 26, 1, 1)       93.998915       94.000000 \u001b[34m  -0.0010846663\u001b[0m \u001b[34m -1.1539003e-05\u001b[0m \u001b[34m!!!!!!!!!!!!!!!!!!!!!!!!!!!!!!!!!!!!!!!!!!!!!!!!!!!!!!!!!!!!!!!!!!!!!!!!!!!!!!!!!!!!!!!!!!!!!!!!!!!!\u001b[0m\n",
      "       (0, 26, 1, 2)       94.999911       95.000000 \u001b[34m -8.9327654e-05\u001b[0m \u001b[34m -9.4029109e-07\u001b[0m \u001b[34m!!!!!!!!!!!!!!!!!!!!!!!!!!!!!!!!!!!!!!!!!!!!!!!!!!!!!!!!!!!!!!!!!!!!!!!!!!!!!!!!!!!!!!!!!!!!!!!!!!!!\u001b[0m\n",
      "       (0, 26, 2, 0)       95.998862       96.000000 \u001b[34m  -0.0011383095\u001b[0m \u001b[34m -1.1857391e-05\u001b[0m \u001b[34m!!!!!!!!!!!!!!!!!!!!!!!!!!!!!!!!!!!!!!!!!!!!!!!!!!!!!!!!!!!!!!!!!!!!!!!!!!!!!!!!!!!!!!!!!!!!!!!!!!!!\u001b[0m\n",
      "       (0, 26, 2, 1)       96.999663       97.000000 \u001b[34m -0.00033683340\u001b[0m \u001b[34m -3.4725092e-06\u001b[0m \u001b[34m!!!!!!!!!!!!!!!!!!!!!!!!!!!!!!!!!!!!!!!!!!!!!!!!!!!!!!!!!!!!!!!!!!!!!!!!!!!!!!!!!!!!!!!!!!!!!!!!!!!!\u001b[0m\n",
      "       (0, 26, 2, 2)       98.001539       98.000000 \u001b[31m   0.0015394085\u001b[0m \u001b[31m  1.5708250e-05\u001b[0m \u001b[31m!!!!!!!!!!!!!!!!!!!!!!!!!!!!!!!!!!!!!!!!!!!!!!!!!!!!!!!!!!!!!!!!!!!!!!!!!!!!!!!!!!!!!!!!!!!!!!!!!!!!\u001b[0m\n",
      "       (0, 27, 0, 0)       98.999267       99.000000 \u001b[34m -0.00073281526\u001b[0m \u001b[34m -7.4021743e-06\u001b[0m \u001b[34m!!!!!!!!!!!!!!!!!!!!!!!!!!!!!!!!!!!!!!!!!!!!!!!!!!!!!!!!!!!!!!!!!!!!!!!!!!!!!!!!!!!!!!!!!!!!!!!!!!!!\u001b[0m\n",
      "       (0, 27, 0, 1)       99.998167       100.00000 \u001b[34m  -0.0018332284\u001b[0m \u001b[34m -1.8332284e-05\u001b[0m \u001b[34m!!!!!!!!!!!!!!!!!!!!!!!!!!!!!!!!!!!!!!!!!!!!!!!!!!!!!!!!!!!!!!!!!!!!!!!!!!!!!!!!!!!!!!!!!!!!!!!!!!!!\u001b[0m\n",
      "       (0, 27, 0, 2)       100.99982       101.00000 \u001b[34m -0.00018071575\u001b[0m \u001b[34m -1.7892648e-06\u001b[0m \u001b[34m!!!!!!!!!!!!!!!!!!!!!!!!!!!!!!!!!!!!!!!!!!!!!!!!!!!!!!!!!!!!!!!!!!!!!!!!!!!!!!!!!!!!!!!!!!!!!!!!!!!!\u001b[0m\n",
      "       (0, 27, 1, 0)       101.99900       102.00000 \u001b[34m -0.00099540122\u001b[0m \u001b[34m -9.7588355e-06\u001b[0m \u001b[34m!!!!!!!!!!!!!!!!!!!!!!!!!!!!!!!!!!!!!!!!!!!!!!!!!!!!!!!!!!!!!!!!!!!!!!!!!!!!!!!!!!!!!!!!!!!!!!!!!!!!\u001b[0m\n",
      "       (0, 27, 1, 1)       102.99820       103.00000 \u001b[34m  -0.0017953540\u001b[0m \u001b[34m -1.7430621e-05\u001b[0m \u001b[34m!!!!!!!!!!!!!!!!!!!!!!!!!!!!!!!!!!!!!!!!!!!!!!!!!!!!!!!!!!!!!!!!!!!!!!!!!!!!!!!!!!!!!!!!!!!!!!!!!!!!\u001b[0m\n",
      "       (0, 27, 1, 2)       104.00195       104.00000 \u001b[31m   0.0019486675\u001b[0m \u001b[31m  1.8737187e-05\u001b[0m \u001b[31m!!!!!!!!!!!!!!!!!!!!!!!!!!!!!!!!!!!!!!!!!!!!!!!!!!!!!!!!!!!!!!!!!!!!!!!!!!!!!!!!!!!!!!!!!!!!!!!!!!!!\u001b[0m\n",
      "       (0, 27, 2, 0)       104.99809       105.00000 \u001b[34m  -0.0019146101\u001b[0m \u001b[34m -1.8234382e-05\u001b[0m \u001b[34m!!!!!!!!!!!!!!!!!!!!!!!!!!!!!!!!!!!!!!!!!!!!!!!!!!!!!!!!!!!!!!!!!!!!!!!!!!!!!!!!!!!!!!!!!!!!!!!!!!!!\u001b[0m\n",
      "       (0, 27, 2, 1)       105.99985       106.00000 \u001b[34m -0.00014664086\u001b[0m \u001b[34m -1.3834044e-06\u001b[0m \u001b[34m!!!!!!!!!!!!!!!!!!!!!!!!!!!!!!!!!!!!!!!!!!!!!!!!!!!!!!!!!!!!!!!!!!!!!!!!!!!!!!!!!!!!!!!!!!!!!!!!!!!!\u001b[0m\n",
      "       (0, 27, 2, 2)       107.00201       107.00000 \u001b[31m   0.0020104869\u001b[0m \u001b[31m  1.8789597e-05\u001b[0m \u001b[31m!!!!!!!!!!!!!!!!!!!!!!!!!!!!!!!!!!!!!!!!!!!!!!!!!!!!!!!!!!!!!!!!!!!!!!!!!!!!!!!!!!!!!!!!!!!!!!!!!!!!\u001b[0m\n",
      "       (0, 28, 0, 0)       108.00125       108.00000 \u001b[31m   0.0012499767\u001b[0m \u001b[31m  1.1573859e-05\u001b[0m \u001b[31m!!!!!!!!!!!!!!!!!!!!!!!!!!!!!!!!!!!!!!!!!!!!!!!!!!!!!!!!!!!!!!!!!!!!!!!!!!!!!!!!!!!!!!!!!!!!!!!!!!!!\u001b[0m\n",
      "       (0, 28, 0, 1)       109.00200       109.00000 \u001b[31m   0.0019984057\u001b[0m \u001b[31m  1.8333997e-05\u001b[0m \u001b[31m!!!!!!!!!!!!!!!!!!!!!!!!!!!!!!!!!!!!!!!!!!!!!!!!!!!!!!!!!!!!!!!!!!!!!!!!!!!!!!!!!!!!!!!!!!!!!!!!!!!!\u001b[0m\n",
      "       (0, 28, 0, 2)       110.00245       110.00000 \u001b[31m   0.0024489207\u001b[0m \u001b[31m  2.2262915e-05\u001b[0m \u001b[31m!!!!!!!!!!!!!!!!!!!!!!!!!!!!!!!!!!!!!!!!!!!!!!!!!!!!!!!!!!!!!!!!!!!!!!!!!!!!!!!!!!!!!!!!!!!!!!!!!!!!\u001b[0m\n",
      "       (0, 28, 1, 0)       110.99791       111.00000 \u001b[34m  -0.0020888200\u001b[0m \u001b[34m -1.8818198e-05\u001b[0m \u001b[34m!!!!!!!!!!!!!!!!!!!!!!!!!!!!!!!!!!!!!!!!!!!!!!!!!!!!!!!!!!!!!!!!!!!!!!!!!!!!!!!!!!!!!!!!!!!!!!!!!!!!\u001b[0m\n",
      "       (0, 28, 1, 1)       111.99831       112.00000 \u001b[34m  -0.0016853572\u001b[0m \u001b[34m -1.5047832e-05\u001b[0m \u001b[34m!!!!!!!!!!!!!!!!!!!!!!!!!!!!!!!!!!!!!!!!!!!!!!!!!!!!!!!!!!!!!!!!!!!!!!!!!!!!!!!!!!!!!!!!!!!!!!!!!!!!\u001b[0m\n",
      "       (0, 28, 1, 2)       112.99803       113.00000 \u001b[34m  -0.0019729481\u001b[0m \u001b[34m -1.7459718e-05\u001b[0m \u001b[34m!!!!!!!!!!!!!!!!!!!!!!!!!!!!!!!!!!!!!!!!!!!!!!!!!!!!!!!!!!!!!!!!!!!!!!!!!!!!!!!!!!!!!!!!!!!!!!!!!!!!\u001b[0m\n",
      "       (0, 28, 2, 0)       113.99798       114.00000 \u001b[34m  -0.0020220134\u001b[0m \u001b[34m -1.7736960e-05\u001b[0m \u001b[34m!!!!!!!!!!!!!!!!!!!!!!!!!!!!!!!!!!!!!!!!!!!!!!!!!!!!!!!!!!!!!!!!!!!!!!!!!!!!!!!!!!!!!!!!!!!!!!!!!!!!\u001b[0m\n",
      "       (0, 28, 2, 1)       114.99959       115.00000 \u001b[34m -0.00041066744\u001b[0m \u001b[34m -3.5710212e-06\u001b[0m \u001b[34m!!!!!!!!!!!!!!!!!!!!!!!!!!!!!!!!!!!!!!!!!!!!!!!!!!!!!!!!!!!!!!!!!!!!!!!!!!!!!!!!!!!!!!!!!!!!!!!!!!!!\u001b[0m\n",
      "       (0, 28, 2, 2)       115.99867       116.00000 \u001b[34m  -0.0013251070\u001b[0m \u001b[34m -1.1423336e-05\u001b[0m \u001b[34m!!!!!!!!!!!!!!!!!!!!!!!!!!!!!!!!!!!!!!!!!!!!!!!!!!!!!!!!!!!!!!!!!!!!!!!!!!!!!!!!!!!!!!!!!!!!!!!!!!!!\u001b[0m\n",
      "       (0, 29, 0, 0)       116.99897       117.00000 \u001b[34m  -0.0010274681\u001b[0m \u001b[34m -8.7817787e-06\u001b[0m \u001b[34m!!!!!!!!!!!!!!!!!!!!!!!!!!!!!!!!!!!!!!!!!!!!!!!!!!!!!!!!!!!!!!!!!!!!!!!!!!!!!!!!!!!!!!!!!!!!!!!!!!!!\u001b[0m\n",
      "       (0, 29, 0, 1)       118.00066       118.00000 \u001b[31m  0.00065546587\u001b[0m \u001b[31m  5.5547955e-06\u001b[0m \u001b[31m!!!!!!!!!!!!!!!!!!!!!!!!!!!!!!!!!!!!!!!!!!!!!!!!!!!!!!!!!!!!!!!!!!!!!!!!!!!!!!!!!!!!!!!!!!!!!!!!!!!!\u001b[0m\n",
      "       (0, 29, 0, 2)       119.00030       119.00000 \u001b[31m  0.00029588994\u001b[0m \u001b[31m  2.4864701e-06\u001b[0m \u001b[31m!!!!!!!!!!!!!!!!!!!!!!!!!!!!!!!!!!!!!!!!!!!!!!!!!!!!!!!!!!!!!!!!!!!!!!!!!!!!!!!!!!!!!!!!!!!!!!!!!!!!\u001b[0m\n",
      "       (0, 29, 1, 0)       120.00087       120.00000 \u001b[31m  0.00087140599\u001b[0m \u001b[31m  7.2617166e-06\u001b[0m \u001b[31m!!!!!!!!!!!!!!!!!!!!!!!!!!!!!!!!!!!!!!!!!!!!!!!!!!!!!!!!!!!!!!!!!!!!!!!!!!!!!!!!!!!!!!!!!!!!!!!!!!!!\u001b[0m\n",
      "       (0, 29, 1, 1)       120.99964       121.00000 \u001b[34m -0.00035777323\u001b[0m \u001b[34m -2.9568036e-06\u001b[0m \u001b[34m!!!!!!!!!!!!!!!!!!!!!!!!!!!!!!!!!!!!!!!!!!!!!!!!!!!!!!!!!!!!!!!!!!!!!!!!!!!!!!!!!!!!!!!!!!!!!!!!!!!!\u001b[0m\n",
      "       (0, 29, 1, 2)       121.99866       122.00000 \u001b[34m  -0.0013404525\u001b[0m \u001b[34m -1.0987315e-05\u001b[0m \u001b[34m!!!!!!!!!!!!!!!!!!!!!!!!!!!!!!!!!!!!!!!!!!!!!!!!!!!!!!!!!!!!!!!!!!!!!!!!!!!!!!!!!!!!!!!!!!!!!!!!!!!!\u001b[0m\n",
      "       (0, 29, 2, 0)       122.99921       123.00000 \u001b[34m -0.00078826929\u001b[0m \u001b[34m -6.4086934e-06\u001b[0m \u001b[34m!!!!!!!!!!!!!!!!!!!!!!!!!!!!!!!!!!!!!!!!!!!!!!!!!!!!!!!!!!!!!!!!!!!!!!!!!!!!!!!!!!!!!!!!!!!!!!!!!!!!\u001b[0m\n",
      "       (0, 29, 2, 1)       124.00219       124.00000 \u001b[31m   0.0021878164\u001b[0m \u001b[31m  1.7643681e-05\u001b[0m \u001b[31m!!!!!!!!!!!!!!!!!!!!!!!!!!!!!!!!!!!!!!!!!!!!!!!!!!!!!!!!!!!!!!!!!!!!!!!!!!!!!!!!!!!!!!!!!!!!!!!!!!!!\u001b[0m\n",
      "       (0, 29, 2, 2)       125.00126       125.00000 \u001b[31m   0.0012616989\u001b[0m \u001b[31m  1.0093591e-05\u001b[0m \u001b[31m!!!!!!!!!!!!!!!!!!!!!!!!!!!!!!!!!!!!!!!!!!!!!!!!!!!!!!!!!!!!!!!!!!!!!!!!!!!!!!!!!!!!!!!!!!!!!!!!!!!!\u001b[0m\n",
      "       (0, 30, 0, 0)       126.00095       126.00000 \u001b[31m  0.00094685195\u001b[0m \u001b[31m  7.5146980e-06\u001b[0m \u001b[31m!!!!!!!!!!!!!!!!!!!!!!!!!!!!!!!!!!!!!!!!!!!!!!!!!!!!!!!!!!!!!!!!!!!!!!!!!!!!!!!!!!!!!!!!!!!!!!!!!!!!\u001b[0m\n",
      "       (0, 30, 0, 1)       126.99839       127.00000 \u001b[34m  -0.0016059225\u001b[0m \u001b[34m -1.2645059e-05\u001b[0m \u001b[34m!!!!!!!!!!!!!!!!!!!!!!!!!!!!!!!!!!!!!!!!!!!!!!!!!!!!!!!!!!!!!!!!!!!!!!!!!!!!!!!!!!!!!!!!!!!!!!!!!!!!\u001b[0m\n",
      "       (0, 30, 0, 2)       128.00116       128.00000 \u001b[31m   0.0011597413\u001b[0m \u001b[31m  9.0604791e-06\u001b[0m \u001b[31m!!!!!!!!!!!!!!!!!!!!!!!!!!!!!!!!!!!!!!!!!!!!!!!!!!!!!!!!!!!!!!!!!!!!!!!!!!!!!!!!!!!!!!!!!!!!!!!!!!!!\u001b[0m\n",
      "       (0, 30, 1, 0)       129.00225       129.00000 \u001b[31m   0.0022512795\u001b[0m \u001b[31m  1.7451779e-05\u001b[0m \u001b[31m!!!!!!!!!!!!!!!!!!!!!!!!!!!!!!!!!!!!!!!!!!!!!!!!!!!!!!!!!!!!!!!!!!!!!!!!!!!!!!!!!!!!!!!!!!!!!!!!!!!!\u001b[0m\n",
      "       (0, 30, 1, 1)       130.00042       130.00000 \u001b[31m  0.00041520690\u001b[0m \u001b[31m  3.1938992e-06\u001b[0m \u001b[31m!!!!!!!!!!!!!!!!!!!!!!!!!!!!!!!!!!!!!!!!!!!!!!!!!!!!!!!!!!!!!!!!!!!!!!!!!!!!!!!!!!!!!!!!!!!!!!!!!!!!\u001b[0m\n",
      "       (0, 30, 1, 2)       130.99890       131.00000 \u001b[34m  -0.0010989502\u001b[0m \u001b[34m -8.3889331e-06\u001b[0m \u001b[34m!!!!!!!!!!!!!!!!!!!!!!!!!!!!!!!!!!!!!!!!!!!!!!!!!!!!!!!!!!!!!!!!!!!!!!!!!!!!!!!!!!!!!!!!!!!!!!!!!!!!\u001b[0m\n",
      "       (0, 30, 2, 0)       131.99969       132.00000 \u001b[34m -0.00030995085\u001b[0m \u001b[34m -2.3481125e-06\u001b[0m \u001b[34m!!!!!!!!!!!!!!!!!!!!!!!!!!!!!!!!!!!!!!!!!!!!!!!!!!!!!!!!!!!!!!!!!!!!!!!!!!!!!!!!!!!!!!!!!!!!!!!!!!!!\u001b[0m\n",
      "       (0, 30, 2, 1)       132.99903       133.00000 \u001b[34m -0.00096736260\u001b[0m \u001b[34m -7.2734030e-06\u001b[0m \u001b[34m!!!!!!!!!!!!!!!!!!!!!!!!!!!!!!!!!!!!!!!!!!!!!!!!!!!!!!!!!!!!!!!!!!!!!!!!!!!!!!!!!!!!!!!!!!!!!!!!!!!!\u001b[0m\n",
      "       (0, 30, 2, 2)       133.99965       134.00000 \u001b[34m -0.00035464539\u001b[0m \u001b[34m -2.6466074e-06\u001b[0m \u001b[34m!!!!!!!!!!!!!!!!!!!!!!!!!!!!!!!!!!!!!!!!!!!!!!!!!!!!!!!!!!!!!!!!!!!!!!!!!!!!!!!!!!!!!!!!!!!!!!!!!!!!\u001b[0m\n",
      "       (0, 31, 0, 0)       134.99782       135.00000 \u001b[34m  -0.0021849329\u001b[0m \u001b[34m -1.6184688e-05\u001b[0m \u001b[34m!!!!!!!!!!!!!!!!!!!!!!!!!!!!!!!!!!!!!!!!!!!!!!!!!!!!!!!!!!!!!!!!!!!!!!!!!!!!!!!!!!!!!!!!!!!!!!!!!!!!\u001b[0m\n",
      "       (0, 31, 0, 1)       135.99978       136.00000 \u001b[34m -0.00021504252\u001b[0m \u001b[34m -1.5811950e-06\u001b[0m \u001b[34m!!!!!!!!!!!!!!!!!!!!!!!!!!!!!!!!!!!!!!!!!!!!!!!!!!!!!!!!!!!!!!!!!!!!!!!!!!!!!!!!!!!!!!!!!!!!!!!!!!!!\u001b[0m\n",
      "       (0, 31, 0, 2)       137.00146       137.00000 \u001b[31m   0.0014585254\u001b[0m \u001b[31m  1.0646171e-05\u001b[0m \u001b[31m!!!!!!!!!!!!!!!!!!!!!!!!!!!!!!!!!!!!!!!!!!!!!!!!!!!!!!!!!!!!!!!!!!!!!!!!!!!!!!!!!!!!!!!!!!!!!!!!!!!!\u001b[0m\n",
      "       (0, 31, 1, 0)       138.00150       138.00000 \u001b[31m   0.0014996480\u001b[0m \u001b[31m  1.0867014e-05\u001b[0m \u001b[31m!!!!!!!!!!!!!!!!!!!!!!!!!!!!!!!!!!!!!!!!!!!!!!!!!!!!!!!!!!!!!!!!!!!!!!!!!!!!!!!!!!!!!!!!!!!!!!!!!!!!\u001b[0m\n",
      "       (0, 31, 1, 1)       138.99792       139.00000 \u001b[34m  -0.0020760858\u001b[0m \u001b[34m -1.4935869e-05\u001b[0m \u001b[34m!!!!!!!!!!!!!!!!!!!!!!!!!!!!!!!!!!!!!!!!!!!!!!!!!!!!!!!!!!!!!!!!!!!!!!!!!!!!!!!!!!!!!!!!!!!!!!!!!!!!\u001b[0m\n",
      "       (0, 31, 1, 2)       139.99791       140.00000 \u001b[34m  -0.0020947008\u001b[0m \u001b[34m -1.4962149e-05\u001b[0m \u001b[34m!!!!!!!!!!!!!!!!!!!!!!!!!!!!!!!!!!!!!!!!!!!!!!!!!!!!!!!!!!!!!!!!!!!!!!!!!!!!!!!!!!!!!!!!!!!!!!!!!!!!\u001b[0m\n",
      "       (0, 31, 2, 0)       141.00005       141.00000 \u001b[31m  5.3372992e-05\u001b[0m \u001b[31m  3.7853186e-07\u001b[0m \u001b[31m!!!!!!!!!!!!!!!!!!!!!!!!!!!!!!!!!!!!!!!!!!!!!!!!!!!!!!!!!!!!!!!!!!!!!!!!!!!!!!!!!!!!!!!!!!!!!!!!!!!!\u001b[0m\n",
      "       (0, 31, 2, 1)       142.00144       142.00000 \u001b[31m   0.0014372168\u001b[0m \u001b[31m  1.0121245e-05\u001b[0m \u001b[31m!!!!!!!!!!!!!!!!!!!!!!!!!!!!!!!!!!!!!!!!!!!!!!!!!!!!!!!!!!!!!!!!!!!!!!!!!!!!!!!!!!!!!!!!!!!!!!!!!!!!\u001b[0m\n",
      "       (0, 31, 2, 2)       142.99777       143.00000 \u001b[34m  -0.0022256782\u001b[0m \u001b[34m -1.5564183e-05\u001b[0m \u001b[34m!!!!!!!!!!!!!!!!!!!!!!!!!!!!!!!!!!!!!!!!!!!!!!!!!!!!!!!!!!!!!!!!!!!!!!!!!!!!!!!!!!!!!!!!!!!!!!!!!!!!\u001b[0m\n",
      "\n"
     ]
    }
   ],
   "source": [
    "# feature: dump_vs_plot\n",
    "# when plot_vs is called, the arguments are cached and will be used by dump_vs_plot.\n",
    "# you can override the arguments by passing them to dump_vs_plot.\n",
    "a.dump_vs_plot()"
   ]
  },
  {
   "cell_type": "markdown",
   "metadata": {},
   "source": [
    "## Float Utils"
   ]
  },
  {
   "cell_type": "code",
   "execution_count": 10,
   "metadata": {},
   "outputs": [],
   "source": [
    "from nnmoduletools import f32, f16, bf16"
   ]
  },
  {
   "cell_type": "code",
   "execution_count": 11,
   "metadata": {},
   "outputs": [
    {
     "data": {
      "text/plain": [
       "(floating[3.1415927(0x40490fdb)],\n",
       " float16[3.140625(0x4248)],\n",
       " bfloat16[3.140625(0x4049)])"
      ]
     },
     "execution_count": 11,
     "metadata": {},
     "output_type": "execute_result"
    }
   ],
   "source": [
    "f32(np.pi), f16(np.pi), bf16(np.pi)"
   ]
  },
  {
   "cell_type": "code",
   "execution_count": 12,
   "metadata": {},
   "outputs": [
    {
     "data": {
      "text/plain": [
       "(floating[3.1415927(0x40490fdb)],\n",
       " float16[3.140625(0x4248)],\n",
       " bfloat16[3.140625(0x4049)])"
      ]
     },
     "execution_count": 12,
     "metadata": {},
     "output_type": "execute_result"
    }
   ],
   "source": [
    "f32(memory=0x40490fdb), f16(memory=0x4248), bf16(memory=0x4049)"
   ]
  },
  {
   "cell_type": "code",
   "execution_count": 13,
   "metadata": {},
   "outputs": [
    {
     "data": {
      "text/plain": [
       "float16[10000.0(0x70e2)]"
      ]
     },
     "execution_count": 13,
     "metadata": {},
     "output_type": "execute_result"
    }
   ],
   "source": [
    "f16(10000) + f16(4)"
   ]
  },
  {
   "cell_type": "code",
   "execution_count": 14,
   "metadata": {},
   "outputs": [
    {
     "data": {
      "text/plain": [
       "float16[0.5(0x3800), 0.7001953(0x399a), 0.9003906(0x3b34)]"
      ]
     },
     "execution_count": 14,
     "metadata": {},
     "output_type": "execute_result"
    }
   ],
   "source": [
    "f16([0.1, 0.2, 0.3]) + f16([0.4, 0.5, 0.6])"
   ]
  },
  {
   "cell_type": "code",
   "execution_count": 15,
   "metadata": {},
   "outputs": [
    {
     "data": {
      "text/plain": [
       "float16[3.140625(0x4248)]"
      ]
     },
     "execution_count": 15,
     "metadata": {},
     "output_type": "execute_result"
    }
   ],
   "source": [
    "f32(3.1415926).to(f16)"
   ]
  }
 ],
 "metadata": {
  "kernelspec": {
   "display_name": "base",
   "language": "python",
   "name": "python3"
  },
  "language_info": {
   "codemirror_mode": {
    "name": "ipython",
    "version": 3
   },
   "file_extension": ".py",
   "mimetype": "text/x-python",
   "name": "python",
   "nbconvert_exporter": "python",
   "pygments_lexer": "ipython3",
   "version": "3.1.undefined"
  }
 },
 "nbformat": 4,
 "nbformat_minor": 2
}
